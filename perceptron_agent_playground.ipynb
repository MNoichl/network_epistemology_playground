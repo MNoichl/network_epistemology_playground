{
 "cells": [
  {
   "cell_type": "code",
   "execution_count": 6,
   "metadata": {},
   "outputs": [
    {
     "name": "stdout",
     "output_type": "stream",
     "text": [
      "Prediction for input [2, 3]: 0.5\n"
     ]
    }
   ],
   "source": [
    "# I have a payground here where we use a 'perceptron' agent, which estimates the mean given successes and failures\n",
    "import numpy as np\n",
    "\n",
    "class Perceptron:\n",
    "    def __init__(self, input_size, learning_rate=0.01, epochs=1000):\n",
    "        self.weights = np.zeros(input_size + 1)  # +1 for bias\n",
    "        self.learning_rate = learning_rate\n",
    "        self.epochs = epochs\n",
    "\n",
    "    def activation_function(self, x):\n",
    "        return 1 / (1 + np.exp(-x))  # Sigmoid function\n",
    "\n",
    "    def predict(self, inputs):\n",
    "        summation = np.dot(inputs, self.weights[1:]) + self.weights[0]\n",
    "        return self.activation_function(summation)\n",
    "\n",
    "    def train(self, training_inputs, labels):\n",
    "        for _ in range(self.epochs):\n",
    "            for inputs, label in zip(training_inputs, labels):\n",
    "                prediction = self.predict(inputs)\n",
    "                error = label - prediction\n",
    "                self.weights[1:] += self.learning_rate * error * inputs\n",
    "                self.weights[0] += self.learning_rate * error\n",
    "\n",
    "# Example usage:\n",
    "if __name__ == \"__main__\":\n",
    "    # Initialize the perceptron\n",
    "    perceptron = Perceptron(input_size=2, learning_rate=0.1, epochs=1000)\n",
    "\n",
    "    # Training data (2 integers as inputs, float as output)\n",
    "    training_inputs = np.array([\n",
    "        [1, 2],\n",
    "        [2, 3],\n",
    "        [3, 4],\n",
    "        [4, 5]\n",
    "    ])\n",
    "    labels = np.array([0.5, 0.6, 0.7, 0.8])  # Example float outputs\n",
    "\n",
    "    # Train the perceptron\n",
    "    perceptron.train(training_inputs, labels)\n",
    "\n",
    "    # Test the perceptron\n",
    "    test_input = np.array([2, 3])\n",
    "    print(\"Prediction for input [2, 3]:\", perceptron.predict(test_input))"
   ]
  },
  {
   "cell_type": "code",
   "execution_count": 4,
   "metadata": {},
   "outputs": [
    {
     "data": {
      "text/plain": [
       "numpy.float64"
      ]
     },
     "execution_count": 4,
     "metadata": {},
     "output_type": "execute_result"
    }
   ],
   "source": [
    "type(perceptron.predict(test_input))"
   ]
  },
  {
   "cell_type": "code",
   "execution_count": null,
   "metadata": {},
   "outputs": [],
   "source": []
  }
 ],
 "metadata": {
  "kernelspec": {
   "display_name": "Python 3",
   "language": "python",
   "name": "python3"
  },
  "language_info": {
   "codemirror_mode": {
    "name": "ipython",
    "version": 3
   },
   "file_extension": ".py",
   "mimetype": "text/x-python",
   "name": "python",
   "nbconvert_exporter": "python",
   "pygments_lexer": "ipython3",
   "version": "3.10.7"
  }
 },
 "nbformat": 4,
 "nbformat_minor": 2
}
