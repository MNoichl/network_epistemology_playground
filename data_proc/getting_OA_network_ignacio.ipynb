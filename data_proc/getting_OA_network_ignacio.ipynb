{
 "cells": [
  {
   "cell_type": "markdown",
   "metadata": {},
   "source": [
    "# Setup"
   ]
  },
  {
   "cell_type": "code",
   "execution_count": 43,
   "metadata": {},
   "outputs": [],
   "source": [
    "# https://openalex.org/\n",
    "\n",
    "from pyalex import Works, Authors, Sources, Institutions, Concepts, Publishers, Funders\n",
    "import pyalex\n",
    "pyalex.config.email = \"maximilian.noichl@uni-bamberg.de\"\n",
    "\n",
    "from itertools import chain\n",
    "import tqdm.auto as tqdm\n",
    "import pandas as pd\n",
    "from compress_pickle import dump, load\n",
    "import networkx as nx\n",
    "import json\n",
    "\n"
   ]
  },
  {
   "cell_type": "markdown",
   "metadata": {},
   "source": [
    "# Get Perceptron Data"
   ]
  },
  {
   "cell_type": "code",
   "execution_count": 41,
   "metadata": {},
   "outputs": [],
   "source": [
    "query = Works().search(['Perceptron']).filter(publication_year=\"<1979\")\n",
    "records= []\n",
    "for record in chain(*query.paginate(per_page=200,n_max=None)):\n",
    "    records.append(record)\n",
    "    #print(len(records))\n",
    "\n"
   ]
  },
  {
   "cell_type": "code",
   "execution_count": 42,
   "metadata": {},
   "outputs": [
    {
     "name": "stdout",
     "output_type": "stream",
     "text": [
      "701\n",
      "Index(['id', 'doi', 'title', 'display_name', 'relevance_score',\n",
      "       'publication_year', 'publication_date', 'ids', 'language',\n",
      "       'primary_location', 'type', 'type_crossref', 'indexed_in',\n",
      "       'open_access', 'authorships', 'countries_distinct_count',\n",
      "       'institutions_distinct_count', 'corresponding_author_ids',\n",
      "       'corresponding_institution_ids', 'apc_list', 'apc_paid', 'has_fulltext',\n",
      "       'fulltext_origin', 'cited_by_count', 'cited_by_percentile_year',\n",
      "       'biblio', 'is_retracted', 'is_paratext', 'primary_topic', 'topics',\n",
      "       'keywords', 'concepts', 'mesh', 'locations_count', 'locations',\n",
      "       'best_oa_location', 'sustainable_development_goals', 'grants',\n",
      "       'datasets', 'versions', 'referenced_works_count', 'referenced_works',\n",
      "       'related_works', 'ngrams_url', 'abstract_inverted_index',\n",
      "       'cited_by_api_url', 'counts_by_year', 'updated_date', 'created_date'],\n",
      "      dtype='object')\n",
      "[{'author_position': 'first', 'author': {'id': 'https://openalex.org/A5076896748', 'display_name': 'Frank F. Rosenblatt', 'orcid': None}, 'institutions': [], 'countries': [], 'is_corresponding': True, 'raw_author_name': 'F. Rosenblatt', 'raw_affiliation_strings': []}]\n",
      "['https://openalex.org/W1570445666', 'https://openalex.org/W1995341919', 'https://openalex.org/W2042559059', 'https://openalex.org/W2043486465', 'https://openalex.org/W2065389787', 'https://openalex.org/W2078200762', 'https://openalex.org/W2126451342', 'https://openalex.org/W22297218', 'https://openalex.org/W2319567444', 'https://openalex.org/W2476597994', 'https://openalex.org/W2495102332', 'https://openalex.org/W2495558415', 'https://openalex.org/W2497735908', 'https://openalex.org/W3027165077', 'https://openalex.org/W3203988787']\n"
     ]
    }
   ],
   "source": [
    "df = pd.DataFrame(records)\n",
    "print(len(df))\n",
    "print(df.columns)\n",
    "print(df['authorships'][0])\n",
    "print(df['referenced_works'][0])"
   ]
  },
  {
   "cell_type": "markdown",
   "metadata": {},
   "source": [
    "# Network of Articles"
   ]
  },
  {
   "cell_type": "code",
   "execution_count": 44,
   "metadata": {},
   "outputs": [
    {
     "name": "stdout",
     "output_type": "stream",
     "text": [
      "Nodes in the network:\n",
      "4961\n",
      "Edges in the network:\n",
      "7221\n"
     ]
    }
   ],
   "source": [
    "# Create a directed graph\n",
    "G = nx.DiGraph()\n",
    "\n",
    "# Add nodes and edges\n",
    "for ix,item in df.iterrows():\n",
    "    G.add_node(item[\"id\"])  # Add each work as a node\n",
    "    for related in item[\"related_works\"]:\n",
    "        G.add_edge(item[\"id\"], related)  # Create an edge from this work to each related work\n",
    "\n",
    "# Optionally, you can print the nodes and edges to verify\n",
    "print(\"Nodes in the network:\")\n",
    "print(len(G.nodes()))\n",
    "print(\"Edges in the network:\")\n",
    "print(len(G.edges()))"
   ]
  },
  {
   "cell_type": "markdown",
   "metadata": {},
   "source": [
    "# Network of Authors"
   ]
  },
  {
   "cell_type": "code",
   "execution_count": null,
   "metadata": {},
   "outputs": [],
   "source": [
    "# Create a directed graph\n",
    "G = nx.DiGraph()\n",
    "\n",
    "# Add nodes and edges\n",
    "for ix,item in df.iterrows():\n",
    "    authors = []\n",
    "    for au in item['authorships']:\n",
    "        aut_id = au['author']['id']\n",
    "        G.add_node(aut_id)\n",
    "        aurhors.append(aut_id)\n",
    "    ref_articles_list = item['referenced_works']\n",
    "    ref_authos_series = pd.DataFrame(Works()[ref_articles_list])['authorships']\n",
    "    referenced_authors = []\n",
    "    for ref_au in ref_authos_series:\n",
    "        ref_aut_id = ref_au['author']['id']\n",
    "        G.add_node(ref_aut_id)\n",
    "        referenced_authors.append(aut_id)\n",
    "    "
   ]
  },
  {
   "cell_type": "code",
   "execution_count": 45,
   "metadata": {},
   "outputs": [
    {
     "name": "stdout",
     "output_type": "stream",
     "text": [
      "['https://openalex.org/W1570445666', 'https://openalex.org/W1995341919', 'https://openalex.org/W2042559059', 'https://openalex.org/W2043486465', 'https://openalex.org/W2065389787', 'https://openalex.org/W2078200762', 'https://openalex.org/W2126451342', 'https://openalex.org/W22297218', 'https://openalex.org/W2319567444', 'https://openalex.org/W2476597994', 'https://openalex.org/W2495102332', 'https://openalex.org/W2495558415', 'https://openalex.org/W2497735908', 'https://openalex.org/W3027165077', 'https://openalex.org/W3203988787']\n"
     ]
    }
   ],
   "source": [
    "# Need to generate a network of authors.\n",
    "referenced_list = df['referenced_works'][0]\n",
    "print(referenced_list)\n",
    "# Create a query with the specified search terms\n",
    "query1 = Works().search(referenced_list)"
   ]
  },
  {
   "cell_type": "code",
   "execution_count": 55,
   "metadata": {},
   "outputs": [
    {
     "name": "stdout",
     "output_type": "stream",
     "text": [
      "[{'author_position': 'first', 'author': {'id': 'https://openalex.org/A5081639634', 'display_name': 'Warren S. McCulloch', 'orcid': None}, 'institutions': [{'id': 'https://openalex.org/I16820183', 'display_name': 'Illinois College', 'ror': 'https://ror.org/02ys5x139', 'country_code': 'US', 'type': 'education', 'lineage': ['https://openalex.org/I16820183']}, {'id': 'https://openalex.org/I157725225', 'display_name': 'University of Illinois Urbana-Champaign', 'ror': 'https://ror.org/047426m28', 'country_code': 'US', 'type': 'education', 'lineage': ['https://openalex.org/I157725225']}], 'countries': ['US'], 'is_corresponding': False, 'raw_author_name': 'Warren S. McCulloch', 'raw_affiliation_strings': ['College of Medicine, Department of Psychiatry at the Illinois Neuropsychiatric Institute, University of Illinois, Illinois, USA']}, {'author_position': 'last', 'author': {'id': 'https://openalex.org/A5046307815', 'display_name': 'Walter Pitts', 'orcid': None}, 'institutions': [{'id': 'https://openalex.org/I40347166', 'display_name': 'University of Chicago', 'ror': 'https://ror.org/024mw5h28', 'country_code': 'US', 'type': 'education', 'lineage': ['https://openalex.org/I40347166']}], 'countries': ['US'], 'is_corresponding': False, 'raw_author_name': 'Walter Pitts', 'raw_affiliation_strings': ['The University of Chicago, Chicago, USA']}]\n",
      "[{'author_position': 'first', 'author': {'id': 'https://openalex.org/A5023769461', 'display_name': 'D. O. Hebb', 'orcid': None}, 'institutions': [], 'countries': [], 'is_corresponding': True, 'raw_author_name': 'Donald O. Hebb', 'raw_affiliation_strings': []}]\n",
      "[{'author_position': 'first', 'author': {'id': 'https://openalex.org/A5075484704', 'display_name': 'Stephen C Kleene', 'orcid': None}, 'institutions': [], 'countries': [], 'is_corresponding': True, 'raw_author_name': 'S. C. Kleene', 'raw_affiliation_strings': []}]\n",
      "[{'author_position': 'first', 'author': {'id': 'https://openalex.org/A5072157468', 'display_name': 'John von Neumann', 'orcid': None}, 'institutions': [], 'countries': [], 'is_corresponding': True, 'raw_author_name': 'John Von Neumann', 'raw_affiliation_strings': []}]\n",
      "[{'author_position': 'first', 'author': {'id': 'https://openalex.org/A5025783511', 'display_name': 'W. Ross Ashby', 'orcid': None}, 'institutions': [], 'countries': [], 'is_corresponding': True, 'raw_author_name': 'William Ross Ashby', 'raw_affiliation_strings': []}]\n",
      "[{'author_position': 'first', 'author': {'id': 'https://openalex.org/A5076476635', 'display_name': 'Kurt Goldstein', 'orcid': None}, 'institutions': [], 'countries': [], 'is_corresponding': True, 'raw_author_name': 'Kurt Goldstein', 'raw_affiliation_strings': []}]\n",
      "[{'author_position': 'first', 'author': {'id': 'https://openalex.org/A5026607998', 'display_name': 'Peter M. Milner', 'orcid': 'https://orcid.org/0000-0002-5293-2438'}, 'institutions': [], 'countries': [], 'is_corresponding': True, 'raw_author_name': 'P. M. Milner', 'raw_affiliation_strings': []}]\n",
      "[{'author_position': 'first', 'author': {'id': 'https://openalex.org/A5047475544', 'display_name': 'Martha Kneale', 'orcid': None}, 'institutions': [], 'countries': [], 'is_corresponding': True, 'raw_author_name': 'Martha Kneale', 'raw_affiliation_strings': []}, {'author_position': 'last', 'author': {'id': 'https://openalex.org/A5010904858', 'display_name': 'Friedrich A. von Hayek', 'orcid': None}, 'institutions': [], 'countries': [], 'is_corresponding': False, 'raw_author_name': 'F. A. Hayek', 'raw_affiliation_strings': []}]\n",
      "[{'author_position': 'first', 'author': {'id': 'https://openalex.org/A5075719072', 'display_name': 'H. A. L.', 'orcid': None}, 'institutions': [], 'countries': [], 'is_corresponding': False, 'raw_author_name': 'H. A. L.', 'raw_affiliation_strings': []}, {'author_position': 'last', 'author': {'id': 'https://openalex.org/A5076476635', 'display_name': 'Kurt Goldstein', 'orcid': None}, 'institutions': [], 'countries': [], 'is_corresponding': False, 'raw_author_name': 'Kurt Goldstein', 'raw_affiliation_strings': []}]\n",
      "[{'author_position': 'first', 'author': {'id': 'https://openalex.org/A5081639634', 'display_name': 'Warren S. McCulloch', 'orcid': None}, 'institutions': [], 'countries': [], 'is_corresponding': True, 'raw_author_name': 'Warren S. McCulloch', 'raw_affiliation_strings': []}]\n",
      "[{'author_position': 'first', 'author': {'id': 'https://openalex.org/A5089826363', 'display_name': 'Marvin Minsky', 'orcid': None}, 'institutions': [], 'countries': [], 'is_corresponding': True, 'raw_author_name': 'M. L. Minsky', 'raw_affiliation_strings': []}]\n",
      "[{'author_position': 'first', 'author': {'id': 'https://openalex.org/A5024590051', 'display_name': 'A.M. Uttley', 'orcid': None}, 'institutions': [], 'countries': [], 'is_corresponding': True, 'raw_author_name': 'Albert M. Uttley', 'raw_affiliation_strings': []}]\n",
      "[{'author_position': 'first', 'author': {'id': 'https://openalex.org/A5053247502', 'display_name': 'James T. Culbertson', 'orcid': None}, 'institutions': [], 'countries': [], 'is_corresponding': True, 'raw_author_name': 'James T. Culbertson', 'raw_affiliation_strings': []}]\n",
      "[{'author_position': 'first', 'author': {'id': 'https://openalex.org/A5085391371', 'display_name': 'D. M. Mackay', 'orcid': None}, 'institutions': [], 'countries': [], 'is_corresponding': False, 'raw_author_name': 'Donald M. MacKay', 'raw_affiliation_strings': []}, {'author_position': 'last', 'author': {'id': 'https://openalex.org/A5053247502', 'display_name': 'James T. Culbertson', 'orcid': None}, 'institutions': [], 'countries': [], 'is_corresponding': False, 'raw_author_name': 'James T. Culbertson', 'raw_affiliation_strings': []}]\n"
     ]
    }
   ],
   "source": [
    "ref_authos_series = pd.DataFrame(Works()[referenced_list])['authorships']\n",
    "for refaut in ref_authos_series:\n",
    "    print(refaut)"
   ]
  },
  {
   "cell_type": "code",
   "execution_count": 48,
   "metadata": {},
   "outputs": [
    {
     "name": "stdout",
     "output_type": "stream",
     "text": [
      "0\n"
     ]
    },
    {
     "data": {
      "text/html": [
       "<div>\n",
       "<style scoped>\n",
       "    .dataframe tbody tr th:only-of-type {\n",
       "        vertical-align: middle;\n",
       "    }\n",
       "\n",
       "    .dataframe tbody tr th {\n",
       "        vertical-align: top;\n",
       "    }\n",
       "\n",
       "    .dataframe thead th {\n",
       "        text-align: right;\n",
       "    }\n",
       "</style>\n",
       "<table border=\"1\" class=\"dataframe\">\n",
       "  <thead>\n",
       "    <tr style=\"text-align: right;\">\n",
       "      <th></th>\n",
       "    </tr>\n",
       "  </thead>\n",
       "  <tbody>\n",
       "  </tbody>\n",
       "</table>\n",
       "</div>"
      ],
      "text/plain": [
       "Empty DataFrame\n",
       "Columns: []\n",
       "Index: []"
      ]
     },
     "execution_count": 48,
     "metadata": {},
     "output_type": "execute_result"
    }
   ],
   "source": [
    "records= []\n",
    "for record in chain(*query1.paginate(per_page=200,n_max=None)):\n",
    "    records.append(record)\n",
    "    \n",
    "df = pd.DataFrame(records)\n",
    "print(len(df))\n",
    "df.head()"
   ]
  },
  {
   "cell_type": "code",
   "execution_count": 38,
   "metadata": {},
   "outputs": [
    {
     "name": "stdout",
     "output_type": "stream",
     "text": [
      "14\n"
     ]
    },
    {
     "data": {
      "text/html": [
       "<div>\n",
       "<style scoped>\n",
       "    .dataframe tbody tr th:only-of-type {\n",
       "        vertical-align: middle;\n",
       "    }\n",
       "\n",
       "    .dataframe tbody tr th {\n",
       "        vertical-align: top;\n",
       "    }\n",
       "\n",
       "    .dataframe thead th {\n",
       "        text-align: right;\n",
       "    }\n",
       "</style>\n",
       "<table border=\"1\" class=\"dataframe\">\n",
       "  <thead>\n",
       "    <tr style=\"text-align: right;\">\n",
       "      <th></th>\n",
       "      <th>id</th>\n",
       "      <th>doi</th>\n",
       "      <th>title</th>\n",
       "      <th>display_name</th>\n",
       "      <th>publication_year</th>\n",
       "      <th>publication_date</th>\n",
       "      <th>ids</th>\n",
       "      <th>language</th>\n",
       "      <th>primary_location</th>\n",
       "      <th>type</th>\n",
       "      <th>...</th>\n",
       "      <th>versions</th>\n",
       "      <th>referenced_works_count</th>\n",
       "      <th>referenced_works</th>\n",
       "      <th>related_works</th>\n",
       "      <th>ngrams_url</th>\n",
       "      <th>abstract_inverted_index</th>\n",
       "      <th>cited_by_api_url</th>\n",
       "      <th>counts_by_year</th>\n",
       "      <th>updated_date</th>\n",
       "      <th>created_date</th>\n",
       "    </tr>\n",
       "  </thead>\n",
       "  <tbody>\n",
       "    <tr>\n",
       "      <th>0</th>\n",
       "      <td>https://openalex.org/W1995341919</td>\n",
       "      <td>https://doi.org/10.1007/bf02478259</td>\n",
       "      <td>A logical calculus of the ideas immanent in ne...</td>\n",
       "      <td>A logical calculus of the ideas immanent in ne...</td>\n",
       "      <td>1943</td>\n",
       "      <td>1943-12-01</td>\n",
       "      <td>{'openalex': 'https://openalex.org/W1995341919...</td>\n",
       "      <td>en</td>\n",
       "      <td>{'is_oa': False, 'landing_page_url': 'https://...</td>\n",
       "      <td>article</td>\n",
       "      <td>...</td>\n",
       "      <td>[]</td>\n",
       "      <td>1</td>\n",
       "      <td>[https://openalex.org/W1976549967]</td>\n",
       "      <td>[https://openalex.org/W4283810044, https://ope...</td>\n",
       "      <td>https://api.openalex.org/works/W1995341919/ngrams</td>\n",
       "      <td>None</td>\n",
       "      <td>https://api.openalex.org/works?filter=cites:W1...</td>\n",
       "      <td>[{'year': 2024, 'cited_by_count': 445}, {'year...</td>\n",
       "      <td>2024-06-01T09:12:27.218168</td>\n",
       "      <td>2016-06-24</td>\n",
       "    </tr>\n",
       "    <tr>\n",
       "      <th>1</th>\n",
       "      <td>https://openalex.org/W22297218</td>\n",
       "      <td>None</td>\n",
       "      <td>The organization of behavior</td>\n",
       "      <td>The organization of behavior</td>\n",
       "      <td>1988</td>\n",
       "      <td>1988-01-01</td>\n",
       "      <td>{'openalex': 'https://openalex.org/W22297218',...</td>\n",
       "      <td>en</td>\n",
       "      <td>{'is_oa': False, 'landing_page_url': 'http://d...</td>\n",
       "      <td>book</td>\n",
       "      <td>...</td>\n",
       "      <td>[]</td>\n",
       "      <td>0</td>\n",
       "      <td>[]</td>\n",
       "      <td>[https://openalex.org/W3207342693, https://ope...</td>\n",
       "      <td>https://api.openalex.org/works/W22297218/ngrams</td>\n",
       "      <td>None</td>\n",
       "      <td>https://api.openalex.org/works?filter=cites:W2...</td>\n",
       "      <td>[{'year': 2023, 'cited_by_count': 2}, {'year':...</td>\n",
       "      <td>2024-05-31T00:37:18.564379</td>\n",
       "      <td>2016-06-24</td>\n",
       "    </tr>\n",
       "    <tr>\n",
       "      <th>2</th>\n",
       "      <td>https://openalex.org/W1570445666</td>\n",
       "      <td>https://doi.org/10.1515/9781400882618-002</td>\n",
       "      <td>Representation of Events in Nerve Nets and Fin...</td>\n",
       "      <td>Representation of Events in Nerve Nets and Fin...</td>\n",
       "      <td>1956</td>\n",
       "      <td>1956-12-31</td>\n",
       "      <td>{'openalex': 'https://openalex.org/W1570445666...</td>\n",
       "      <td>en</td>\n",
       "      <td>{'is_oa': False, 'landing_page_url': 'https://...</td>\n",
       "      <td>book-chapter</td>\n",
       "      <td>...</td>\n",
       "      <td>[]</td>\n",
       "      <td>0</td>\n",
       "      <td>[]</td>\n",
       "      <td>[https://openalex.org/W2748952813, https://ope...</td>\n",
       "      <td>https://api.openalex.org/works/W1570445666/ngrams</td>\n",
       "      <td>{'An': [0], 'elementary': [1], 'exposition': [...</td>\n",
       "      <td>https://api.openalex.org/works?filter=cites:W1...</td>\n",
       "      <td>[{'year': 2024, 'cited_by_count': 14}, {'year'...</td>\n",
       "      <td>2024-05-26T00:44:39.624426</td>\n",
       "      <td>2016-06-24</td>\n",
       "    </tr>\n",
       "    <tr>\n",
       "      <th>3</th>\n",
       "      <td>https://openalex.org/W2497735908</td>\n",
       "      <td>None</td>\n",
       "      <td>Probabilistic Logic and the Synthesis of Relia...</td>\n",
       "      <td>Probabilistic Logic and the Synthesis of Relia...</td>\n",
       "      <td>1956</td>\n",
       "      <td>1956-01-01</td>\n",
       "      <td>{'openalex': 'https://openalex.org/W2497735908...</td>\n",
       "      <td>en</td>\n",
       "      <td>{'is_oa': False, 'landing_page_url': 'https://...</td>\n",
       "      <td>article</td>\n",
       "      <td>...</td>\n",
       "      <td>[]</td>\n",
       "      <td>2</td>\n",
       "      <td>[https://openalex.org/W1995341919, https://ope...</td>\n",
       "      <td>[https://openalex.org/W2169213530, https://ope...</td>\n",
       "      <td>https://api.openalex.org/works/W2497735908/ngrams</td>\n",
       "      <td>None</td>\n",
       "      <td>https://api.openalex.org/works?filter=cites:W2...</td>\n",
       "      <td>[{'year': 2023, 'cited_by_count': 2}, {'year':...</td>\n",
       "      <td>2024-05-16T20:00:37.921933</td>\n",
       "      <td>2016-08-23</td>\n",
       "    </tr>\n",
       "    <tr>\n",
       "      <th>4</th>\n",
       "      <td>https://openalex.org/W2126451342</td>\n",
       "      <td>None</td>\n",
       "      <td>Design for a Brain</td>\n",
       "      <td>Design for a Brain</td>\n",
       "      <td>1952</td>\n",
       "      <td>1952-01-01</td>\n",
       "      <td>{'openalex': 'https://openalex.org/W2126451342...</td>\n",
       "      <td>en</td>\n",
       "      <td>{'is_oa': False, 'landing_page_url': 'http://c...</td>\n",
       "      <td>book</td>\n",
       "      <td>...</td>\n",
       "      <td>[]</td>\n",
       "      <td>0</td>\n",
       "      <td>[]</td>\n",
       "      <td>[https://openalex.org/W3207342693, https://ope...</td>\n",
       "      <td>https://api.openalex.org/works/W2126451342/ngrams</td>\n",
       "      <td>{'Brain.': [0], 'By': [1], 'W.': [2], 'Ross': ...</td>\n",
       "      <td>https://api.openalex.org/works?filter=cites:W2...</td>\n",
       "      <td>[{'year': 2022, 'cited_by_count': 1}, {'year':...</td>\n",
       "      <td>2024-05-21T06:10:47.407532</td>\n",
       "      <td>2016-06-24</td>\n",
       "    </tr>\n",
       "  </tbody>\n",
       "</table>\n",
       "<p>5 rows × 48 columns</p>\n",
       "</div>"
      ],
      "text/plain": [
       "                                 id  \\\n",
       "0  https://openalex.org/W1995341919   \n",
       "1    https://openalex.org/W22297218   \n",
       "2  https://openalex.org/W1570445666   \n",
       "3  https://openalex.org/W2497735908   \n",
       "4  https://openalex.org/W2126451342   \n",
       "\n",
       "                                         doi  \\\n",
       "0         https://doi.org/10.1007/bf02478259   \n",
       "1                                       None   \n",
       "2  https://doi.org/10.1515/9781400882618-002   \n",
       "3                                       None   \n",
       "4                                       None   \n",
       "\n",
       "                                               title  \\\n",
       "0  A logical calculus of the ideas immanent in ne...   \n",
       "1                       The organization of behavior   \n",
       "2  Representation of Events in Nerve Nets and Fin...   \n",
       "3  Probabilistic Logic and the Synthesis of Relia...   \n",
       "4                                 Design for a Brain   \n",
       "\n",
       "                                        display_name  publication_year  \\\n",
       "0  A logical calculus of the ideas immanent in ne...              1943   \n",
       "1                       The organization of behavior              1988   \n",
       "2  Representation of Events in Nerve Nets and Fin...              1956   \n",
       "3  Probabilistic Logic and the Synthesis of Relia...              1956   \n",
       "4                                 Design for a Brain              1952   \n",
       "\n",
       "  publication_date                                                ids  \\\n",
       "0       1943-12-01  {'openalex': 'https://openalex.org/W1995341919...   \n",
       "1       1988-01-01  {'openalex': 'https://openalex.org/W22297218',...   \n",
       "2       1956-12-31  {'openalex': 'https://openalex.org/W1570445666...   \n",
       "3       1956-01-01  {'openalex': 'https://openalex.org/W2497735908...   \n",
       "4       1952-01-01  {'openalex': 'https://openalex.org/W2126451342...   \n",
       "\n",
       "  language                                   primary_location          type  \\\n",
       "0       en  {'is_oa': False, 'landing_page_url': 'https://...       article   \n",
       "1       en  {'is_oa': False, 'landing_page_url': 'http://d...          book   \n",
       "2       en  {'is_oa': False, 'landing_page_url': 'https://...  book-chapter   \n",
       "3       en  {'is_oa': False, 'landing_page_url': 'https://...       article   \n",
       "4       en  {'is_oa': False, 'landing_page_url': 'http://c...          book   \n",
       "\n",
       "   ... versions referenced_works_count  \\\n",
       "0  ...       []                      1   \n",
       "1  ...       []                      0   \n",
       "2  ...       []                      0   \n",
       "3  ...       []                      2   \n",
       "4  ...       []                      0   \n",
       "\n",
       "                                    referenced_works  \\\n",
       "0                 [https://openalex.org/W1976549967]   \n",
       "1                                                 []   \n",
       "2                                                 []   \n",
       "3  [https://openalex.org/W1995341919, https://ope...   \n",
       "4                                                 []   \n",
       "\n",
       "                                       related_works  \\\n",
       "0  [https://openalex.org/W4283810044, https://ope...   \n",
       "1  [https://openalex.org/W3207342693, https://ope...   \n",
       "2  [https://openalex.org/W2748952813, https://ope...   \n",
       "3  [https://openalex.org/W2169213530, https://ope...   \n",
       "4  [https://openalex.org/W3207342693, https://ope...   \n",
       "\n",
       "                                          ngrams_url  \\\n",
       "0  https://api.openalex.org/works/W1995341919/ngrams   \n",
       "1    https://api.openalex.org/works/W22297218/ngrams   \n",
       "2  https://api.openalex.org/works/W1570445666/ngrams   \n",
       "3  https://api.openalex.org/works/W2497735908/ngrams   \n",
       "4  https://api.openalex.org/works/W2126451342/ngrams   \n",
       "\n",
       "                             abstract_inverted_index  \\\n",
       "0                                               None   \n",
       "1                                               None   \n",
       "2  {'An': [0], 'elementary': [1], 'exposition': [...   \n",
       "3                                               None   \n",
       "4  {'Brain.': [0], 'By': [1], 'W.': [2], 'Ross': ...   \n",
       "\n",
       "                                    cited_by_api_url  \\\n",
       "0  https://api.openalex.org/works?filter=cites:W1...   \n",
       "1  https://api.openalex.org/works?filter=cites:W2...   \n",
       "2  https://api.openalex.org/works?filter=cites:W1...   \n",
       "3  https://api.openalex.org/works?filter=cites:W2...   \n",
       "4  https://api.openalex.org/works?filter=cites:W2...   \n",
       "\n",
       "                                      counts_by_year  \\\n",
       "0  [{'year': 2024, 'cited_by_count': 445}, {'year...   \n",
       "1  [{'year': 2023, 'cited_by_count': 2}, {'year':...   \n",
       "2  [{'year': 2024, 'cited_by_count': 14}, {'year'...   \n",
       "3  [{'year': 2023, 'cited_by_count': 2}, {'year':...   \n",
       "4  [{'year': 2022, 'cited_by_count': 1}, {'year':...   \n",
       "\n",
       "                 updated_date created_date  \n",
       "0  2024-06-01T09:12:27.218168   2016-06-24  \n",
       "1  2024-05-31T00:37:18.564379   2016-06-24  \n",
       "2  2024-05-26T00:44:39.624426   2016-06-24  \n",
       "3  2024-05-16T20:00:37.921933   2016-08-23  \n",
       "4  2024-05-21T06:10:47.407532   2016-06-24  \n",
       "\n",
       "[5 rows x 48 columns]"
      ]
     },
     "execution_count": 38,
     "metadata": {},
     "output_type": "execute_result"
    }
   ],
   "source": [
    "aver = Works()[referenced_list]\n",
    "df = pd.DataFrame(aver)\n",
    "print(len(df))\n",
    "df.head()"
   ]
  },
  {
   "cell_type": "code",
   "execution_count": 39,
   "metadata": {},
   "outputs": [
    {
     "ename": "KeyboardInterrupt",
     "evalue": "",
     "output_type": "error",
     "traceback": [
      "\u001b[0;31m---------------------------------------------------------------------------\u001b[0m",
      "\u001b[0;31mKeyboardInterrupt\u001b[0m                         Traceback (most recent call last)",
      "Cell \u001b[0;32mIn[39], line 4\u001b[0m\n\u001b[1;32m      1\u001b[0m \u001b[38;5;66;03m# If you need to visualize the network\u001b[39;00m\n\u001b[1;32m      2\u001b[0m \u001b[38;5;28;01mimport\u001b[39;00m \u001b[38;5;21;01mmatplotlib\u001b[39;00m\u001b[38;5;21;01m.\u001b[39;00m\u001b[38;5;21;01mpyplot\u001b[39;00m \u001b[38;5;28;01mas\u001b[39;00m \u001b[38;5;21;01mplt\u001b[39;00m\n\u001b[0;32m----> 4\u001b[0m \u001b[43mnx\u001b[49m\u001b[38;5;241;43m.\u001b[39;49m\u001b[43mdraw\u001b[49m\u001b[43m(\u001b[49m\u001b[43mG\u001b[49m\u001b[43m,\u001b[49m\u001b[43m \u001b[49m\u001b[43mwith_labels\u001b[49m\u001b[38;5;241;43m=\u001b[39;49m\u001b[38;5;28;43;01mTrue\u001b[39;49;00m\u001b[43m)\u001b[49m\n\u001b[1;32m      5\u001b[0m plt\u001b[38;5;241m.\u001b[39mshow()\n",
      "File \u001b[0;32m~/anaconda3/lib/python3.10/site-packages/networkx/drawing/nx_pylab.py:121\u001b[0m, in \u001b[0;36mdraw\u001b[0;34m(G, pos, ax, **kwds)\u001b[0m\n\u001b[1;32m    118\u001b[0m \u001b[38;5;28;01mif\u001b[39;00m \u001b[38;5;124m\"\u001b[39m\u001b[38;5;124mwith_labels\u001b[39m\u001b[38;5;124m\"\u001b[39m \u001b[38;5;129;01mnot\u001b[39;00m \u001b[38;5;129;01min\u001b[39;00m kwds:\n\u001b[1;32m    119\u001b[0m     kwds[\u001b[38;5;124m\"\u001b[39m\u001b[38;5;124mwith_labels\u001b[39m\u001b[38;5;124m\"\u001b[39m] \u001b[38;5;241m=\u001b[39m \u001b[38;5;124m\"\u001b[39m\u001b[38;5;124mlabels\u001b[39m\u001b[38;5;124m\"\u001b[39m \u001b[38;5;129;01min\u001b[39;00m kwds\n\u001b[0;32m--> 121\u001b[0m \u001b[43mdraw_networkx\u001b[49m\u001b[43m(\u001b[49m\u001b[43mG\u001b[49m\u001b[43m,\u001b[49m\u001b[43m \u001b[49m\u001b[43mpos\u001b[49m\u001b[38;5;241;43m=\u001b[39;49m\u001b[43mpos\u001b[49m\u001b[43m,\u001b[49m\u001b[43m \u001b[49m\u001b[43max\u001b[49m\u001b[38;5;241;43m=\u001b[39;49m\u001b[43max\u001b[49m\u001b[43m,\u001b[49m\u001b[43m \u001b[49m\u001b[38;5;241;43m*\u001b[39;49m\u001b[38;5;241;43m*\u001b[39;49m\u001b[43mkwds\u001b[49m\u001b[43m)\u001b[49m\n\u001b[1;32m    122\u001b[0m ax\u001b[38;5;241m.\u001b[39mset_axis_off()\n\u001b[1;32m    123\u001b[0m plt\u001b[38;5;241m.\u001b[39mdraw_if_interactive()\n",
      "File \u001b[0;32m~/anaconda3/lib/python3.10/site-packages/networkx/drawing/nx_pylab.py:301\u001b[0m, in \u001b[0;36mdraw_networkx\u001b[0;34m(G, pos, arrows, with_labels, **kwds)\u001b[0m\n\u001b[1;32m    298\u001b[0m label_kwds \u001b[38;5;241m=\u001b[39m {k: v \u001b[38;5;28;01mfor\u001b[39;00m k, v \u001b[38;5;129;01min\u001b[39;00m kwds\u001b[38;5;241m.\u001b[39mitems() \u001b[38;5;28;01mif\u001b[39;00m k \u001b[38;5;129;01min\u001b[39;00m valid_label_kwds}\n\u001b[1;32m    300\u001b[0m \u001b[38;5;28;01mif\u001b[39;00m pos \u001b[38;5;129;01mis\u001b[39;00m \u001b[38;5;28;01mNone\u001b[39;00m:\n\u001b[0;32m--> 301\u001b[0m     pos \u001b[38;5;241m=\u001b[39m \u001b[43mnx\u001b[49m\u001b[38;5;241;43m.\u001b[39;49m\u001b[43mdrawing\u001b[49m\u001b[38;5;241;43m.\u001b[39;49m\u001b[43mspring_layout\u001b[49m\u001b[43m(\u001b[49m\u001b[43mG\u001b[49m\u001b[43m)\u001b[49m  \u001b[38;5;66;03m# default to spring layout\u001b[39;00m\n\u001b[1;32m    303\u001b[0m draw_networkx_nodes(G, pos, \u001b[38;5;241m*\u001b[39m\u001b[38;5;241m*\u001b[39mnode_kwds)\n\u001b[1;32m    304\u001b[0m draw_networkx_edges(G, pos, arrows\u001b[38;5;241m=\u001b[39marrows, \u001b[38;5;241m*\u001b[39m\u001b[38;5;241m*\u001b[39medge_kwds)\n",
      "File \u001b[0;32m<class 'networkx.utils.decorators.argmap'> compilation 4:4\u001b[0m, in \u001b[0;36margmap_spring_layout_1\u001b[0;34m(G, k, pos, fixed, iterations, threshold, weight, scale, center, dim, seed)\u001b[0m\n\u001b[1;32m      2\u001b[0m \u001b[38;5;28;01mimport\u001b[39;00m \u001b[38;5;21;01mcollections\u001b[39;00m\n\u001b[1;32m      3\u001b[0m \u001b[38;5;28;01mimport\u001b[39;00m \u001b[38;5;21;01mgzip\u001b[39;00m\n\u001b[0;32m----> 4\u001b[0m \u001b[38;5;28;01mimport\u001b[39;00m \u001b[38;5;21;01minspect\u001b[39;00m\n\u001b[1;32m      5\u001b[0m \u001b[38;5;28;01mimport\u001b[39;00m \u001b[38;5;21;01mitertools\u001b[39;00m\n\u001b[1;32m      6\u001b[0m \u001b[38;5;28;01mimport\u001b[39;00m \u001b[38;5;21;01mre\u001b[39;00m\n",
      "File \u001b[0;32m~/anaconda3/lib/python3.10/site-packages/networkx/drawing/layout.py:482\u001b[0m, in \u001b[0;36mspring_layout\u001b[0;34m(G, k, pos, fixed, iterations, threshold, weight, scale, center, dim, seed)\u001b[0m\n\u001b[1;32m    480\u001b[0m         nnodes, _ \u001b[38;5;241m=\u001b[39m A\u001b[38;5;241m.\u001b[39mshape\n\u001b[1;32m    481\u001b[0m         k \u001b[38;5;241m=\u001b[39m dom_size \u001b[38;5;241m/\u001b[39m np\u001b[38;5;241m.\u001b[39msqrt(nnodes)\n\u001b[0;32m--> 482\u001b[0m     pos \u001b[38;5;241m=\u001b[39m \u001b[43m_sparse_fruchterman_reingold\u001b[49m\u001b[43m(\u001b[49m\n\u001b[1;32m    483\u001b[0m \u001b[43m        \u001b[49m\u001b[43mA\u001b[49m\u001b[43m,\u001b[49m\u001b[43m \u001b[49m\u001b[43mk\u001b[49m\u001b[43m,\u001b[49m\u001b[43m \u001b[49m\u001b[43mpos_arr\u001b[49m\u001b[43m,\u001b[49m\u001b[43m \u001b[49m\u001b[43mfixed\u001b[49m\u001b[43m,\u001b[49m\u001b[43m \u001b[49m\u001b[43miterations\u001b[49m\u001b[43m,\u001b[49m\u001b[43m \u001b[49m\u001b[43mthreshold\u001b[49m\u001b[43m,\u001b[49m\u001b[43m \u001b[49m\u001b[43mdim\u001b[49m\u001b[43m,\u001b[49m\u001b[43m \u001b[49m\u001b[43mseed\u001b[49m\n\u001b[1;32m    484\u001b[0m \u001b[43m    \u001b[49m\u001b[43m)\u001b[49m\n\u001b[1;32m    485\u001b[0m \u001b[38;5;28;01mexcept\u001b[39;00m \u001b[38;5;167;01mValueError\u001b[39;00m:\n\u001b[1;32m    486\u001b[0m     A \u001b[38;5;241m=\u001b[39m nx\u001b[38;5;241m.\u001b[39mto_numpy_array(G, weight\u001b[38;5;241m=\u001b[39mweight)\n",
      "File \u001b[0;32m<class 'networkx.utils.decorators.argmap'> compilation 8:4\u001b[0m, in \u001b[0;36margmap__sparse_fruchterman_reingold_5\u001b[0;34m(A, k, pos, fixed, iterations, threshold, dim, seed)\u001b[0m\n\u001b[1;32m      2\u001b[0m \u001b[38;5;28;01mimport\u001b[39;00m \u001b[38;5;21;01mcollections\u001b[39;00m\n\u001b[1;32m      3\u001b[0m \u001b[38;5;28;01mimport\u001b[39;00m \u001b[38;5;21;01mgzip\u001b[39;00m\n\u001b[0;32m----> 4\u001b[0m \u001b[38;5;28;01mimport\u001b[39;00m \u001b[38;5;21;01minspect\u001b[39;00m\n\u001b[1;32m      5\u001b[0m \u001b[38;5;28;01mimport\u001b[39;00m \u001b[38;5;21;01mitertools\u001b[39;00m\n\u001b[1;32m      6\u001b[0m \u001b[38;5;28;01mimport\u001b[39;00m \u001b[38;5;21;01mre\u001b[39;00m\n",
      "File \u001b[0;32m~/anaconda3/lib/python3.10/site-packages/networkx/drawing/layout.py:624\u001b[0m, in \u001b[0;36m_sparse_fruchterman_reingold\u001b[0;34m(A, k, pos, fixed, iterations, threshold, dim, seed)\u001b[0m\n\u001b[1;32m    622\u001b[0m     Ai \u001b[38;5;241m=\u001b[39m A\u001b[38;5;241m.\u001b[39mgetrowview(i)\u001b[38;5;241m.\u001b[39mtoarray()  \u001b[38;5;66;03m# TODO: revisit w/ sparse 1D container\u001b[39;00m\n\u001b[1;32m    623\u001b[0m     \u001b[38;5;66;03m# displacement \"force\"\u001b[39;00m\n\u001b[0;32m--> 624\u001b[0m     displacement[:, i] \u001b[38;5;241m+\u001b[39m\u001b[38;5;241m=\u001b[39m \u001b[43m(\u001b[49m\n\u001b[1;32m    625\u001b[0m \u001b[43m        \u001b[49m\u001b[43mdelta\u001b[49m\u001b[43m \u001b[49m\u001b[38;5;241;43m*\u001b[39;49m\u001b[43m \u001b[49m\u001b[43m(\u001b[49m\u001b[43mk\u001b[49m\u001b[43m \u001b[49m\u001b[38;5;241;43m*\u001b[39;49m\u001b[43m \u001b[49m\u001b[43mk\u001b[49m\u001b[43m \u001b[49m\u001b[38;5;241;43m/\u001b[39;49m\u001b[43m \u001b[49m\u001b[43mdistance\u001b[49m\u001b[38;5;241;43m*\u001b[39;49m\u001b[38;5;241;43m*\u001b[39;49m\u001b[38;5;241;43m2\u001b[39;49m\u001b[43m \u001b[49m\u001b[38;5;241;43m-\u001b[39;49m\u001b[43m \u001b[49m\u001b[43mAi\u001b[49m\u001b[43m \u001b[49m\u001b[38;5;241;43m*\u001b[39;49m\u001b[43m \u001b[49m\u001b[43mdistance\u001b[49m\u001b[43m \u001b[49m\u001b[38;5;241;43m/\u001b[39;49m\u001b[43m \u001b[49m\u001b[43mk\u001b[49m\u001b[43m)\u001b[49m\n\u001b[1;32m    626\u001b[0m \u001b[43m    \u001b[49m\u001b[43m)\u001b[49m\u001b[38;5;241;43m.\u001b[39;49m\u001b[43msum\u001b[49m\u001b[43m(\u001b[49m\u001b[43maxis\u001b[49m\u001b[38;5;241;43m=\u001b[39;49m\u001b[38;5;241;43m1\u001b[39;49m\u001b[43m)\u001b[49m\n\u001b[1;32m    627\u001b[0m \u001b[38;5;66;03m# update positions\u001b[39;00m\n\u001b[1;32m    628\u001b[0m length \u001b[38;5;241m=\u001b[39m np\u001b[38;5;241m.\u001b[39msqrt((displacement\u001b[38;5;241m*\u001b[39m\u001b[38;5;241m*\u001b[39m\u001b[38;5;241m2\u001b[39m)\u001b[38;5;241m.\u001b[39msum(axis\u001b[38;5;241m=\u001b[39m\u001b[38;5;241m0\u001b[39m))\n",
      "File \u001b[0;32m~/anaconda3/lib/python3.10/site-packages/numpy/core/_methods.py:47\u001b[0m, in \u001b[0;36m_sum\u001b[0;34m(a, axis, dtype, out, keepdims, initial, where)\u001b[0m\n\u001b[1;32m     43\u001b[0m \u001b[38;5;28;01mdef\u001b[39;00m \u001b[38;5;21m_amin\u001b[39m(a, axis\u001b[38;5;241m=\u001b[39m\u001b[38;5;28;01mNone\u001b[39;00m, out\u001b[38;5;241m=\u001b[39m\u001b[38;5;28;01mNone\u001b[39;00m, keepdims\u001b[38;5;241m=\u001b[39m\u001b[38;5;28;01mFalse\u001b[39;00m,\n\u001b[1;32m     44\u001b[0m           initial\u001b[38;5;241m=\u001b[39m_NoValue, where\u001b[38;5;241m=\u001b[39m\u001b[38;5;28;01mTrue\u001b[39;00m):\n\u001b[1;32m     45\u001b[0m     \u001b[38;5;28;01mreturn\u001b[39;00m umr_minimum(a, axis, \u001b[38;5;28;01mNone\u001b[39;00m, out, keepdims, initial, where)\n\u001b[0;32m---> 47\u001b[0m \u001b[38;5;28;01mdef\u001b[39;00m \u001b[38;5;21m_sum\u001b[39m(a, axis\u001b[38;5;241m=\u001b[39m\u001b[38;5;28;01mNone\u001b[39;00m, dtype\u001b[38;5;241m=\u001b[39m\u001b[38;5;28;01mNone\u001b[39;00m, out\u001b[38;5;241m=\u001b[39m\u001b[38;5;28;01mNone\u001b[39;00m, keepdims\u001b[38;5;241m=\u001b[39m\u001b[38;5;28;01mFalse\u001b[39;00m,\n\u001b[1;32m     48\u001b[0m          initial\u001b[38;5;241m=\u001b[39m_NoValue, where\u001b[38;5;241m=\u001b[39m\u001b[38;5;28;01mTrue\u001b[39;00m):\n\u001b[1;32m     49\u001b[0m     \u001b[38;5;28;01mreturn\u001b[39;00m umr_sum(a, axis, dtype, out, keepdims, initial, where)\n\u001b[1;32m     51\u001b[0m \u001b[38;5;28;01mdef\u001b[39;00m \u001b[38;5;21m_prod\u001b[39m(a, axis\u001b[38;5;241m=\u001b[39m\u001b[38;5;28;01mNone\u001b[39;00m, dtype\u001b[38;5;241m=\u001b[39m\u001b[38;5;28;01mNone\u001b[39;00m, out\u001b[38;5;241m=\u001b[39m\u001b[38;5;28;01mNone\u001b[39;00m, keepdims\u001b[38;5;241m=\u001b[39m\u001b[38;5;28;01mFalse\u001b[39;00m,\n\u001b[1;32m     52\u001b[0m           initial\u001b[38;5;241m=\u001b[39m_NoValue, where\u001b[38;5;241m=\u001b[39m\u001b[38;5;28;01mTrue\u001b[39;00m):\n",
      "File \u001b[0;32m_pydevd_bundle/pydevd_cython.pyx:1363\u001b[0m, in \u001b[0;36m_pydevd_bundle.pydevd_cython.SafeCallWrapper.__call__\u001b[0;34m()\u001b[0m\n",
      "File \u001b[0;32m_pydevd_bundle/pydevd_cython.pyx:1664\u001b[0m, in \u001b[0;36m_pydevd_bundle.pydevd_cython.ThreadTracer.__call__\u001b[0;34m()\u001b[0m\n",
      "File \u001b[0;32m~/anaconda3/lib/python3.10/site-packages/debugpy/_vendored/pydevd/_pydev_bundle/pydev_is_thread_alive.py:9\u001b[0m, in \u001b[0;36mis_thread_alive\u001b[0;34m(t)\u001b[0m\n\u001b[1;32m      6\u001b[0m _temp \u001b[38;5;241m=\u001b[39m threading\u001b[38;5;241m.\u001b[39mThread()\n\u001b[1;32m      7\u001b[0m \u001b[38;5;28;01mif\u001b[39;00m \u001b[38;5;28mhasattr\u001b[39m(_temp, \u001b[38;5;124m'\u001b[39m\u001b[38;5;124m_is_stopped\u001b[39m\u001b[38;5;124m'\u001b[39m):  \u001b[38;5;66;03m# Python 3.x has this\u001b[39;00m\n\u001b[0;32m----> 9\u001b[0m     \u001b[38;5;28;01mdef\u001b[39;00m \u001b[38;5;21mis_thread_alive\u001b[39m(t):\n\u001b[1;32m     10\u001b[0m         \u001b[38;5;28;01mreturn\u001b[39;00m \u001b[38;5;129;01mnot\u001b[39;00m t\u001b[38;5;241m.\u001b[39m_is_stopped\n\u001b[1;32m     12\u001b[0m \u001b[38;5;28;01melif\u001b[39;00m \u001b[38;5;28mhasattr\u001b[39m(_temp, \u001b[38;5;124m'\u001b[39m\u001b[38;5;124m_Thread__stopped\u001b[39m\u001b[38;5;124m'\u001b[39m):  \u001b[38;5;66;03m# Python 2.x has this\u001b[39;00m\n",
      "\u001b[0;31mKeyboardInterrupt\u001b[0m: "
     ]
    },
    {
     "data": {
      "image/png": "[encoded data removed]",
      "text/plain": [
       "<Figure size 640x480 with 1 Axes>"
      ]
     },
     "metadata": {},
     "output_type": "display_data"
    }
   ],
   "source": [
    "# If you need to visualize the network\n",
    "import matplotlib.pyplot as plt\n",
    "\n",
    "nx.draw(G, with_labels=True)\n",
    "plt.show()"
   ]
  }
 ],
 "metadata": {
  "kernelspec": {
   "display_name": "base",
   "language": "python",
   "name": "python3"
  },
  "language_info": {
   "codemirror_mode": {
    "name": "ipython",
    "version": 3
   },
   "file_extension": ".py",
   "mimetype": "text/x-python",
   "name": "python",
   "nbconvert_exporter": "python",
   "pygments_lexer": "ipython3",
   "version": "3.10.9"
  }
 },
 "nbformat": 4,
 "nbformat_minor": 2
}
