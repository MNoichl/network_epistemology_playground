{
 "cells": [
  {
   "cell_type": "markdown",
   "metadata": {},
   "source": [
    "# Setup"
   ]
  },
  {
   "cell_type": "code",
   "execution_count": 60,
   "metadata": {},
   "outputs": [],
   "source": [
    "# https://openalex.org/\n",
    "\n",
    "from pyalex import Works, Authors, Sources, Institutions, Concepts, Publishers, Funders\n",
    "import pyalex\n",
    "pyalex.config.email = \"maximilian.noichl@uni-bamberg.de\"\n",
    "import time\n",
    "from itertools import chain\n",
    "import tqdm.auto as tqdm\n",
    "import pandas as pd\n",
    "from compress_pickle import dump, load\n",
    "import networkx as nx\n",
    "import json\n",
    "\n"
   ]
  },
  {
   "cell_type": "markdown",
   "metadata": {},
   "source": [
    "# Get Perceptron Data"
   ]
  },
  {
   "cell_type": "code",
   "execution_count": 61,
   "metadata": {},
   "outputs": [],
   "source": [
    "query = Works().search(['Perceptron']).filter(publication_year=\"<1979\")\n",
    "records= []\n",
    "for record in chain(*query.paginate(per_page=200,n_max=None)):\n",
    "    records.append(record)\n",
    "    #print(len(records))\n",
    "\n"
   ]
  },
  {
   "cell_type": "code",
   "execution_count": 62,
   "metadata": {},
   "outputs": [
    {
     "name": "stdout",
     "output_type": "stream",
     "text": [
      "701\n",
      "Index(['id', 'doi', 'title', 'display_name', 'relevance_score',\n",
      "       'publication_year', 'publication_date', 'ids', 'language',\n",
      "       'primary_location', 'type', 'type_crossref', 'indexed_in',\n",
      "       'open_access', 'authorships', 'countries_distinct_count',\n",
      "       'institutions_distinct_count', 'corresponding_author_ids',\n",
      "       'corresponding_institution_ids', 'apc_list', 'apc_paid', 'has_fulltext',\n",
      "       'fulltext_origin', 'cited_by_count', 'cited_by_percentile_year',\n",
      "       'biblio', 'is_retracted', 'is_paratext', 'primary_topic', 'topics',\n",
      "       'keywords', 'concepts', 'mesh', 'locations_count', 'locations',\n",
      "       'best_oa_location', 'sustainable_development_goals', 'grants',\n",
      "       'datasets', 'versions', 'referenced_works_count', 'referenced_works',\n",
      "       'related_works', 'ngrams_url', 'abstract_inverted_index',\n",
      "       'cited_by_api_url', 'counts_by_year', 'updated_date', 'created_date'],\n",
      "      dtype='object')\n",
      "[{'author_position': 'first', 'author': {'id': 'https://openalex.org/A5076896748', 'display_name': 'Frank F. Rosenblatt', 'orcid': None}, 'institutions': [], 'countries': [], 'is_corresponding': True, 'raw_author_name': 'F. Rosenblatt', 'raw_affiliation_strings': []}]\n",
      "['https://openalex.org/W1570445666', 'https://openalex.org/W1995341919', 'https://openalex.org/W2042559059', 'https://openalex.org/W2043486465', 'https://openalex.org/W2065389787', 'https://openalex.org/W2078200762', 'https://openalex.org/W2126451342', 'https://openalex.org/W22297218', 'https://openalex.org/W2319567444', 'https://openalex.org/W2476597994', 'https://openalex.org/W2495102332', 'https://openalex.org/W2495558415', 'https://openalex.org/W2497735908', 'https://openalex.org/W3027165077', 'https://openalex.org/W3203988787']\n"
     ]
    }
   ],
   "source": [
    "df = pd.DataFrame(records)\n",
    "print(len(df))\n",
    "print(df.columns)\n",
    "print(df['authorships'][0])\n",
    "print(df['referenced_works'][0])"
   ]
  },
  {
   "cell_type": "markdown",
   "metadata": {},
   "source": [
    "# Network of Articles"
   ]
  },
  {
   "cell_type": "code",
   "execution_count": 63,
   "metadata": {},
   "outputs": [
    {
     "name": "stdout",
     "output_type": "stream",
     "text": [
      "Nodes in the network:\n",
      "4961\n",
      "Edges in the network:\n",
      "7221\n"
     ]
    }
   ],
   "source": [
    "# Create a directed graph\n",
    "G = nx.DiGraph()\n",
    "\n",
    "# Add nodes and edges\n",
    "for ix,item in df.iterrows():\n",
    "    G.add_node(item[\"id\"])  # Add each work as a node\n",
    "    for related in item[\"related_works\"]:\n",
    "        G.add_edge(item[\"id\"], related)  # Create an edge from this work to each related work\n",
    "\n",
    "# Optionally, you can print the nodes and edges to verify\n",
    "print(\"Nodes in the network:\")\n",
    "print(len(G.nodes()))\n",
    "print(\"Edges in the network:\")\n",
    "print(len(G.edges()))"
   ]
  },
  {
   "cell_type": "markdown",
   "metadata": {},
   "source": [
    "# Network of Authors"
   ]
  },
  {
   "cell_type": "code",
   "execution_count": 81,
   "metadata": {},
   "outputs": [
    {
     "data": {
      "application/vnd.jupyter.widget-view+json": {
       "model_id": "b95e6e0f38494eecab2a290fb2af7198",
       "version_major": 2,
       "version_minor": 0
      },
      "text/plain": [
       "0it [00:00, ?it/s]"
      ]
     },
     "metadata": {},
     "output_type": "display_data"
    },
    {
     "ename": "HTTPError",
     "evalue": "400 Client Error: Bad Request for url: https://api.openalex.org/works?filter=openalex_id:https://openalex.org/W118296737%7Chttps://openalex.org/W1500596832%7Chttps://openalex.org/W1650231820%7Chttps://openalex.org/W182691650%7Chttps://openalex.org/W1846009692%7Chttps://openalex.org/W1963590526%7Chttps://openalex.org/W1963636864%7Chttps://openalex.org/W1965306764%7Chttps://openalex.org/W1969485190%7Chttps://openalex.org/W1969848557%7Chttps://openalex.org/W1971318474%7Chttps://openalex.org/W1975985302%7Chttps://openalex.org/W1976678415%7Chttps://openalex.org/W1976737908%7Chttps://openalex.org/W1978499400%7Chttps://openalex.org/W1978671936%7Chttps://openalex.org/W1978818813%7Chttps://openalex.org/W1979065383%7Chttps://openalex.org/W1979502974%7Chttps://openalex.org/W1980158165%7Chttps://openalex.org/W1980174787%7Chttps://openalex.org/W1982670023%7Chttps://openalex.org/W1983939602%7Chttps://openalex.org/W1985722825%7Chttps://openalex.org/W1989456320%7Chttps://openalex.org/W1990006498%7Chttps://openalex.org/W1990617091%7Chttps://openalex.org/W1991543279%7Chttps://openalex.org/W1995271488%7Chttps://openalex.org/W1996342882%7Chttps://openalex.org/W1996992876%7Chttps://openalex.org/W1997471566%7Chttps://openalex.org/W2000664756%7Chttps://openalex.org/W2002382030%7Chttps://openalex.org/W2002422940%7Chttps://openalex.org/W2005622615%7Chttps://openalex.org/W2006268233%7Chttps://openalex.org/W2006345730%7Chttps://openalex.org/W2009642888%7Chttps://openalex.org/W2010420146%7Chttps://openalex.org/W2016473502%7Chttps://openalex.org/W2016924518%7Chttps://openalex.org/W2017827237%7Chttps://openalex.org/W2021559701%7Chttps://openalex.org/W2022786318%7Chttps://openalex.org/W2027252400%7Chttps://openalex.org/W2027299546%7Chttps://openalex.org/W2027976317%7Chttps://openalex.org/W2028931872%7Chttps://openalex.org/W2030446611%7Chttps://openalex.org/W2031206256%7Chttps://openalex.org/W2032857037%7Chttps://openalex.org/W2034487640%7Chttps://openalex.org/W2042809054%7Chttps://openalex.org/W2045534817%7Chttps://openalex.org/W2047165599%7Chttps://openalex.org/W2047241694%7Chttps://openalex.org/W2049352069%7Chttps://openalex.org/W2051525468%7Chttps://openalex.org/W2052580125%7Chttps://openalex.org/W2057478063%7Chttps://openalex.org/W2059126874%7Chttps://openalex.org/W2059935834%7Chttps://openalex.org/W2060239860%7Chttps://openalex.org/W2062730785%7Chttps://openalex.org/W2063619750%7Chttps://openalex.org/W2065920328%7Chttps://openalex.org/W2066864750%7Chttps://openalex.org/W2067958620%7Chttps://openalex.org/W2069266256%7Chttps://openalex.org/W2071638202%7Chttps://openalex.org/W2075795003%7Chttps://openalex.org/W2077153695%7Chttps://openalex.org/W2080518207%7Chttps://openalex.org/W2082618850%7Chttps://openalex.org/W2085197369%7Chttps://openalex.org/W2086017950%7Chttps://openalex.org/W2086934416%7Chttps://openalex.org/W2089210009%7Chttps://openalex.org/W2089515922%7Chttps://openalex.org/W2089687338%7Chttps://openalex.org/W2090563124%7Chttps://openalex.org/W2093732171%7Chttps://openalex.org/W2094699801%7Chttps://openalex.org/W2096535258%7Chttps://openalex.org/W2097458160%7Chttps://openalex.org/W2100403032%7Chttps://openalex.org/W2109325387%7Chttps://openalex.org/W2110920668%7Chttps://openalex.org/W2112627361%7Chttps://openalex.org/W2113116398%7Chttps://openalex.org/W2115235609%7Chttps://openalex.org/W2120216197%7Chttps://openalex.org/W2122741244%7Chttps://openalex.org/W2123488562%7Chttps://openalex.org/W2124393231%7Chttps://openalex.org/W2124713013%7Chttps://openalex.org/W2125027853%7Chttps://openalex.org/W2125416228%7Chttps://openalex.org/W2128025648%7Chttps://openalex.org/W2129151737%7Chttps://openalex.org/W2131239571%7Chttps://openalex.org/W2136100457%7Chttps://openalex.org/W2136942653%7Chttps://openalex.org/W2143547339%7Chttps://openalex.org/W2145918848%7Chttps://openalex.org/W2158240273%7Chttps://openalex.org/W2160766771%7Chttps://openalex.org/W2161376274%7Chttps://openalex.org/W2163223677%7Chttps://openalex.org/W2165789621%7Chttps://openalex.org/W2166326690%7Chttps://openalex.org/W2170408302%7Chttps://openalex.org/W2170633497%7Chttps://openalex.org/W2171670727%7Chttps://openalex.org/W2241596831%7Chttps://openalex.org/W2330446980%7Chttps://openalex.org/W2339569364%7Chttps://openalex.org/W2623721880%7Chttps://openalex.org/W4230814943%7Chttps://openalex.org/W4235072056%7Chttps://openalex.org/W4294236242%7Chttps://openalex.org/W598560442",
     "output_type": "error",
     "traceback": [
      "\u001b[0;31m---------------------------------------------------------------------------\u001b[0m",
      "\u001b[0;31mHTTPError\u001b[0m                                 Traceback (most recent call last)",
      "File \u001b[0;32m<timed exec>:14\u001b[0m\n",
      "File \u001b[0;32m~/anaconda3/lib/python3.10/site-packages/pyalex/api.py:223\u001b[0m, in \u001b[0;36mBaseOpenAlex.__getitem__\u001b[0;34m(self, record_id)\u001b[0m\n\u001b[1;32m    221\u001b[0m \u001b[38;5;28;01mdef\u001b[39;00m \u001b[38;5;21m__getitem__\u001b[39m(\u001b[38;5;28mself\u001b[39m, record_id):\n\u001b[1;32m    222\u001b[0m     \u001b[38;5;28;01mif\u001b[39;00m \u001b[38;5;28misinstance\u001b[39m(record_id, \u001b[38;5;28mlist\u001b[39m):\n\u001b[0;32m--> 223\u001b[0m         \u001b[38;5;28;01mreturn\u001b[39;00m \u001b[38;5;28;43mself\u001b[39;49m\u001b[38;5;241;43m.\u001b[39;49m\u001b[43m_get_multi_items\u001b[49m\u001b[43m(\u001b[49m\u001b[43mrecord_id\u001b[49m\u001b[43m)\u001b[49m\n\u001b[1;32m    225\u001b[0m     \u001b[38;5;28;01mreturn\u001b[39;00m \u001b[38;5;28mself\u001b[39m\u001b[38;5;241m.\u001b[39m_get_from_url(\n\u001b[1;32m    226\u001b[0m         \u001b[38;5;28mself\u001b[39m\u001b[38;5;241m.\u001b[39m_full_collection_name() \u001b[38;5;241m+\u001b[39m \u001b[38;5;124m\"\u001b[39m\u001b[38;5;124m/\u001b[39m\u001b[38;5;124m\"\u001b[39m \u001b[38;5;241m+\u001b[39m record_id, return_meta\u001b[38;5;241m=\u001b[39m\u001b[38;5;28;01mFalse\u001b[39;00m\n\u001b[1;32m    227\u001b[0m     )\n",
      "File \u001b[0;32m~/anaconda3/lib/python3.10/site-packages/pyalex/api.py:198\u001b[0m, in \u001b[0;36mBaseOpenAlex._get_multi_items\u001b[0;34m(self, record_list)\u001b[0m\n\u001b[1;32m    197\u001b[0m \u001b[38;5;28;01mdef\u001b[39;00m \u001b[38;5;21m_get_multi_items\u001b[39m(\u001b[38;5;28mself\u001b[39m, record_list):\n\u001b[0;32m--> 198\u001b[0m     \u001b[38;5;28;01mreturn\u001b[39;00m \u001b[38;5;28;43mself\u001b[39;49m\u001b[38;5;241;43m.\u001b[39;49m\u001b[43mfilter\u001b[49m\u001b[43m(\u001b[49m\u001b[43mopenalex_id\u001b[49m\u001b[38;5;241;43m=\u001b[39;49m\u001b[38;5;124;43m\"\u001b[39;49m\u001b[38;5;124;43m|\u001b[39;49m\u001b[38;5;124;43m\"\u001b[39;49m\u001b[38;5;241;43m.\u001b[39;49m\u001b[43mjoin\u001b[49m\u001b[43m(\u001b[49m\u001b[43mrecord_list\u001b[49m\u001b[43m)\u001b[49m\u001b[43m)\u001b[49m\u001b[38;5;241;43m.\u001b[39;49m\u001b[43mget\u001b[49m\u001b[43m(\u001b[49m\u001b[43m)\u001b[49m\n",
      "File \u001b[0;32m~/anaconda3/lib/python3.10/site-packages/pyalex/api.py:293\u001b[0m, in \u001b[0;36mBaseOpenAlex.get\u001b[0;34m(self, return_meta, page, per_page, cursor)\u001b[0m\n\u001b[1;32m    291\u001b[0m \u001b[38;5;28mself\u001b[39m\u001b[38;5;241m.\u001b[39m_add_params(\u001b[38;5;124m\"\u001b[39m\u001b[38;5;124mpage\u001b[39m\u001b[38;5;124m\"\u001b[39m, page)\n\u001b[1;32m    292\u001b[0m \u001b[38;5;28mself\u001b[39m\u001b[38;5;241m.\u001b[39m_add_params(\u001b[38;5;124m\"\u001b[39m\u001b[38;5;124mcursor\u001b[39m\u001b[38;5;124m\"\u001b[39m, cursor)\n\u001b[0;32m--> 293\u001b[0m \u001b[38;5;28;01mreturn\u001b[39;00m \u001b[38;5;28;43mself\u001b[39;49m\u001b[38;5;241;43m.\u001b[39;49m\u001b[43m_get_from_url\u001b[49m\u001b[43m(\u001b[49m\u001b[38;5;28;43mself\u001b[39;49m\u001b[38;5;241;43m.\u001b[39;49m\u001b[43murl\u001b[49m\u001b[43m,\u001b[49m\u001b[43m \u001b[49m\u001b[43mreturn_meta\u001b[49m\u001b[38;5;241;43m=\u001b[39;49m\u001b[43mreturn_meta\u001b[49m\u001b[43m)\u001b[49m\n",
      "File \u001b[0;32m~/anaconda3/lib/python3.10/site-packages/pyalex/api.py:267\u001b[0m, in \u001b[0;36mBaseOpenAlex._get_from_url\u001b[0;34m(self, url, return_meta)\u001b[0m\n\u001b[1;32m    261\u001b[0m     \u001b[38;5;28;01mif\u001b[39;00m (\n\u001b[1;32m    262\u001b[0m         \u001b[38;5;28misinstance\u001b[39m(res\u001b[38;5;241m.\u001b[39mjson()[\u001b[38;5;124m\"\u001b[39m\u001b[38;5;124merror\u001b[39m\u001b[38;5;124m\"\u001b[39m], \u001b[38;5;28mstr\u001b[39m)\n\u001b[1;32m    263\u001b[0m         \u001b[38;5;129;01mand\u001b[39;00m \u001b[38;5;124m\"\u001b[39m\u001b[38;5;124mquery parameters\u001b[39m\u001b[38;5;124m\"\u001b[39m \u001b[38;5;129;01min\u001b[39;00m res\u001b[38;5;241m.\u001b[39mjson()[\u001b[38;5;124m\"\u001b[39m\u001b[38;5;124merror\u001b[39m\u001b[38;5;124m\"\u001b[39m]\n\u001b[1;32m    264\u001b[0m     ):\n\u001b[1;32m    265\u001b[0m         \u001b[38;5;28;01mraise\u001b[39;00m QueryError(res\u001b[38;5;241m.\u001b[39mjson()[\u001b[38;5;124m\"\u001b[39m\u001b[38;5;124mmessage\u001b[39m\u001b[38;5;124m\"\u001b[39m])\n\u001b[0;32m--> 267\u001b[0m \u001b[43mres\u001b[49m\u001b[38;5;241;43m.\u001b[39;49m\u001b[43mraise_for_status\u001b[49m\u001b[43m(\u001b[49m\u001b[43m)\u001b[49m\n\u001b[1;32m    268\u001b[0m res_json \u001b[38;5;241m=\u001b[39m res\u001b[38;5;241m.\u001b[39mjson()\n\u001b[1;32m    270\u001b[0m \u001b[38;5;66;03m# group-by or results page\u001b[39;00m\n",
      "File \u001b[0;32m~/anaconda3/lib/python3.10/site-packages/requests/models.py:1021\u001b[0m, in \u001b[0;36mResponse.raise_for_status\u001b[0;34m(self)\u001b[0m\n\u001b[1;32m   1016\u001b[0m     http_error_msg \u001b[38;5;241m=\u001b[39m (\n\u001b[1;32m   1017\u001b[0m         \u001b[38;5;124mf\u001b[39m\u001b[38;5;124m\"\u001b[39m\u001b[38;5;132;01m{\u001b[39;00m\u001b[38;5;28mself\u001b[39m\u001b[38;5;241m.\u001b[39mstatus_code\u001b[38;5;132;01m}\u001b[39;00m\u001b[38;5;124m Server Error: \u001b[39m\u001b[38;5;132;01m{\u001b[39;00mreason\u001b[38;5;132;01m}\u001b[39;00m\u001b[38;5;124m for url: \u001b[39m\u001b[38;5;132;01m{\u001b[39;00m\u001b[38;5;28mself\u001b[39m\u001b[38;5;241m.\u001b[39murl\u001b[38;5;132;01m}\u001b[39;00m\u001b[38;5;124m\"\u001b[39m\n\u001b[1;32m   1018\u001b[0m     )\n\u001b[1;32m   1020\u001b[0m \u001b[38;5;28;01mif\u001b[39;00m http_error_msg:\n\u001b[0;32m-> 1021\u001b[0m     \u001b[38;5;28;01mraise\u001b[39;00m HTTPError(http_error_msg, response\u001b[38;5;241m=\u001b[39m\u001b[38;5;28mself\u001b[39m)\n",
      "\u001b[0;31mHTTPError\u001b[0m: 400 Client Error: Bad Request for url: https://api.openalex.org/works?filter=openalex_id:https://openalex.org/W118296737%7Chttps://openalex.org/W1500596832%7Chttps://openalex.org/W1650231820%7Chttps://openalex.org/W182691650%7Chttps://openalex.org/W1846009692%7Chttps://openalex.org/W1963590526%7Chttps://openalex.org/W1963636864%7Chttps://openalex.org/W1965306764%7Chttps://openalex.org/W1969485190%7Chttps://openalex.org/W1969848557%7Chttps://openalex.org/W1971318474%7Chttps://openalex.org/W1975985302%7Chttps://openalex.org/W1976678415%7Chttps://openalex.org/W1976737908%7Chttps://openalex.org/W1978499400%7Chttps://openalex.org/W1978671936%7Chttps://openalex.org/W1978818813%7Chttps://openalex.org/W1979065383%7Chttps://openalex.org/W1979502974%7Chttps://openalex.org/W1980158165%7Chttps://openalex.org/W1980174787%7Chttps://openalex.org/W1982670023%7Chttps://openalex.org/W1983939602%7Chttps://openalex.org/W1985722825%7Chttps://openalex.org/W1989456320%7Chttps://openalex.org/W1990006498%7Chttps://openalex.org/W1990617091%7Chttps://openalex.org/W1991543279%7Chttps://openalex.org/W1995271488%7Chttps://openalex.org/W1996342882%7Chttps://openalex.org/W1996992876%7Chttps://openalex.org/W1997471566%7Chttps://openalex.org/W2000664756%7Chttps://openalex.org/W2002382030%7Chttps://openalex.org/W2002422940%7Chttps://openalex.org/W2005622615%7Chttps://openalex.org/W2006268233%7Chttps://openalex.org/W2006345730%7Chttps://openalex.org/W2009642888%7Chttps://openalex.org/W2010420146%7Chttps://openalex.org/W2016473502%7Chttps://openalex.org/W2016924518%7Chttps://openalex.org/W2017827237%7Chttps://openalex.org/W2021559701%7Chttps://openalex.org/W2022786318%7Chttps://openalex.org/W2027252400%7Chttps://openalex.org/W2027299546%7Chttps://openalex.org/W2027976317%7Chttps://openalex.org/W2028931872%7Chttps://openalex.org/W2030446611%7Chttps://openalex.org/W2031206256%7Chttps://openalex.org/W2032857037%7Chttps://openalex.org/W2034487640%7Chttps://openalex.org/W2042809054%7Chttps://openalex.org/W2045534817%7Chttps://openalex.org/W2047165599%7Chttps://openalex.org/W2047241694%7Chttps://openalex.org/W2049352069%7Chttps://openalex.org/W2051525468%7Chttps://openalex.org/W2052580125%7Chttps://openalex.org/W2057478063%7Chttps://openalex.org/W2059126874%7Chttps://openalex.org/W2059935834%7Chttps://openalex.org/W2060239860%7Chttps://openalex.org/W2062730785%7Chttps://openalex.org/W2063619750%7Chttps://openalex.org/W2065920328%7Chttps://openalex.org/W2066864750%7Chttps://openalex.org/W2067958620%7Chttps://openalex.org/W2069266256%7Chttps://openalex.org/W2071638202%7Chttps://openalex.org/W2075795003%7Chttps://openalex.org/W2077153695%7Chttps://openalex.org/W2080518207%7Chttps://openalex.org/W2082618850%7Chttps://openalex.org/W2085197369%7Chttps://openalex.org/W2086017950%7Chttps://openalex.org/W2086934416%7Chttps://openalex.org/W2089210009%7Chttps://openalex.org/W2089515922%7Chttps://openalex.org/W2089687338%7Chttps://openalex.org/W2090563124%7Chttps://openalex.org/W2093732171%7Chttps://openalex.org/W2094699801%7Chttps://openalex.org/W2096535258%7Chttps://openalex.org/W2097458160%7Chttps://openalex.org/W2100403032%7Chttps://openalex.org/W2109325387%7Chttps://openalex.org/W2110920668%7Chttps://openalex.org/W2112627361%7Chttps://openalex.org/W2113116398%7Chttps://openalex.org/W2115235609%7Chttps://openalex.org/W2120216197%7Chttps://openalex.org/W2122741244%7Chttps://openalex.org/W2123488562%7Chttps://openalex.org/W2124393231%7Chttps://openalex.org/W2124713013%7Chttps://openalex.org/W2125027853%7Chttps://openalex.org/W2125416228%7Chttps://openalex.org/W2128025648%7Chttps://openalex.org/W2129151737%7Chttps://openalex.org/W2131239571%7Chttps://openalex.org/W2136100457%7Chttps://openalex.org/W2136942653%7Chttps://openalex.org/W2143547339%7Chttps://openalex.org/W2145918848%7Chttps://openalex.org/W2158240273%7Chttps://openalex.org/W2160766771%7Chttps://openalex.org/W2161376274%7Chttps://openalex.org/W2163223677%7Chttps://openalex.org/W2165789621%7Chttps://openalex.org/W2166326690%7Chttps://openalex.org/W2170408302%7Chttps://openalex.org/W2170633497%7Chttps://openalex.org/W2171670727%7Chttps://openalex.org/W2241596831%7Chttps://openalex.org/W2330446980%7Chttps://openalex.org/W2339569364%7Chttps://openalex.org/W2623721880%7Chttps://openalex.org/W4230814943%7Chttps://openalex.org/W4235072056%7Chttps://openalex.org/W4294236242%7Chttps://openalex.org/W598560442"
     ]
    }
   ],
   "source": [
    "%%time\n",
    "# Create a directed graph\n",
    "G = nx.DiGraph()\n",
    "\n",
    "# Add nodes and edges\n",
    "for ix,item in tqdm.tqdm(df.iterrows()):\n",
    "    authors = []\n",
    "    for au in item['authorships']:\n",
    "        aut_id = au['author']['id']\n",
    "        G.add_node(aut_id)\n",
    "        authors.append(aut_id)\n",
    "    ref_articles_list = item['referenced_works']\n",
    "    # Sometimes there are empty things\n",
    "    if len(ref_articles_list)>0:\n",
    "        ref_authors_list = list(pd.DataFrame(Works()[ref_articles_list])['authorships'])\n",
    "        #print('ref articles list working')\n",
    "        referenced_authors = []\n",
    "        for ref_au in ref_authors_list:\n",
    "            # Sometimes there are empty things\n",
    "            if len(ref_au)>0:\n",
    "                ref_aut_id = ref_au[0]['author']['id']\n",
    "                G.add_node(ref_aut_id)\n",
    "                referenced_authors.append(aut_id)\n",
    "        for ref_au in referenced_authors:\n",
    "            for au in authors:\n",
    "                G.add_edge(ref_au, au)\n",
    "\n",
    "# Optionally, you can print the nodes and edges to verify\n",
    "print(\"Nodes in the network:\")\n",
    "print(len(G.nodes()))\n",
    "print(\"Edges in the network:\")\n",
    "print(len(G.edges()))"
   ]
  }
 ],
 "metadata": {
  "kernelspec": {
   "display_name": "base",
   "language": "python",
   "name": "python3"
  },
  "language_info": {
   "codemirror_mode": {
    "name": "ipython",
    "version": 3
   },
   "file_extension": ".py",
   "mimetype": "text/x-python",
   "name": "python",
   "nbconvert_exporter": "python",
   "pygments_lexer": "ipython3",
   "version": "3.10.9"
  }
 },
 "nbformat": 4,
 "nbformat_minor": 2
}
