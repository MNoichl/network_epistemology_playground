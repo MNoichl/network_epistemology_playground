{
 "cells": [
  {
   "cell_type": "markdown",
   "metadata": {},
   "source": [
    "# Setup"
   ]
  },
  {
   "cell_type": "code",
   "execution_count": 82,
   "metadata": {},
   "outputs": [],
   "source": [
    "# https://openalex.org/\n",
    "\n",
    "from pyalex import Works, Authors, Sources, Institutions, Concepts, Publishers, Funders\n",
    "import pyalex\n",
    "pyalex.config.email = \"maximilian.noichl@uni-bamberg.de\"\n",
    "import time\n",
    "from itertools import chain\n",
    "import tqdm.auto as tqdm\n",
    "import pandas as pd\n",
    "from compress_pickle import dump, load\n",
    "import networkx as nx\n",
    "import json\n",
    "\n"
   ]
  },
  {
   "cell_type": "markdown",
   "metadata": {},
   "source": [
    "# Get Perceptron Data"
   ]
  },
  {
   "cell_type": "code",
   "execution_count": 83,
   "metadata": {},
   "outputs": [],
   "source": [
    "query = Works().search(['Perceptron']).filter(publication_year=\"<1979\")\n",
    "records= []\n",
    "for record in chain(*query.paginate(per_page=200,n_max=None)):\n",
    "    records.append(record)\n",
    "    #print(len(records))\n",
    "\n"
   ]
  },
  {
   "cell_type": "code",
   "execution_count": 84,
   "metadata": {},
   "outputs": [
    {
     "name": "stdout",
     "output_type": "stream",
     "text": [
      "701\n",
      "Index(['id', 'doi', 'title', 'display_name', 'relevance_score',\n",
      "       'publication_year', 'publication_date', 'ids', 'language',\n",
      "       'primary_location', 'type', 'type_crossref', 'indexed_in',\n",
      "       'open_access', 'authorships', 'countries_distinct_count',\n",
      "       'institutions_distinct_count', 'corresponding_author_ids',\n",
      "       'corresponding_institution_ids', 'apc_list', 'apc_paid', 'has_fulltext',\n",
      "       'fulltext_origin', 'cited_by_count', 'cited_by_percentile_year',\n",
      "       'biblio', 'is_retracted', 'is_paratext', 'primary_topic', 'topics',\n",
      "       'keywords', 'concepts', 'mesh', 'locations_count', 'locations',\n",
      "       'best_oa_location', 'sustainable_development_goals', 'grants',\n",
      "       'datasets', 'versions', 'referenced_works_count', 'referenced_works',\n",
      "       'related_works', 'ngrams_url', 'abstract_inverted_index',\n",
      "       'cited_by_api_url', 'counts_by_year', 'updated_date', 'created_date'],\n",
      "      dtype='object')\n",
      "[{'author_position': 'first', 'author': {'id': 'https://openalex.org/A5076896748', 'display_name': 'Frank F. Rosenblatt', 'orcid': None}, 'institutions': [], 'countries': [], 'is_corresponding': True, 'raw_author_name': 'F. Rosenblatt', 'raw_affiliation_strings': []}]\n",
      "['https://openalex.org/W1570445666', 'https://openalex.org/W1995341919', 'https://openalex.org/W2042559059', 'https://openalex.org/W2043486465', 'https://openalex.org/W2065389787', 'https://openalex.org/W2078200762', 'https://openalex.org/W2126451342', 'https://openalex.org/W22297218', 'https://openalex.org/W2319567444', 'https://openalex.org/W2476597994', 'https://openalex.org/W2495102332', 'https://openalex.org/W2495558415', 'https://openalex.org/W2497735908', 'https://openalex.org/W3027165077', 'https://openalex.org/W3203988787']\n"
     ]
    }
   ],
   "source": [
    "df = pd.DataFrame(records)\n",
    "print(len(df))\n",
    "print(df.columns)\n",
    "print(df['authorships'][0])\n",
    "print(df['referenced_works'][0])"
   ]
  },
  {
   "cell_type": "markdown",
   "metadata": {},
   "source": [
    "# Network of Articles"
   ]
  },
  {
   "cell_type": "code",
   "execution_count": 85,
   "metadata": {},
   "outputs": [
    {
     "name": "stdout",
     "output_type": "stream",
     "text": [
      "Nodes in the network:\n",
      "4961\n",
      "Edges in the network:\n",
      "7221\n"
     ]
    }
   ],
   "source": [
    "# Create a directed graph\n",
    "G = nx.DiGraph()\n",
    "\n",
    "# Add nodes and edges\n",
    "for ix,item in df.iterrows():\n",
    "    G.add_node(item[\"id\"])  # Add each work as a node\n",
    "    for related in item[\"related_works\"]:\n",
    "        G.add_edge(item[\"id\"], related)  # Create an edge from this work to each related work\n",
    "\n",
    "# Optionally, you can print the nodes and edges to verify\n",
    "print(\"Nodes in the network:\")\n",
    "print(len(G.nodes()))\n",
    "print(\"Edges in the network:\")\n",
    "print(len(G.edges()))"
   ]
  },
  {
   "cell_type": "markdown",
   "metadata": {},
   "source": [
    "# Network of Authors"
   ]
  },
  {
   "cell_type": "code",
   "execution_count": 87,
   "metadata": {},
   "outputs": [
    {
     "data": {
      "application/vnd.jupyter.widget-view+json": {
       "model_id": "c439b0d91f124aeb80a1704fa461421b",
       "version_major": 2,
       "version_minor": 0
      },
      "text/plain": [
       "  0%|          | 0/701 [00:00<?, ?it/s]"
      ]
     },
     "metadata": {},
     "output_type": "display_data"
    },
    {
     "name": "stdout",
     "output_type": "stream",
     "text": [
      "An exception occurred: 400 Client Error: Bad Request for url: https://api.openalex.org/works?filter=openalex_id:https://openalex.org/W118296737%7Chttps://openalex.org/W1500596832%7Chttps://openalex.org/W1650231820%7Chttps://openalex.org/W182691650%7Chttps://openalex.org/W1846009692%7Chttps://openalex.org/W1963590526%7Chttps://openalex.org/W1963636864%7Chttps://openalex.org/W1965306764%7Chttps://openalex.org/W1969485190%7Chttps://openalex.org/W1969848557%7Chttps://openalex.org/W1971318474%7Chttps://openalex.org/W1975985302%7Chttps://openalex.org/W1976678415%7Chttps://openalex.org/W1976737908%7Chttps://openalex.org/W1978499400%7Chttps://openalex.org/W1978671936%7Chttps://openalex.org/W1978818813%7Chttps://openalex.org/W1979065383%7Chttps://openalex.org/W1979502974%7Chttps://openalex.org/W1980158165%7Chttps://openalex.org/W1980174787%7Chttps://openalex.org/W1982670023%7Chttps://openalex.org/W1983939602%7Chttps://openalex.org/W1985722825%7Chttps://openalex.org/W1989456320%7Chttps://openalex.org/W1990006498%7Chttps://openalex.org/W1990617091%7Chttps://openalex.org/W1991543279%7Chttps://openalex.org/W1995271488%7Chttps://openalex.org/W1996342882%7Chttps://openalex.org/W1996992876%7Chttps://openalex.org/W1997471566%7Chttps://openalex.org/W2000664756%7Chttps://openalex.org/W2002382030%7Chttps://openalex.org/W2002422940%7Chttps://openalex.org/W2005622615%7Chttps://openalex.org/W2006268233%7Chttps://openalex.org/W2006345730%7Chttps://openalex.org/W2009642888%7Chttps://openalex.org/W2010420146%7Chttps://openalex.org/W2016473502%7Chttps://openalex.org/W2016924518%7Chttps://openalex.org/W2017827237%7Chttps://openalex.org/W2021559701%7Chttps://openalex.org/W2022786318%7Chttps://openalex.org/W2027252400%7Chttps://openalex.org/W2027299546%7Chttps://openalex.org/W2027976317%7Chttps://openalex.org/W2028931872%7Chttps://openalex.org/W2030446611%7Chttps://openalex.org/W2031206256%7Chttps://openalex.org/W2032857037%7Chttps://openalex.org/W2034487640%7Chttps://openalex.org/W2042809054%7Chttps://openalex.org/W2045534817%7Chttps://openalex.org/W2047165599%7Chttps://openalex.org/W2047241694%7Chttps://openalex.org/W2049352069%7Chttps://openalex.org/W2051525468%7Chttps://openalex.org/W2052580125%7Chttps://openalex.org/W2057478063%7Chttps://openalex.org/W2059126874%7Chttps://openalex.org/W2059935834%7Chttps://openalex.org/W2060239860%7Chttps://openalex.org/W2062730785%7Chttps://openalex.org/W2063619750%7Chttps://openalex.org/W2065920328%7Chttps://openalex.org/W2066864750%7Chttps://openalex.org/W2067958620%7Chttps://openalex.org/W2069266256%7Chttps://openalex.org/W2071638202%7Chttps://openalex.org/W2075795003%7Chttps://openalex.org/W2077153695%7Chttps://openalex.org/W2080518207%7Chttps://openalex.org/W2082618850%7Chttps://openalex.org/W2085197369%7Chttps://openalex.org/W2086017950%7Chttps://openalex.org/W2086934416%7Chttps://openalex.org/W2089210009%7Chttps://openalex.org/W2089515922%7Chttps://openalex.org/W2089687338%7Chttps://openalex.org/W2090563124%7Chttps://openalex.org/W2093732171%7Chttps://openalex.org/W2094699801%7Chttps://openalex.org/W2096535258%7Chttps://openalex.org/W2097458160%7Chttps://openalex.org/W2100403032%7Chttps://openalex.org/W2109325387%7Chttps://openalex.org/W2110920668%7Chttps://openalex.org/W2112627361%7Chttps://openalex.org/W2113116398%7Chttps://openalex.org/W2115235609%7Chttps://openalex.org/W2120216197%7Chttps://openalex.org/W2122741244%7Chttps://openalex.org/W2123488562%7Chttps://openalex.org/W2124393231%7Chttps://openalex.org/W2124713013%7Chttps://openalex.org/W2125027853%7Chttps://openalex.org/W2125416228%7Chttps://openalex.org/W2128025648%7Chttps://openalex.org/W2129151737%7Chttps://openalex.org/W2131239571%7Chttps://openalex.org/W2136100457%7Chttps://openalex.org/W2136942653%7Chttps://openalex.org/W2143547339%7Chttps://openalex.org/W2145918848%7Chttps://openalex.org/W2158240273%7Chttps://openalex.org/W2160766771%7Chttps://openalex.org/W2161376274%7Chttps://openalex.org/W2163223677%7Chttps://openalex.org/W2165789621%7Chttps://openalex.org/W2166326690%7Chttps://openalex.org/W2170408302%7Chttps://openalex.org/W2170633497%7Chttps://openalex.org/W2171670727%7Chttps://openalex.org/W2241596831%7Chttps://openalex.org/W2330446980%7Chttps://openalex.org/W2339569364%7Chttps://openalex.org/W2623721880%7Chttps://openalex.org/W4230814943%7Chttps://openalex.org/W4235072056%7Chttps://openalex.org/W4294236242%7Chttps://openalex.org/W598560442\n",
      "An exception occurred: 400 Client Error: Bad Request for url: https://api.openalex.org/works?filter=openalex_id:https://openalex.org/W143972715%7Chttps://openalex.org/W149941429%7Chttps://openalex.org/W1501223770%7Chttps://openalex.org/W1558417974%7Chttps://openalex.org/W1600625764%7Chttps://openalex.org/W1603574597%7Chttps://openalex.org/W1873009019%7Chttps://openalex.org/W1969795931%7Chttps://openalex.org/W1972651077%7Chttps://openalex.org/W1973192023%7Chttps://openalex.org/W1975396800%7Chttps://openalex.org/W1981242488%7Chttps://openalex.org/W1989760627%7Chttps://openalex.org/W1991015216%7Chttps://openalex.org/W1991618698%7Chttps://openalex.org/W1992358516%7Chttps://openalex.org/W1992896078%7Chttps://openalex.org/W1993309768%7Chttps://openalex.org/W1996833743%7Chttps://openalex.org/W1998207605%7Chttps://openalex.org/W2001619934%7Chttps://openalex.org/W2006029189%7Chttps://openalex.org/W2008427435%7Chttps://openalex.org/W2008624417%7Chttps://openalex.org/W2009720423%7Chttps://openalex.org/W2010140249%7Chttps://openalex.org/W2011285434%7Chttps://openalex.org/W2012824287%7Chttps://openalex.org/W2012934418%7Chttps://openalex.org/W2015783612%7Chttps://openalex.org/W2016876726%7Chttps://openalex.org/W2018995557%7Chttps://openalex.org/W2019179712%7Chttps://openalex.org/W2020451003%7Chttps://openalex.org/W2028569884%7Chttps://openalex.org/W2030038159%7Chttps://openalex.org/W2030220063%7Chttps://openalex.org/W2030328665%7Chttps://openalex.org/W2031113358%7Chttps://openalex.org/W2033566970%7Chttps://openalex.org/W2033736966%7Chttps://openalex.org/W2036900679%7Chttps://openalex.org/W2037618158%7Chttps://openalex.org/W2039210275%7Chttps://openalex.org/W2040747477%7Chttps://openalex.org/W2043644866%7Chttps://openalex.org/W2044536239%7Chttps://openalex.org/W2046821868%7Chttps://openalex.org/W2048018308%7Chttps://openalex.org/W2053967776%7Chttps://openalex.org/W2056402158%7Chttps://openalex.org/W2056617755%7Chttps://openalex.org/W2062489094%7Chttps://openalex.org/W2062998255%7Chttps://openalex.org/W2063769123%7Chttps://openalex.org/W2065283057%7Chttps://openalex.org/W2066162099%7Chttps://openalex.org/W2067958620%7Chttps://openalex.org/W2068134187%7Chttps://openalex.org/W2068566145%7Chttps://openalex.org/W2068618306%7Chttps://openalex.org/W2070650251%7Chttps://openalex.org/W2070792131%7Chttps://openalex.org/W2070997084%7Chttps://openalex.org/W2071128523%7Chttps://openalex.org/W2072605585%7Chttps://openalex.org/W2072853501%7Chttps://openalex.org/W2073127487%7Chttps://openalex.org/W2073385196%7Chttps://openalex.org/W2074107874%7Chttps://openalex.org/W2083477232%7Chttps://openalex.org/W2084907280%7Chttps://openalex.org/W2086776926%7Chttps://openalex.org/W2089628901%7Chttps://openalex.org/W2091321577%7Chttps://openalex.org/W2093486931%7Chttps://openalex.org/W2093579479%7Chttps://openalex.org/W2097581696%7Chttps://openalex.org/W2099402381%7Chttps://openalex.org/W2100668339%7Chttps://openalex.org/W2102052485%7Chttps://openalex.org/W2110101131%7Chttps://openalex.org/W2115739330%7Chttps://openalex.org/W2122034733%7Chttps://openalex.org/W2131022537%7Chttps://openalex.org/W2132047750%7Chttps://openalex.org/W2133927618%7Chttps://openalex.org/W2134312057%7Chttps://openalex.org/W2136166259%7Chttps://openalex.org/W2137199074%7Chttps://openalex.org/W2139403803%7Chttps://openalex.org/W2141373701%7Chttps://openalex.org/W2148319454%7Chttps://openalex.org/W2149197198%7Chttps://openalex.org/W2149701797%7Chttps://openalex.org/W2152825437%7Chttps://openalex.org/W2159843554%7Chttps://openalex.org/W2162330838%7Chttps://openalex.org/W2166326690%7Chttps://openalex.org/W2166943296%7Chttps://openalex.org/W2167297612%7Chttps://openalex.org/W2169371330%7Chttps://openalex.org/W2261200122%7Chttps://openalex.org/W2294798173%7Chttps://openalex.org/W2314259680%7Chttps://openalex.org/W2317912355%7Chttps://openalex.org/W2326350690%7Chttps://openalex.org/W2331529182%7Chttps://openalex.org/W2333894986%7Chttps://openalex.org/W2403530558%7Chttps://openalex.org/W2403747715%7Chttps://openalex.org/W2484123132%7Chttps://openalex.org/W2540408039%7Chttps://openalex.org/W2740799926%7Chttps://openalex.org/W2752908210%7Chttps://openalex.org/W2799867313%7Chttps://openalex.org/W3017143921%7Chttps://openalex.org/W3022367189%7Chttps://openalex.org/W3023422680%7Chttps://openalex.org/W3138705964%7Chttps://openalex.org/W3147085122%7Chttps://openalex.org/W3148545033%7Chttps://openalex.org/W3210759977%7Chttps://openalex.org/W4214734294%7Chttps://openalex.org/W4233519093%7Chttps://openalex.org/W4235645843%7Chttps://openalex.org/W4237058027%7Chttps://openalex.org/W4237211384%7Chttps://openalex.org/W4238459386%7Chttps://openalex.org/W4247172534%7Chttps://openalex.org/W4252602300%7Chttps://openalex.org/W4255198456%7Chttps://openalex.org/W4256550993%7Chttps://openalex.org/W4285719527%7Chttps://openalex.org/W4300515658%7Chttps://openalex.org/W4300633630%7Chttps://openalex.org/W47803021\n",
      "An exception occurred: 414 Client Error: Request-URI Too Long for url: https://api.openalex.org/works?filter=openalex_id:https://openalex.org/W119153576%7Chttps://openalex.org/W1546389931%7Chttps://openalex.org/W180797430%7Chttps://openalex.org/W186066839%7Chttps://openalex.org/W1872799242%7Chttps://openalex.org/W1964035279%7Chttps://openalex.org/W1964191462%7Chttps://openalex.org/W1965522444%7Chttps://openalex.org/W1965627645%7Chttps://openalex.org/W1965794022%7Chttps://openalex.org/W1966207563%7Chttps://openalex.org/W1967769060%7Chttps://openalex.org/W1968245656%7Chttps://openalex.org/W1968363961%7Chttps://openalex.org/W1968717113%7Chttps://openalex.org/W1968810708%7Chttps://openalex.org/W1969194081%7Chttps://openalex.org/W1969550434%7Chttps://openalex.org/W1970684742%7Chttps://openalex.org/W1972885239%7Chttps://openalex.org/W1972969203%7Chttps://openalex.org/W1972983982%7Chttps://openalex.org/W1973033359%7Chttps://openalex.org/W1973993710%7Chttps://openalex.org/W1975131337%7Chttps://openalex.org/W1975141733%7Chttps://openalex.org/W1975414505%7Chttps://openalex.org/W1976432968%7Chttps://openalex.org/W1976632163%7Chttps://openalex.org/W1977738087%7Chttps://openalex.org/W1978476418%7Chttps://openalex.org/W1978966629%7Chttps://openalex.org/W1979379669%7Chttps://openalex.org/W1980118174%7Chttps://openalex.org/W1980625189%7Chttps://openalex.org/W1984608722%7Chttps://openalex.org/W1985132514%7Chttps://openalex.org/W1986399493%7Chttps://openalex.org/W1986682322%7Chttps://openalex.org/W1987146653%7Chttps://openalex.org/W1988359600%7Chttps://openalex.org/W1989079570%7Chttps://openalex.org/W1989112925%7Chttps://openalex.org/W1989193877%7Chttps://openalex.org/W1991037772%7Chttps://openalex.org/W1991599654%7Chttps://openalex.org/W1991967555%7Chttps://openalex.org/W1992296815%7Chttps://openalex.org/W1992620092%7Chttps://openalex.org/W1993499606%7Chttps://openalex.org/W1995734839%7Chttps://openalex.org/W1997193039%7Chttps://openalex.org/W1998707058%7Chttps://openalex.org/W2001261437%7Chttps://openalex.org/W2002448074%7Chttps://openalex.org/W2002825326%7Chttps://openalex.org/W2003442449%7Chttps://openalex.org/W2003773773%7Chttps://openalex.org/W2003786717%7Chttps://openalex.org/W2004152726%7Chttps://openalex.org/W2005185463%7Chttps://openalex.org/W2006533284%7Chttps://openalex.org/W2006650073%7Chttps://openalex.org/W2006704346%7Chttps://openalex.org/W2007287810%7Chttps://openalex.org/W2007725702%7Chttps://openalex.org/W2010420146%7Chttps://openalex.org/W2010966430%7Chttps://openalex.org/W2012074020%7Chttps://openalex.org/W2012857864%7Chttps://openalex.org/W2013936335%7Chttps://openalex.org/W2015462839%7Chttps://openalex.org/W2016003148%7Chttps://openalex.org/W2016222866%7Chttps://openalex.org/W2016272046%7Chttps://openalex.org/W2016543325%7Chttps://openalex.org/W2019247133%7Chttps://openalex.org/W2019527726%7Chttps://openalex.org/W2019831869%7Chttps://openalex.org/W2020020853%7Chttps://openalex.org/W2020135021%7Chttps://openalex.org/W2021952435%7Chttps://openalex.org/W2021993704%7Chttps://openalex.org/W2022327765%7Chttps://openalex.org/W2022803415%7Chttps://openalex.org/W2024533723%7Chttps://openalex.org/W2028750032%7Chttps://openalex.org/W2030224042%7Chttps://openalex.org/W2031154997%7Chttps://openalex.org/W2031821673%7Chttps://openalex.org/W2032648363%7Chttps://openalex.org/W2032706752%7Chttps://openalex.org/W2033736966%7Chttps://openalex.org/W2035593230%7Chttps://openalex.org/W2040495798%7Chttps://openalex.org/W2041637873%7Chttps://openalex.org/W2041643153%7Chttps://openalex.org/W2041674589%7Chttps://openalex.org/W2042105429%7Chttps://openalex.org/W2042119491%7Chttps://openalex.org/W2042628505%7Chttps://openalex.org/W2043855264%7Chttps://openalex.org/W2044848090%7Chttps://openalex.org/W2044909121%7Chttps://openalex.org/W2045723038%7Chttps://openalex.org/W2048045114%7Chttps://openalex.org/W2048181291%7Chttps://openalex.org/W2048762584%7Chttps://openalex.org/W2050103725%7Chttps://openalex.org/W2050417312%7Chttps://openalex.org/W2050600637%7Chttps://openalex.org/W2051365520%7Chttps://openalex.org/W2052598336%7Chttps://openalex.org/W2052631143%7Chttps://openalex.org/W2052795245%7Chttps://openalex.org/W2054316338%7Chttps://openalex.org/W2055284243%7Chttps://openalex.org/W2055436430%7Chttps://openalex.org/W2055781831%7Chttps://openalex.org/W2056155661%7Chttps://openalex.org/W2056239429%7Chttps://openalex.org/W2056728216%7Chttps://openalex.org/W2056968388%7Chttps://openalex.org/W2057600032%7Chttps://openalex.org/W2058568633%7Chttps://openalex.org/W2058981907%7Chttps://openalex.org/W2060579029%7Chttps://openalex.org/W2061057720%7Chttps://openalex.org/W2061231286%7Chttps://openalex.org/W2062424880%7Chttps://openalex.org/W2063022975%7Chttps://openalex.org/W2063723202%7Chttps://openalex.org/W2063759339%7Chttps://openalex.org/W2066334600%7Chttps://openalex.org/W2067261957%7Chttps://openalex.org/W2067546189%7Chttps://openalex.org/W2069450838%7Chttps://openalex.org/W2069471540%7Chttps://openalex.org/W2069763820%7Chttps://openalex.org/W2070248501%7Chttps://openalex.org/W2070422104%7Chttps://openalex.org/W2070828593%7Chttps://openalex.org/W2072405256%7Chttps://openalex.org/W2072429988%7Chttps://openalex.org/W2072853501%7Chttps://openalex.org/W2072969914%7Chttps://openalex.org/W2073065192%7Chttps://openalex.org/W2073935331%7Chttps://openalex.org/W2075161270%7Chttps://openalex.org/W2075453726%7Chttps://openalex.org/W2077838062%7Chttps://openalex.org/W2078106319%7Chttps://openalex.org/W2080508532%7Chttps://openalex.org/W2080658119%7Chttps://openalex.org/W2080916011%7Chttps://openalex.org/W2081418881%7Chttps://openalex.org/W2081600611%7Chttps://openalex.org/W2081985452%7Chttps://openalex.org/W2082125094%7Chttps://openalex.org/W2082680376%7Chttps://openalex.org/W2082709661%7Chttps://openalex.org/W2082725248%7Chttps://openalex.org/W2082772326%7Chttps://openalex.org/W2083070454%7Chttps://openalex.org/W2083461522%7Chttps://openalex.org/W2083540043%7Chttps://openalex.org/W2084911657%7Chttps://openalex.org/W2086661045%7Chttps://openalex.org/W2087012806%7Chttps://openalex.org/W2087517326%7Chttps://openalex.org/W2088244743%7Chttps://openalex.org/W2089264794%7Chttps://openalex.org/W2089685876%7Chttps://openalex.org/W2090773344%7Chttps://openalex.org/W2091136670%7Chttps://openalex.org/W2091837848%7Chttps://openalex.org/W2092169631%7Chttps://openalex.org/W2092413216%7Chttps://openalex.org/W2092414860%7Chttps://openalex.org/W2092454790%7Chttps://openalex.org/W2093195733%7Chttps://openalex.org/W2094139270%7Chttps://openalex.org/W2094667214%7Chttps://openalex.org/W2094845328%7Chttps://openalex.org/W2095371848%7Chttps://openalex.org/W2097827422%7Chttps://openalex.org/W2099699490%7Chttps://openalex.org/W2099766202%7Chttps://openalex.org/W2101132289%7Chttps://openalex.org/W2102052485%7Chttps://openalex.org/W2102104906%7Chttps://openalex.org/W2105195362%7Chttps://openalex.org/W2107356280%7Chttps://openalex.org/W2107600997%7Chttps://openalex.org/W2109462692%7Chttps://openalex.org/W2112627839%7Chttps://openalex.org/W2114697775%7Chttps://openalex.org/W2117531214%7Chttps://openalex.org/W2125858397%7Chttps://openalex.org/W2129733001%7Chttps://openalex.org/W2130881448%7Chttps://openalex.org/W2133138342%7Chttps://openalex.org/W2134531745%7Chttps://openalex.org/W2134809980%7Chttps://openalex.org/W2135413013%7Chttps://openalex.org/W2136258376%7Chttps://openalex.org/W2138515128%7Chttps://openalex.org/W2139480859%7Chttps://openalex.org/W2146148237%7Chttps://openalex.org/W2146220734%7Chttps://openalex.org/W2147920495%7Chttps://openalex.org/W2148195763%7Chttps://openalex.org/W2149813012%7Chttps://openalex.org/W2150464846%7Chttps://openalex.org/W2150642297%7Chttps://openalex.org/W2151043898%7Chttps://openalex.org/W2152244239%7Chttps://openalex.org/W2153596000%7Chttps://openalex.org/W2158232054%7Chttps://openalex.org/W2160050411%7Chttps://openalex.org/W2161211699%7Chttps://openalex.org/W2162106833%7Chttps://openalex.org/W2163171276%7Chttps://openalex.org/W2164638330%7Chttps://openalex.org/W2165081232%7Chttps://openalex.org/W2165917444%7Chttps://openalex.org/W2165957471%7Chttps://openalex.org/W2166044448%7Chttps://openalex.org/W2166993289%7Chttps://openalex.org/W2168182772%7Chttps://openalex.org/W2295345027%7Chttps://openalex.org/W2324771995%7Chttps://openalex.org/W2484123132%7Chttps://openalex.org/W2491060426%7Chttps://openalex.org/W2532447494%7Chttps://openalex.org/W2536628484%7Chttps://openalex.org/W2543124877%7Chttps://openalex.org/W2545801039%7Chttps://openalex.org/W2913924563%7Chttps://openalex.org/W3137797427%7Chttps://openalex.org/W3138321850%7Chttps://openalex.org/W3138699974%7Chttps://openalex.org/W3139240130%7Chttps://openalex.org/W314814195%7Chttps://openalex.org/W3151986561%7Chttps://openalex.org/W4211170080%7Chttps://openalex.org/W4212789420%7Chttps://openalex.org/W4213358980%7Chttps://openalex.org/W4233089246%7Chttps://openalex.org/W4234727811%7Chttps://openalex.org/W4235359104%7Chttps://openalex.org/W4301892832%7Chttps://openalex.org/W49333456%7Chttps://openalex.org/W588518902%7Chttps://openalex.org/W77615446%7Chttps://openalex.org/W86216828\n",
      "An exception occurred: 400 Client Error: Bad Request for url: https://api.openalex.org/works?filter=openalex_id:https://openalex.org/W122602034%7Chttps://openalex.org/W1544645777%7Chttps://openalex.org/W1549148079%7Chttps://openalex.org/W1550129156%7Chttps://openalex.org/W1552679402%7Chttps://openalex.org/W1556179167%7Chttps://openalex.org/W1556484097%7Chttps://openalex.org/W1964311228%7Chttps://openalex.org/W1964782703%7Chttps://openalex.org/W1964903577%7Chttps://openalex.org/W1966774514%7Chttps://openalex.org/W1968703352%7Chttps://openalex.org/W1968733413%7Chttps://openalex.org/W1969616041%7Chttps://openalex.org/W1970001627%7Chttps://openalex.org/W1972621128%7Chttps://openalex.org/W1975491074%7Chttps://openalex.org/W1975668807%7Chttps://openalex.org/W1977009053%7Chttps://openalex.org/W1977297377%7Chttps://openalex.org/W1977943905%7Chttps://openalex.org/W1983854254%7Chttps://openalex.org/W1988565019%7Chttps://openalex.org/W1990466045%7Chttps://openalex.org/W1993687066%7Chttps://openalex.org/W1994845544%7Chttps://openalex.org/W1995916579%7Chttps://openalex.org/W1999749574%7Chttps://openalex.org/W2003529014%7Chttps://openalex.org/W2004735518%7Chttps://openalex.org/W2004986453%7Chttps://openalex.org/W2005323047%7Chttps://openalex.org/W2012095874%7Chttps://openalex.org/W2014352548%7Chttps://openalex.org/W2014738319%7Chttps://openalex.org/W2017473312%7Chttps://openalex.org/W2017820081%7Chttps://openalex.org/W2017927472%7Chttps://openalex.org/W2018178585%7Chttps://openalex.org/W2019118616%7Chttps://openalex.org/W2021320381%7Chttps://openalex.org/W2021891065%7Chttps://openalex.org/W2022543990%7Chttps://openalex.org/W2023543651%7Chttps://openalex.org/W2024810999%7Chttps://openalex.org/W2039589732%7Chttps://openalex.org/W2040870580%7Chttps://openalex.org/W2041858383%7Chttps://openalex.org/W2042639075%7Chttps://openalex.org/W2044332649%7Chttps://openalex.org/W2047313141%7Chttps://openalex.org/W2047402722%7Chttps://openalex.org/W2048473222%7Chttps://openalex.org/W2049560039%7Chttps://openalex.org/W2050953393%7Chttps://openalex.org/W2054102673%7Chttps://openalex.org/W2057121810%7Chttps://openalex.org/W2057869967%7Chttps://openalex.org/W2058157356%7Chttps://openalex.org/W2060322444%7Chttps://openalex.org/W2061116853%7Chttps://openalex.org/W2064285318%7Chttps://openalex.org/W2067106926%7Chttps://openalex.org/W2069490433%7Chttps://openalex.org/W2070088289%7Chttps://openalex.org/W2070679755%7Chttps://openalex.org/W2071599593%7Chttps://openalex.org/W2071610421%7Chttps://openalex.org/W2075773711%7Chttps://openalex.org/W2077049953%7Chttps://openalex.org/W2078273130%7Chttps://openalex.org/W2080407442%7Chttps://openalex.org/W2080498731%7Chttps://openalex.org/W2080875657%7Chttps://openalex.org/W2081376427%7Chttps://openalex.org/W2083146465%7Chttps://openalex.org/W2086333577%7Chttps://openalex.org/W2086637811%7Chttps://openalex.org/W2088315754%7Chttps://openalex.org/W2089751198%7Chttps://openalex.org/W2090586109%7Chttps://openalex.org/W2092270738%7Chttps://openalex.org/W2092699841%7Chttps://openalex.org/W2094051355%7Chttps://openalex.org/W2094998448%7Chttps://openalex.org/W2098545279%7Chttps://openalex.org/W2099937840%7Chttps://openalex.org/W2100091624%7Chttps://openalex.org/W2100363347%7Chttps://openalex.org/W2101229528%7Chttps://openalex.org/W2102864251%7Chttps://openalex.org/W2105009036%7Chttps://openalex.org/W2110018073%7Chttps://openalex.org/W2111030512%7Chttps://openalex.org/W2111064389%7Chttps://openalex.org/W2112311949%7Chttps://openalex.org/W2113639550%7Chttps://openalex.org/W2114949864%7Chttps://openalex.org/W2119172234%7Chttps://openalex.org/W2119216293%7Chttps://openalex.org/W2123104824%7Chttps://openalex.org/W2124654678%7Chttps://openalex.org/W2126350813%7Chttps://openalex.org/W2127781839%7Chttps://openalex.org/W2130586999%7Chttps://openalex.org/W213188661%7Chttps://openalex.org/W2132377348%7Chttps://openalex.org/W2132422569%7Chttps://openalex.org/W2136445449%7Chttps://openalex.org/W2136964475%7Chttps://openalex.org/W2136989106%7Chttps://openalex.org/W2139810768%7Chttps://openalex.org/W2141393672%7Chttps://openalex.org/W2141512927%7Chttps://openalex.org/W2145998776%7Chttps://openalex.org/W2146100485%7Chttps://openalex.org/W2148089832%7Chttps://openalex.org/W2148592449%7Chttps://openalex.org/W2149564749%7Chttps://openalex.org/W2151277948%7Chttps://openalex.org/W2151689246%7Chttps://openalex.org/W2157700603%7Chttps://openalex.org/W2159187100%7Chttps://openalex.org/W2161998194%7Chttps://openalex.org/W2162735150%7Chttps://openalex.org/W2167081754%7Chttps://openalex.org/W2167375286%7Chttps://openalex.org/W2168647557%7Chttps://openalex.org/W2168757999%7Chttps://openalex.org/W2169366812%7Chttps://openalex.org/W2267153816%7Chttps://openalex.org/W2281259500%7Chttps://openalex.org/W2293007947%7Chttps://openalex.org/W2293859550%7Chttps://openalex.org/W2293974372%7Chttps://openalex.org/W2295530133%7Chttps://openalex.org/W2313049648%7Chttps://openalex.org/W2313987082%7Chttps://openalex.org/W2316683592%7Chttps://openalex.org/W2317255516%7Chttps://openalex.org/W2318320789%7Chttps://openalex.org/W2318828034%7Chttps://openalex.org/W2318939604%7Chttps://openalex.org/W2319160178%7Chttps://openalex.org/W2320295636%7Chttps://openalex.org/W2322167135%7Chttps://openalex.org/W2323030208%7Chttps://openalex.org/W2323389468%7Chttps://openalex.org/W2328736936%7Chttps://openalex.org/W2332420643%7Chttps://openalex.org/W2333946912%7Chttps://openalex.org/W2334611908%7Chttps://openalex.org/W2590137488%7Chttps://openalex.org/W285878086%7Chttps://openalex.org/W3014683728%7Chttps://openalex.org/W3023348153%7Chttps://openalex.org/W3089501184%7Chttps://openalex.org/W3117370908%7Chttps://openalex.org/W3128384119%7Chttps://openalex.org/W3143231940%7Chttps://openalex.org/W3147691426%7Chttps://openalex.org/W3150514870%7Chttps://openalex.org/W3159708702%7Chttps://openalex.org/W321341859%7Chttps://openalex.org/W4213353021%7Chttps://openalex.org/W4229836224%7Chttps://openalex.org/W4229859560%7Chttps://openalex.org/W4232884777%7Chttps://openalex.org/W4233043335%7Chttps://openalex.org/W4237093914%7Chttps://openalex.org/W4238855669%7Chttps://openalex.org/W4239547006%7Chttps://openalex.org/W4244363058%7Chttps://openalex.org/W4244511306%7Chttps://openalex.org/W4244661353%7Chttps://openalex.org/W4254042515%7Chttps://openalex.org/W4254890365%7Chttps://openalex.org/W4255588570%7Chttps://openalex.org/W4255665628%7Chttps://openalex.org/W4255845271%7Chttps://openalex.org/W4285719527%7Chttps://openalex.org/W649231226\n",
      "An exception occurred: 400 Client Error: Bad Request for url: https://api.openalex.org/works?filter=openalex_id:https://openalex.org/W122602034%7Chttps://openalex.org/W1493601225%7Chttps://openalex.org/W1504641618%7Chttps://openalex.org/W1535810436%7Chttps://openalex.org/W1542898605%7Chttps://openalex.org/W1577493656%7Chttps://openalex.org/W1587984077%7Chttps://openalex.org/W1603574597%7Chttps://openalex.org/W1604179385%7Chttps://openalex.org/W1641119751%7Chttps://openalex.org/W1663748261%7Chttps://openalex.org/W1965823135%7Chttps://openalex.org/W1966073956%7Chttps://openalex.org/W1969193386%7Chttps://openalex.org/W1969403998%7Chttps://openalex.org/W1970875376%7Chttps://openalex.org/W1973111970%7Chttps://openalex.org/W1975668807%7Chttps://openalex.org/W1976967275%7Chttps://openalex.org/W1977297377%7Chttps://openalex.org/W1977787604%7Chttps://openalex.org/W1978964989%7Chttps://openalex.org/W1981789328%7Chttps://openalex.org/W1982451833%7Chttps://openalex.org/W1986884463%7Chttps://openalex.org/W1987338578%7Chttps://openalex.org/W1989842598%7Chttps://openalex.org/W1990031977%7Chttps://openalex.org/W1991226677%7Chttps://openalex.org/W1991314789%7Chttps://openalex.org/W1991741680%7Chttps://openalex.org/W1994129586%7Chttps://openalex.org/W1995426156%7Chttps://openalex.org/W1996752032%7Chttps://openalex.org/W1996842967%7Chttps://openalex.org/W1998039799%7Chttps://openalex.org/W1998438744%7Chttps://openalex.org/W1998522605%7Chttps://openalex.org/W2001398109%7Chttps://openalex.org/W2003564779%7Chttps://openalex.org/W2005164144%7Chttps://openalex.org/W2008645545%7Chttps://openalex.org/W2012816642%7Chttps://openalex.org/W2014091871%7Chttps://openalex.org/W2016192525%7Chttps://openalex.org/W2016851466%7Chttps://openalex.org/W2018082680%7Chttps://openalex.org/W2018098804%7Chttps://openalex.org/W2022305914%7Chttps://openalex.org/W2022786318%7Chttps://openalex.org/W2024401775%7Chttps://openalex.org/W2026416691%7Chttps://openalex.org/W2027382393%7Chttps://openalex.org/W2027875806%7Chttps://openalex.org/W2029519781%7Chttps://openalex.org/W2029994216%7Chttps://openalex.org/W2030466644%7Chttps://openalex.org/W2030848761%7Chttps://openalex.org/W2032960874%7Chttps://openalex.org/W2033068324%7Chttps://openalex.org/W2034847069%7Chttps://openalex.org/W2035267265%7Chttps://openalex.org/W2038363923%7Chttps://openalex.org/W2038706071%7Chttps://openalex.org/W2039079068%7Chttps://openalex.org/W2039328708%7Chttps://openalex.org/W2040233798%7Chttps://openalex.org/W2042639075%7Chttps://openalex.org/W2042991160%7Chttps://openalex.org/W2044328772%7Chttps://openalex.org/W2045031658%7Chttps://openalex.org/W2045722176%7Chttps://openalex.org/W2046858665%7Chttps://openalex.org/W2047892175%7Chttps://openalex.org/W2049212269%7Chttps://openalex.org/W2051529613%7Chttps://openalex.org/W2054102673%7Chttps://openalex.org/W2055522770%7Chttps://openalex.org/W2056090097%7Chttps://openalex.org/W2061970672%7Chttps://openalex.org/W2062468126%7Chttps://openalex.org/W2062897452%7Chttps://openalex.org/W2063111279%7Chttps://openalex.org/W2063426099%7Chttps://openalex.org/W2064030405%7Chttps://openalex.org/W2065389787%7Chttps://openalex.org/W2066331521%7Chttps://openalex.org/W2067123971%7Chttps://openalex.org/W2067377980%7Chttps://openalex.org/W2067870864%7Chttps://openalex.org/W2068039102%7Chttps://openalex.org/W2069224897%7Chttps://openalex.org/W2070877273%7Chttps://openalex.org/W2071939395%7Chttps://openalex.org/W2072521261%7Chttps://openalex.org/W2072647002%7Chttps://openalex.org/W2072900356%7Chttps://openalex.org/W2073143419%7Chttps://openalex.org/W2074848507%7Chttps://openalex.org/W2077259328%7Chttps://openalex.org/W2078022909%7Chttps://openalex.org/W2078200762%7Chttps://openalex.org/W2079098866%7Chttps://openalex.org/W2083822917%7Chttps://openalex.org/W2084251401%7Chttps://openalex.org/W2085089824%7Chttps://openalex.org/W2086333577%7Chttps://openalex.org/W2086788142%7Chttps://openalex.org/W2087990731%7Chttps://openalex.org/W2088315754%7Chttps://openalex.org/W2088453837%7Chttps://openalex.org/W2088771528%7Chttps://openalex.org/W2089355415%7Chttps://openalex.org/W2090353549%7Chttps://openalex.org/W2091441673%7Chttps://openalex.org/W209179200%7Chttps://openalex.org/W2092613926%7Chttps://openalex.org/W2092919073%7Chttps://openalex.org/W2094810360%7Chttps://openalex.org/W2108831342%7Chttps://openalex.org/W2109325387%7Chttps://openalex.org/W2109382266%7Chttps://openalex.org/W2109545926%7Chttps://openalex.org/W2111717646%7Chttps://openalex.org/W2112108433%7Chttps://openalex.org/W2113589325%7Chttps://openalex.org/W2114902095%7Chttps://openalex.org/W2115241374%7Chttps://openalex.org/W2117979709%7Chttps://openalex.org/W2118840672%7Chttps://openalex.org/W2119047868%7Chttps://openalex.org/W2123104824%7Chttps://openalex.org/W2125416228%7Chttps://openalex.org/W2128803156%7Chttps://openalex.org/W2128949548%7Chttps://openalex.org/W2129414328%7Chttps://openalex.org/W2132453167%7Chttps://openalex.org/W2137532804%7Chttps://openalex.org/W2138910582%7Chttps://openalex.org/W2139374485%7Chttps://openalex.org/W2141393672%7Chttps://openalex.org/W2142980624%7Chttps://openalex.org/W2144711910%7Chttps://openalex.org/W2147535670%7Chttps://openalex.org/W2148089832%7Chttps://openalex.org/W2148269504%7Chttps://openalex.org/W2149059172%7Chttps://openalex.org/W2149564749%7Chttps://openalex.org/W2149820435%7Chttps://openalex.org/W2150014014%7Chttps://openalex.org/W2151617300%7Chttps://openalex.org/W2153339042%7Chttps://openalex.org/W2153818590%7Chttps://openalex.org/W2155306255%7Chttps://openalex.org/W2158109223%7Chttps://openalex.org/W2162220461%7Chttps://openalex.org/W2163999518%7Chttps://openalex.org/W2164145190%7Chttps://openalex.org/W2164894425%7Chttps://openalex.org/W2165432485%7Chttps://openalex.org/W2166645625%7Chttps://openalex.org/W2171998733%7Chttps://openalex.org/W2178931739%7Chttps://openalex.org/W2181157858%7Chttps://openalex.org/W2188603919%7Chttps://openalex.org/W2249281747%7Chttps://openalex.org/W2259465971%7Chttps://openalex.org/W2293007947%7Chttps://openalex.org/W2295744034%7Chttps://openalex.org/W2296756230%7Chttps://openalex.org/W2317030384%7Chttps://openalex.org/W2320493540%7Chttps://openalex.org/W2325084618%7Chttps://openalex.org/W2329506628%7Chttps://openalex.org/W2330138110%7Chttps://openalex.org/W2395474067%7Chttps://openalex.org/W2397759413%7Chttps://openalex.org/W2409763365%7Chttps://openalex.org/W2412919340%7Chttps://openalex.org/W2420742708%7Chttps://openalex.org/W2474992777%7Chttps://openalex.org/W2483887756%7Chttps://openalex.org/W2484906837%7Chttps://openalex.org/W2488785995%7Chttps://openalex.org/W2544960661%7Chttps://openalex.org/W2577664326%7Chttps://openalex.org/W2587148737%7Chttps://openalex.org/W2802891680%7Chttps://openalex.org/W2885837152%7Chttps://openalex.org/W2970210163%7Chttps://openalex.org/W2998656612%7Chttps://openalex.org/W3023348153%7Chttps://openalex.org/W302468760%7Chttps://openalex.org/W3091740746%7Chttps://openalex.org/W3128275321%7Chttps://openalex.org/W3135339908%7Chttps://openalex.org/W3140039846%7Chttps://openalex.org/W3150649775%7Chttps://openalex.org/W3150752998%7Chttps://openalex.org/W3182208082%7Chttps://openalex.org/W330810175%7Chttps://openalex.org/W4205178514%7Chttps://openalex.org/W4206291426%7Chttps://openalex.org/W4214613180%7Chttps://openalex.org/W4230861336%7Chttps://openalex.org/W4231411008%7Chttps://openalex.org/W4233045210%7Chttps://openalex.org/W4234631925%7Chttps://openalex.org/W4238078087%7Chttps://openalex.org/W4240778903%7Chttps://openalex.org/W4241700507%7Chttps://openalex.org/W4245714497%7Chttps://openalex.org/W4247602273%7Chttps://openalex.org/W4250583963%7Chttps://openalex.org/W4285719527%7Chttps://openalex.org/W4302610140%7Chttps://openalex.org/W645031987%7Chttps://openalex.org/W66806452\n",
      "Nodes in the network:\n",
      "2389\n",
      "Edges in the network:\n",
      "449\n",
      "CPU times: user 8.37 s, sys: 634 ms, total: 9 s\n",
      "Wall time: 3min 30s\n"
     ]
    }
   ],
   "source": [
    "%%time\n",
    "# Create a directed graph\n",
    "G = nx.DiGraph()\n",
    "\n",
    "# Add nodes and edges\n",
    "for ix,item in tqdm.tqdm(df.iterrows(),total=701):\n",
    "    authors = []\n",
    "    for au in item['authorships']:\n",
    "        aut_id = au['author']['id']\n",
    "        G.add_node(aut_id)\n",
    "        authors.append(aut_id)\n",
    "    ref_articles_list = item['referenced_works']\n",
    "    # Sometimes there are empty things\n",
    "    try:\n",
    "        if len(ref_articles_list)>0:\n",
    "            ref_authors_list = list(pd.DataFrame(Works()[ref_articles_list])['authorships'])\n",
    "            #print('ref articles list working')\n",
    "            referenced_authors = []\n",
    "            for ref_au in ref_authors_list:\n",
    "                # Sometimes there are empty things\n",
    "                if len(ref_au)>0:\n",
    "                    ref_aut_id = ref_au[0]['author']['id']\n",
    "                    G.add_node(ref_aut_id)\n",
    "                    referenced_authors.append(aut_id)\n",
    "            for ref_au in referenced_authors:\n",
    "                for au in authors:\n",
    "                    G.add_edge(ref_au, au)\n",
    "    except Exception as error:\n",
    "        print(\"An exception occurred:\", error)\n",
    "        print('This occurred at paper id:', item['id'])\n",
    "        print('The referenced author list is:',)\n",
    "\n",
    "# Optionally, you can print the nodes and edges to verify\n",
    "print(\"Nodes in the network:\")\n",
    "print(len(G.nodes()))\n",
    "print(\"Edges in the network:\")\n",
    "print(len(G.edges()))"
   ]
  },
  {
   "cell_type": "code",
   "execution_count": null,
   "metadata": {},
   "outputs": [],
   "source": []
  }
 ],
 "metadata": {
  "kernelspec": {
   "display_name": "base",
   "language": "python",
   "name": "python3"
  },
  "language_info": {
   "codemirror_mode": {
    "name": "ipython",
    "version": 3
   },
   "file_extension": ".py",
   "mimetype": "text/x-python",
   "name": "python",
   "nbconvert_exporter": "python",
   "pygments_lexer": "ipython3",
   "version": "3.10.9"
  }
 },
 "nbformat": 4,
 "nbformat_minor": 2
}
