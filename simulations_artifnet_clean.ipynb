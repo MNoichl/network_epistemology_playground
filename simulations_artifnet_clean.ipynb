{
 "cells": [
  {
   "cell_type": "markdown",
   "metadata": {},
   "source": [
    "# Setup"
   ]
  },
  {
   "cell_type": "code",
   "execution_count": 1,
   "metadata": {},
   "outputs": [
    {
     "name": "stdout",
     "output_type": "stream",
     "text": [
      "Now downloading: Roboto Condensed\n",
      "Added new font as Roboto Condensed Light\n",
      "Added new font as Roboto Condensed\n",
      "Added new font as Roboto Condensed\n",
      "Added new font as Roboto Condensed Black\n",
      "Now downloading: Montserrat\n",
      "Added new font as Montserrat Thin Light\n",
      "Added new font as Montserrat Thin\n",
      "Added new font as Montserrat Thin\n",
      "Added new font as Montserrat Thin Black\n",
      "Now downloading: Source Code Pro\n",
      "Added new font as Source Code Pro ExtraLight Light\n",
      "Added new font as Source Code Pro ExtraLight\n",
      "Added new font as Source Code Pro ExtraLight\n",
      "Added new font as Source Code Pro ExtraLight Black\n",
      "Now downloading: Fira Sans\n",
      "Added new font as Fira Sans Light\n",
      "Added new font as Fira Sans\n",
      "Added new font as Fira Sans\n",
      "Added new font as Fira Sans Black\n",
      "Now downloading: Fira Sans Condensed\n",
      "Added new font as Fira Sans Condensed Light\n",
      "Added new font as Fira Sans Condensed\n",
      "Added new font as Fira Sans Condensed\n",
      "Added new font as Fira Sans Condensed Black\n",
      "Now downloading: IBM Plex Sans\n",
      "Added new font as IBM Plex Sans Light\n",
      "Added new font as IBM Plex Sans\n",
      "Added new font as IBM Plex Sans\n",
      "Now downloading: Space Grotesk\n",
      "Added new font as Space Grotesk Light Light\n",
      "Added new font as Space Grotesk Light\n",
      "Added new font as Space Grotesk Light\n",
      "Now downloading: Space Mono\n",
      "Added new font as Space Mono\n",
      "Added new font as Space Mono\n",
      "Now downloading: Roboto\n",
      "Added new font as Roboto Light\n",
      "Added new font as Roboto\n",
      "Added new font as Roboto\n",
      "Added new font as Roboto Black\n",
      "Now downloading: Jost\n",
      "Added new font as Jost Light\n",
      "Added new font as Jost\n",
      "Added new font as Jost\n",
      "Added new font as Jost Black\n",
      "Now downloading: Titillium Web\n",
      "Added new font as Titillium Web Light\n",
      "Added new font as Titillium Web\n",
      "Added new font as Titillium Web\n",
      "Added new font as Titillium Web Black\n"
     ]
    }
   ],
   "source": [
    "import numpy as np\n",
    "from agents_clean import Agent\n",
    "from model_clean import Model\n",
    "from hybrid_networks_clean import rewire_network, randomize_network_v2, create_hybrid_network\n",
    "from tqdm import tqdm\n",
    "import networkx as nx\n",
    "import pandas as pd\n",
    "import random\n",
    "import numbers\n",
    "import opinionated\n",
    "import matplotlib.pyplot as plt\n",
    "plt.style.use(\"opinionated_rc\")\n",
    "import colormaps as cmaps  "
   ]
  },
  {
   "cell_type": "markdown",
   "metadata": {},
   "source": [
    "# Generate Parameters"
   ]
  },
  {
   "cell_type": "code",
   "execution_count": 2,
   "metadata": {},
   "outputs": [],
   "source": [
    "def generate_parameters(n,rewiring_type='hierarchical'):\n",
    "    params_list = []\n",
    "    #print('Generating parameters...')\n",
    "    for _ in tqdm(range(n),desc=\"Generating parameters\"):\n",
    "        n_agents = random.randint(10, 500)\n",
    "        ba_degree = random.randint(1, int(n_agents/10))\n",
    "        er_prob=random.uniform(0, 0.5)\n",
    "        p_rewiring = random.uniform(0, 1)\n",
    "        if rewiring_type=='hierarchical':\n",
    "            G_er = nx.gnp_random_graph(n_agents, er_prob, directed=True)\n",
    "            network = rewire_network(G_er, p_rewiring=p_rewiring)\n",
    "        if rewiring_type=='randomize':\n",
    "            G_ba = nx.barabasi_albert_graph(n_agents, ba_degree)\n",
    "            network = randomize_network_v2(G_ba, p_rewiring=p_rewiring)\n",
    "        # Calculate the mean degree of each node\n",
    "        degrees = dict(network.degree())\n",
    "        mean_degree = sum(degrees.values()) / len(degrees)\n",
    "        uncertainty = random.uniform(0.001,0.025)\n",
    "        n_experiments = random.randint(10, 10000)\n",
    "        params = {\n",
    "            \"n_agents\": n_agents,\n",
    "            \"ba_degree\": ba_degree,\n",
    "            \"er_prob\":er_prob,\n",
    "            \"p_rewiring\": p_rewiring,\n",
    "            \"network\": network,\n",
    "            \"uncertainty\": uncertainty,\n",
    "            \"n_experiments\": n_experiments,\n",
    "            \"rewiring_type\":rewiring_type,\n",
    "            'mean_degree':mean_degree\n",
    "        }\n",
    "        params_list.append(params)\n",
    "    return params_list"
   ]
  },
  {
   "cell_type": "code",
   "execution_count": 4,
   "metadata": {},
   "outputs": [
    {
     "name": "stderr",
     "output_type": "stream",
     "text": [
      "Generating parameters:   0%|          | 0/2 [00:00<?, ?it/s]"
     ]
    },
    {
     "name": "stderr",
     "output_type": "stream",
     "text": [
      "Generating parameters: 100%|██████████| 2/2 [00:00<00:00, 13.30it/s]\n"
     ]
    },
    {
     "data": {
      "text/plain": [
       "[{'n_agents': 186,\n",
       "  'ba_degree': 9,\n",
       "  'er_prob': 0.16036092273920438,\n",
       "  'p_rewiring': 0.8911147198476125,\n",
       "  'network': <networkx.classes.graph.Graph at 0x7f9730803280>,\n",
       "  'uncertainty': 0.0026847011151696423,\n",
       "  'n_experiments': 7565,\n",
       "  'rewiring_type': 'randomize',\n",
       "  'mean_degree': 16.731182795698924},\n",
       " {'n_agents': 492,\n",
       "  'ba_degree': 29,\n",
       "  'er_prob': 0.15339882937872062,\n",
       "  'p_rewiring': 0.5302200954686809,\n",
       "  'network': <networkx.classes.graph.Graph at 0x7f97352c7b80>,\n",
       "  'uncertainty': 0.008721524489862065,\n",
       "  'n_experiments': 8093,\n",
       "  'rewiring_type': 'randomize',\n",
       "  'mean_degree': 52.65853658536585}]"
      ]
     },
     "execution_count": 4,
     "metadata": {},
     "output_type": "execute_result"
    }
   ],
   "source": [
    "# Example usage\n",
    "parameter_dictionaries = generate_parameters(2,rewiring_type='randomize')  # Generate parameter dictionaries\n",
    "parameter_dictionaries"
   ]
  },
  {
   "cell_type": "markdown",
   "metadata": {},
   "source": [
    "# Simulation Functions"
   ]
  },
  {
   "cell_type": "code",
   "execution_count": 6,
   "metadata": {},
   "outputs": [],
   "source": [
    "def run_simulation_with_params(param_dict, number_of_steps=10000, agent_type=\"bayes\"):\n",
    "    # Extract the network directly since it's already a NetworkX graph object\n",
    "    my_network = param_dict['network']\n",
    "    #agent_type = param_dict['agent_type']\n",
    "    # Other parameters are directly extracted from the dictionary\n",
    "    my_model = Model(my_network, n_experiments=param_dict['n_experiments'], uncertainty=param_dict['uncertainty']\n",
    "                    , agent_type=agent_type)\n",
    "    # Run the simulation with predefined steps and show_bar option\n",
    "    \n",
    "    my_model.run_simulation(number_of_steps=number_of_steps, show_bar=False)\n",
    "  \n",
    "    \n",
    "\n",
    "    result_dict = {\n",
    "        key: value \n",
    "        for key, value in param_dict.items() \n",
    "        if isinstance(value, (numbers.Number, str, tuple, list))}   \n",
    "    result_dict['true_consensus'] = my_model.conclusion\n",
    "    result_dict['true_consensus_alternative_stop'] = my_model.conclusion_alternative_stop\n",
    "    df = pd.DataFrame(my_model.agents_choices) \n",
    "    result_dict['choice_consensus'] = df.mean()[len(df.mean())-1]\n",
    "    result_dict['convergence_step'] = my_model.n_steps # takes note of the last reported step\n",
    "    result_dict['agent_type']=agent_type\n",
    "    \n",
    "    return result_dict\n",
    "\n",
    "\n",
    "def run_simulations(param_list, number_of_steps=10000,agent_type=\"bayes\"):\n",
    "    def run_simulation(param_dict):\n",
    "        return run_simulation_with_params(param_dict, number_of_steps=number_of_steps, agent_type=agent_type)\n",
    "    \n",
    "    results = []\n",
    "    # Iterate over each parameter dictionary in the list\n",
    "    for params in tqdm(param_list, desc=\"Running simulations\"):\n",
    "        result = run_simulation(params)\n",
    "        results.append(result)\n",
    "    \n",
    "    # Convert the list of results into a Pandas DataFrame\n",
    "    results_df = pd.DataFrame(results)\n",
    "    return results_df"
   ]
  },
  {
   "cell_type": "markdown",
   "metadata": {},
   "source": [
    "# Run Simulations"
   ]
  },
  {
   "cell_type": "code",
   "execution_count": 7,
   "metadata": {},
   "outputs": [
    {
     "name": "stderr",
     "output_type": "stream",
     "text": [
      "Generating parameters:   0%|          | 0/2 [00:00<?, ?it/s]"
     ]
    },
    {
     "name": "stderr",
     "output_type": "stream",
     "text": [
      "Generating parameters: 100%|██████████| 2/2 [00:04<00:00,  2.27s/it]\n",
      "Running simulations: 100%|██████████| 2/2 [00:00<00:00, 24.40it/s]\n"
     ]
    },
    {
     "data": {
      "text/html": [
       "<div>\n",
       "<style scoped>\n",
       "    .dataframe tbody tr th:only-of-type {\n",
       "        vertical-align: middle;\n",
       "    }\n",
       "\n",
       "    .dataframe tbody tr th {\n",
       "        vertical-align: top;\n",
       "    }\n",
       "\n",
       "    .dataframe thead th {\n",
       "        text-align: right;\n",
       "    }\n",
       "</style>\n",
       "<table border=\"1\" class=\"dataframe\">\n",
       "  <thead>\n",
       "    <tr style=\"text-align: right;\">\n",
       "      <th></th>\n",
       "      <th>n_agents</th>\n",
       "      <th>ba_degree</th>\n",
       "      <th>er_prob</th>\n",
       "      <th>p_rewiring</th>\n",
       "      <th>uncertainty</th>\n",
       "      <th>n_experiments</th>\n",
       "      <th>rewiring_type</th>\n",
       "      <th>mean_degree</th>\n",
       "      <th>true_consensus</th>\n",
       "      <th>true_consensus_alternative_stop</th>\n",
       "      <th>choice_consensus</th>\n",
       "      <th>convergence_step</th>\n",
       "      <th>agent_type</th>\n",
       "    </tr>\n",
       "  </thead>\n",
       "  <tbody>\n",
       "    <tr>\n",
       "      <th>0</th>\n",
       "      <td>323</td>\n",
       "      <td>9</td>\n",
       "      <td>0.059946</td>\n",
       "      <td>0.648412</td>\n",
       "      <td>0.008653</td>\n",
       "      <td>6855</td>\n",
       "      <td>hierarchical</td>\n",
       "      <td>39.207430</td>\n",
       "      <td>1.0</td>\n",
       "      <td>1.0</td>\n",
       "      <td>1.0</td>\n",
       "      <td>3</td>\n",
       "      <td>bayes</td>\n",
       "    </tr>\n",
       "    <tr>\n",
       "      <th>1</th>\n",
       "      <td>333</td>\n",
       "      <td>1</td>\n",
       "      <td>0.041191</td>\n",
       "      <td>0.367161</td>\n",
       "      <td>0.003898</td>\n",
       "      <td>3178</td>\n",
       "      <td>hierarchical</td>\n",
       "      <td>27.201201</td>\n",
       "      <td>1.0</td>\n",
       "      <td>1.0</td>\n",
       "      <td>1.0</td>\n",
       "      <td>16</td>\n",
       "      <td>bayes</td>\n",
       "    </tr>\n",
       "  </tbody>\n",
       "</table>\n",
       "</div>"
      ],
      "text/plain": [
       "   n_agents  ba_degree   er_prob  p_rewiring  uncertainty  n_experiments  \\\n",
       "0       323          9  0.059946    0.648412     0.008653           6855   \n",
       "1       333          1  0.041191    0.367161     0.003898           3178   \n",
       "\n",
       "  rewiring_type  mean_degree  true_consensus  true_consensus_alternative_stop  \\\n",
       "0  hierarchical    39.207430             1.0                              1.0   \n",
       "1  hierarchical    27.201201             1.0                              1.0   \n",
       "\n",
       "   choice_consensus  convergence_step agent_type  \n",
       "0               1.0                 3      bayes  \n",
       "1               1.0                16      bayes  "
      ]
     },
     "execution_count": 7,
     "metadata": {},
     "output_type": "execute_result"
    }
   ],
   "source": [
    "# Test Simulation\n",
    "parameter_dictionaries = generate_parameters(2,rewiring_type='hierarchical')  # Generate parameter dictionaries\n",
    "#print(parameter_dictionaries)\n",
    "test_results_df = run_simulations(parameter_dictionaries, number_of_steps=10000, agent_type=\"bayes\")\n",
    "test_results_df.to_csv('test_results_df.csv', index=False)\n",
    "test_results_df.head()"
   ]
  },
  {
   "cell_type": "markdown",
   "metadata": {},
   "source": []
  },
  {
   "cell_type": "markdown",
   "metadata": {},
   "source": []
  },
  {
   "cell_type": "code",
   "execution_count": 10,
   "metadata": {},
   "outputs": [
    {
     "name": "stderr",
     "output_type": "stream",
     "text": [
      "Generating parameters:   0%|          | 0/10 [00:00<?, ?it/s]"
     ]
    },
    {
     "name": "stderr",
     "output_type": "stream",
     "text": [
      "Generating parameters: 100%|██████████| 10/10 [00:00<00:00, 14.73it/s]\n",
      "Running simulations: 100%|██████████| 10/10 [00:00<00:00, 42.84it/s]"
     ]
    },
    {
     "name": "stdout",
     "output_type": "stream",
     "text": [
      "<class 'pandas.core.frame.DataFrame'>\n",
      "RangeIndex: 10 entries, 0 to 9\n",
      "Data columns (total 13 columns):\n",
      " #   Column                           Non-Null Count  Dtype  \n",
      "---  ------                           --------------  -----  \n",
      " 0   n_agents                         10 non-null     int64  \n",
      " 1   ba_degree                        10 non-null     int64  \n",
      " 2   er_prob                          10 non-null     float64\n",
      " 3   p_rewiring                       10 non-null     float64\n",
      " 4   uncertainty                      10 non-null     float64\n",
      " 5   n_experiments                    10 non-null     int64  \n",
      " 6   rewiring_type                    10 non-null     object \n",
      " 7   mean_degree                      10 non-null     float64\n",
      " 8   true_consensus                   10 non-null     float64\n",
      " 9   true_consensus_alternative_stop  10 non-null     float64\n",
      " 10  choice_consensus                 10 non-null     float64\n",
      " 11  convergence_step                 10 non-null     int64  \n",
      " 12  agent_type                       10 non-null     object \n",
      "dtypes: float64(7), int64(4), object(2)\n",
      "memory usage: 1.1+ KB\n"
     ]
    },
    {
     "name": "stderr",
     "output_type": "stream",
     "text": [
      "\n"
     ]
    }
   ],
   "source": [
    "# Bayes Agent\n",
    "do_initial_simulation = True\n",
    "if do_initial_simulation:\n",
    "    n_sims = 10 # this is for each type of rewiring\n",
    "    bayes_results_df = pd.DataFrame(columns=test_results_df.columns)\n",
    "    for rewiring_type in ['randomize']:\n",
    "        parameter_dictionaries = generate_parameters(n_sims,rewiring_type=rewiring_type)  # Generate parameter dictionaries\n",
    "        results_df1 = run_simulations(parameter_dictionaries, number_of_steps=10000, agent_type=\"bayes\")\n",
    "        bayes_results_df = pd.concat([bayes_results_df, results_df1], ignore_index=True)\n",
    "        \n",
    "    bayes_results_df.to_csv('bayesagent_results_df.csv', index=False)\n",
    "\n",
    "saved_bayes_results_df = pd.read_csv('bayesagent_results_df.csv')\n",
    "\n",
    "add_simulations = False\n",
    "if add_simulations:\n",
    "    n_sims = 450 # this is for each type of rewiring\n",
    "    bayes_results_df = pd.DataFrame(columns=test_results_df.columns)\n",
    "    for rewiring_type in ['randomize']:\n",
    "        parameter_dictionaries = generate_parameters(n_sims,rewiring_type=rewiring_type)  # Generate parameter dictionaries\n",
    "        results_df1 = run_simulations(parameter_dictionaries, number_of_steps=10000, agent_type=\"bayes\")\n",
    "        bayes_results_df = pd.concat([bayes_results_df, results_df1], ignore_index=True)\n",
    "    bayes_results_df = pd.concat([saved_bayes_results_df, bayes_results_df], ignore_index=True)\n",
    "    bayes_results_df.to_csv('bayesagent_results_df.csv', index=False)\n",
    "else: \n",
    "    bayes_results_df=saved_bayes_results_df\n",
    "    \n",
    "bayes_results_df.info()"
   ]
  },
  {
   "cell_type": "code",
   "execution_count": 11,
   "metadata": {},
   "outputs": [
    {
     "name": "stderr",
     "output_type": "stream",
     "text": [
      "Generating parameters: 100%|██████████| 10/10 [00:00<00:00, 21.94it/s]\n",
      "Running simulations: 100%|██████████| 10/10 [01:15<00:00,  7.54s/it]"
     ]
    },
    {
     "name": "stdout",
     "output_type": "stream",
     "text": [
      "<class 'pandas.core.frame.DataFrame'>\n",
      "RangeIndex: 10 entries, 0 to 9\n",
      "Data columns (total 13 columns):\n",
      " #   Column                           Non-Null Count  Dtype  \n",
      "---  ------                           --------------  -----  \n",
      " 0   n_agents                         10 non-null     int64  \n",
      " 1   ba_degree                        10 non-null     int64  \n",
      " 2   er_prob                          10 non-null     float64\n",
      " 3   p_rewiring                       10 non-null     float64\n",
      " 4   uncertainty                      10 non-null     float64\n",
      " 5   n_experiments                    10 non-null     int64  \n",
      " 6   rewiring_type                    10 non-null     object \n",
      " 7   mean_degree                      10 non-null     float64\n",
      " 8   true_consensus                   10 non-null     float64\n",
      " 9   true_consensus_alternative_stop  10 non-null     bool   \n",
      " 10  choice_consensus                 10 non-null     float64\n",
      " 11  convergence_step                 10 non-null     int64  \n",
      " 12  agent_type                       10 non-null     object \n",
      "dtypes: bool(1), float64(6), int64(4), object(2)\n",
      "memory usage: 1.1+ KB\n"
     ]
    },
    {
     "name": "stderr",
     "output_type": "stream",
     "text": [
      "\n"
     ]
    }
   ],
   "source": [
    "# Beta Agent\n",
    "do_initial_simulation = True\n",
    "if do_initial_simulation:\n",
    "    n_sims = 10\n",
    "    beta_results_df = pd.DataFrame(columns=test_results_df.columns)\n",
    "    for rewiring_type in ['randomize']:\n",
    "        parameter_dictionaries = generate_parameters(n_sims,rewiring_type=rewiring_type)  # Generate parameter dictionaries\n",
    "        results_df1 = run_simulations(parameter_dictionaries, number_of_steps=10000, agent_type=\"beta\")\n",
    "        beta_results_df = pd.concat([beta_results_df, results_df1], ignore_index=True)\n",
    "        \n",
    "    beta_results_df.to_csv('betaagent_results_df.csv', index=False)\n",
    "\n",
    "saved_beta_results_df = pd.read_csv('betaagent_results_df.csv')\n",
    "\n",
    "add_simulations = False\n",
    "if add_simulations:\n",
    "    n_sims = 2500 # this is for each type of rewiring\n",
    "    beta_results_df = pd.DataFrame(columns=test_results_df.columns)\n",
    "    for rewiring_type in ['randomize']:\n",
    "        parameter_dictionaries = generate_parameters(n_sims,rewiring_type=rewiring_type)  # Generate parameter dictionaries\n",
    "        results_df1 = run_simulations(parameter_dictionaries, number_of_steps=10000, agent_type=\"beta\")\n",
    "        beta_results_df = pd.concat([beta_results_df, results_df1], ignore_index=True)\n",
    "        \n",
    "    beta_results_df = pd.concat([saved_beta_results_df, beta_results_df], ignore_index=True)\n",
    "    beta_results_df.to_csv('betaagent_results_df.csv', index=False)\n",
    "else:\n",
    "    beta_results_df = saved_beta_results_df\n",
    "beta_results_df.info()"
   ]
  },
  {
   "cell_type": "markdown",
   "metadata": {},
   "source": [
    "# Now Some Plotting"
   ]
  },
  {
   "cell_type": "markdown",
   "metadata": {},
   "source": [
    "## Basic Plotting"
   ]
  },
  {
   "cell_type": "code",
   "execution_count": 12,
   "metadata": {},
   "outputs": [],
   "source": [
    "def plot_results(results_df=bayes_results_df,variable_of_interest = 'true_consensus',regressor = 'n_agents'):\n",
    "    grouped = results_df.groupby(['rewiring_type', regressor])[variable_of_interest].mean().reset_index()\n",
    "\n",
    "    # Preparing for the line plot\n",
    "    #grouped['mid_bin'] = grouped['binned'].apply(lambda x: x.mid).astype(float)  # Getting the midpoint of bins for plotting\n",
    "\n",
    "    # Plotting\n",
    "    plt.figure(figsize=(10, 8))\n",
    "\n",
    "    for rewiring_type in results_df['rewiring_type'].unique():\n",
    "        subset = grouped[grouped['rewiring_type'] == rewiring_type]\n",
    "        plt.plot(subset[regressor], subset[variable_of_interest], marker='o', label=rewiring_type)\n",
    "\n",
    "    plt.xlabel(regressor)\n",
    "    plt.ylabel('Share of '+variable_of_interest)\n",
    "    plt.title('Share of '+ variable_of_interest +' by ' + regressor)\n",
    "    opinionated.add_legend(title='rewiring_type')\n",
    "\n",
    "    plt.grid(True)\n",
    "    plt.show()"
   ]
  },
  {
   "cell_type": "code",
   "execution_count": 13,
   "metadata": {},
   "outputs": [
    {
     "data": {
      "image/png": "[encoded data removed]",
      "text/plain": [
       "<Figure size 1000x800 with 1 Axes>"
      ]
     },
     "metadata": {},
     "output_type": "display_data"
    },
    {
     "data": {
      "image/png": "[encoded data removed]",
      "text/plain": [
       "<Figure size 1000x800 with 1 Axes>"
      ]
     },
     "metadata": {},
     "output_type": "display_data"
    }
   ],
   "source": [
    "plot_results(bayes_results_df,variable_of_interest = 'true_consensus',regressor = 'p_rewiring')\n",
    "plot_results(bayes_results_df,variable_of_interest = 'convergence_step',regressor = 'p_rewiring')"
   ]
  },
  {
   "cell_type": "markdown",
   "metadata": {},
   "source": [
    "# More Advanced Plotting"
   ]
  },
  {
   "cell_type": "code",
   "execution_count": 44,
   "metadata": {},
   "outputs": [
    {
     "ename": "ModuleNotFoundError",
     "evalue": "No module named 'pygam'",
     "output_type": "error",
     "traceback": [
      "\u001b[0;31m---------------------------------------------------------------------------\u001b[0m",
      "\u001b[0;31mModuleNotFoundError\u001b[0m                       Traceback (most recent call last)",
      "Cell \u001b[0;32mIn[44], line 1\u001b[0m\n\u001b[0;32m----> 1\u001b[0m \u001b[38;5;28;01mfrom\u001b[39;00m \u001b[38;5;21;01mpygam\u001b[39;00m \u001b[38;5;28;01mimport\u001b[39;00m LogisticGAM, s\n\u001b[1;32m      2\u001b[0m \u001b[38;5;28;01mfrom\u001b[39;00m \u001b[38;5;21;01msklearn\u001b[39;00m\u001b[38;5;21;01m.\u001b[39;00m\u001b[38;5;21;01mmodel_selection\u001b[39;00m \u001b[38;5;28;01mimport\u001b[39;00m train_test_split\n",
      "\u001b[0;31mModuleNotFoundError\u001b[0m: No module named 'pygam'"
     ]
    }
   ],
   "source": [
    "from pygam import LogisticGAM, s\n",
    "from sklearn.model_selection import train_test_split"
   ]
  },
  {
   "cell_type": "code",
   "execution_count": 19,
   "metadata": {},
   "outputs": [
    {
     "name": "stdout",
     "output_type": "stream",
     "text": [
      "<class 'pandas.core.frame.DataFrame'>\n",
      "RangeIndex: 1060 entries, 0 to 1059\n",
      "Data columns (total 13 columns):\n",
      " #   Column                           Non-Null Count  Dtype  \n",
      "---  ------                           --------------  -----  \n",
      " 0   n_agents                         1060 non-null   object \n",
      " 1   ba_degree                        1060 non-null   object \n",
      " 2   er_prob                          1060 non-null   float64\n",
      " 3   p_rewiring                       1060 non-null   float64\n",
      " 4   uncertainty                      1060 non-null   float64\n",
      " 5   n_experiments                    1060 non-null   object \n",
      " 6   rewiring_type                    1060 non-null   object \n",
      " 7   mean_degree                      1060 non-null   float64\n",
      " 8   true_consensus                   1060 non-null   float64\n",
      " 9   true_consensus_alternative_stop  1060 non-null   object \n",
      " 10  choice_consensus                 1060 non-null   float64\n",
      " 11  convergence_step                 1060 non-null   object \n",
      " 12  agent_type                       1060 non-null   object \n",
      "dtypes: float64(6), object(7)\n",
      "memory usage: 107.8+ KB\n"
     ]
    }
   ],
   "source": [
    "bayes_results_df.info()"
   ]
  },
  {
   "cell_type": "markdown",
   "metadata": {},
   "source": [
    "## First Just on Number of Agents"
   ]
  },
  {
   "cell_type": "code",
   "execution_count": 20,
   "metadata": {},
   "outputs": [
    {
     "name": "stdout",
     "output_type": "stream",
     "text": [
      "Model for hierarchical:\n",
      "Accuracy on training data: 0.8301886792452831\n",
      "Accuracy on test data: 0.7861635220125787\n",
      "------------------------------\n",
      "Model for randomize:\n",
      "Accuracy on training data: 0.7547169811320755\n",
      "Accuracy on test data: 0.7044025157232704\n",
      "------------------------------\n"
     ]
    },
    {
     "name": "stderr",
     "output_type": "stream",
     "text": [
      "/Users/ignacioojea/anaconda3/lib/python3.10/site-packages/pygam/pygam.py:1151: RuntimeWarning: invalid value encountered in scalar divide\n",
      "  r2['McFadden'] = full_ll / null_ll\n",
      "/Users/ignacioojea/anaconda3/lib/python3.10/site-packages/pygam/pygam.py:1152: RuntimeWarning: invalid value encountered in scalar divide\n",
      "  r2['McFadden_adj'] = 1.0 - (full_ll - self.statistics_['edof']) / null_ll\n",
      "/Users/ignacioojea/anaconda3/lib/python3.10/site-packages/pygam/pygam.py:1151: RuntimeWarning: invalid value encountered in scalar divide\n",
      "  r2['McFadden'] = full_ll / null_ll\n",
      "/Users/ignacioojea/anaconda3/lib/python3.10/site-packages/pygam/pygam.py:1152: RuntimeWarning: invalid value encountered in scalar divide\n",
      "  r2['McFadden_adj'] = 1.0 - (full_ll - self.statistics_['edof']) / null_ll\n"
     ]
    },
    {
     "data": {
      "text/plain": [
       "({'hierarchical': LogisticGAM(callbacks=[Deviance(), Diffs(), Accuracy()], \n",
       "     fit_intercept=True, max_iter=100, terms=s(0) + intercept, \n",
       "     tol=0.0001, verbose=False),\n",
       "  'randomize': LogisticGAM(callbacks=[Deviance(), Diffs(), Accuracy()], \n",
       "     fit_intercept=True, max_iter=100, terms=s(0) + intercept, \n",
       "     tol=0.0001, verbose=False)},\n",
       "      n_agents  uncertainty  p_rewiring  mean_degree\n",
       " 10        115     0.009738    0.867927     9.391304\n",
       " 11        302     0.007404    0.215158    11.688742\n",
       " 12        238     0.001524    0.231605    18.857143\n",
       " 13         51     0.005738    0.375522     3.686275\n",
       " 14         34     0.007960    0.430805     5.235294\n",
       " ...       ...          ...         ...          ...\n",
       " 1055      275     0.008866    0.145741     5.912727\n",
       " 1056      366     0.001473    0.826891    61.311475\n",
       " 1057      120     0.003437    0.197620    18.016667\n",
       " 1058      291     0.006569    0.159598    41.498282\n",
       " 1059      443     0.006120    0.675676    26.492099\n",
       " \n",
       " [530 rows x 4 columns])"
      ]
     },
     "execution_count": 20,
     "metadata": {},
     "output_type": "execute_result"
    }
   ],
   "source": [
    "def do_regression(results_df=bayes_results_df,variable_of_interest = 'true_consensus'):\n",
    "    # Splitting the DataFrame by network type\n",
    "    network_types = results_df['rewiring_type'].unique()\n",
    "\n",
    "    my_gams = {}\n",
    "\n",
    "    for network_type in network_types:\n",
    "        # Subset the DataFrame by network type\n",
    "        subset = results_df[results_df['rewiring_type'] == network_type]\n",
    "        \n",
    "        # Preparing the data\n",
    "        X = subset[['n_agents','uncertainty','p_rewiring','mean_degree']]\n",
    "        y = subset[variable_of_interest]#.astype(int)  # Convert boolean to integer\n",
    "        \n",
    "        # Splitting the data into training and testing sets for model validation\n",
    "        X_train, X_test, y_train, y_test = train_test_split(X, y, test_size=0.3, random_state=42)\n",
    "        \n",
    "        # Fitting the Logistic GAM model\n",
    "        gam = LogisticGAM(s(0,n_splines=6)).fit(X_train, y_train)\n",
    "        \n",
    "        # Storing the model\n",
    "        my_gams[network_type] = gam\n",
    "        \n",
    "        # Optionally, you can print out model accuracy or other statistics here\n",
    "        print(f\"Model for {network_type}:\")\n",
    "        print(f\"Accuracy on training data: {gam.accuracy(X_train, y_train)}\")\n",
    "        print(f\"Accuracy on test data: {gam.accuracy(X_test, y_test)}\")\n",
    "        print(\"-\" * 30)\n",
    "        \n",
    "    return my_gams,X\n",
    "\n",
    "do_regression()"
   ]
  },
  {
   "cell_type": "code",
   "execution_count": null,
   "metadata": {},
   "outputs": [],
   "source": []
  },
  {
   "cell_type": "code",
   "execution_count": null,
   "metadata": {},
   "outputs": [],
   "source": []
  },
  {
   "cell_type": "code",
   "execution_count": null,
   "metadata": {},
   "outputs": [],
   "source": []
  },
  {
   "cell_type": "code",
   "execution_count": null,
   "metadata": {},
   "outputs": [],
   "source": []
  },
  {
   "cell_type": "code",
   "execution_count": 21,
   "metadata": {},
   "outputs": [
    {
     "name": "stdout",
     "output_type": "stream",
     "text": [
      "Model for hierarchical:\n",
      "Accuracy on training data: 0.8301886792452831\n",
      "Accuracy on test data: 0.7861635220125787\n",
      "------------------------------\n",
      "Model for randomize:\n",
      "Accuracy on training data: 0.7547169811320755\n",
      "Accuracy on test data: 0.7044025157232704\n",
      "------------------------------\n"
     ]
    },
    {
     "name": "stderr",
     "output_type": "stream",
     "text": [
      "/Users/ignacioojea/anaconda3/lib/python3.10/site-packages/pygam/pygam.py:1151: RuntimeWarning: invalid value encountered in scalar divide\n",
      "  r2['McFadden'] = full_ll / null_ll\n",
      "/Users/ignacioojea/anaconda3/lib/python3.10/site-packages/pygam/pygam.py:1152: RuntimeWarning: invalid value encountered in scalar divide\n",
      "  r2['McFadden_adj'] = 1.0 - (full_ll - self.statistics_['edof']) / null_ll\n",
      "/Users/ignacioojea/anaconda3/lib/python3.10/site-packages/pygam/pygam.py:1151: RuntimeWarning: invalid value encountered in scalar divide\n",
      "  r2['McFadden'] = full_ll / null_ll\n",
      "/Users/ignacioojea/anaconda3/lib/python3.10/site-packages/pygam/pygam.py:1152: RuntimeWarning: invalid value encountered in scalar divide\n",
      "  r2['McFadden_adj'] = 1.0 - (full_ll - self.statistics_['edof']) / null_ll\n"
     ]
    },
    {
     "data": {
      "text/plain": [
       "({'hierarchical': LogisticGAM(callbacks=[Deviance(), Diffs(), Accuracy()], \n",
       "     fit_intercept=True, max_iter=100, terms=s(0) + intercept, \n",
       "     tol=0.0001, verbose=False),\n",
       "  'randomize': LogisticGAM(callbacks=[Deviance(), Diffs(), Accuracy()], \n",
       "     fit_intercept=True, max_iter=100, terms=s(0) + intercept, \n",
       "     tol=0.0001, verbose=False)},\n",
       "      n_agents  uncertainty  p_rewiring  mean_degree\n",
       " 10        115     0.009738    0.867927     9.391304\n",
       " 11        302     0.007404    0.215158    11.688742\n",
       " 12        238     0.001524    0.231605    18.857143\n",
       " 13         51     0.005738    0.375522     3.686275\n",
       " 14         34     0.007960    0.430805     5.235294\n",
       " ...       ...          ...         ...          ...\n",
       " 1055      275     0.008866    0.145741     5.912727\n",
       " 1056      366     0.001473    0.826891    61.311475\n",
       " 1057      120     0.003437    0.197620    18.016667\n",
       " 1058      291     0.006569    0.159598    41.498282\n",
       " 1059      443     0.006120    0.675676    26.492099\n",
       " \n",
       " [530 rows x 4 columns])"
      ]
     },
     "execution_count": 21,
     "metadata": {},
     "output_type": "execute_result"
    }
   ],
   "source": [
    "def do_regression(results_df=bayes_results_df,variable_of_interest = 'true_consensus'):\n",
    "    # Splitting the DataFrame by network type\n",
    "    network_types = results_df['rewiring_type'].unique()\n",
    "\n",
    "    my_gams = {}\n",
    "\n",
    "    for network_type in network_types:\n",
    "        # Subset the DataFrame by network type\n",
    "        subset = results_df[results_df['rewiring_type'] == network_type]\n",
    "        \n",
    "        # Preparing the data\n",
    "        X = subset[['n_agents','uncertainty','p_rewiring','mean_degree']]\n",
    "        y = subset[variable_of_interest]#.astype(int)  # Convert boolean to integer\n",
    "        \n",
    "        # Splitting the data into training and testing sets for model validation\n",
    "        X_train, X_test, y_train, y_test = train_test_split(X, y, test_size=0.3, random_state=42)\n",
    "        \n",
    "        # Fitting the Logistic GAM model\n",
    "        gam = LogisticGAM(s(0,n_splines=6)).fit(X_train, y_train)\n",
    "        \n",
    "        # Storing the model\n",
    "        my_gams[network_type] = gam\n",
    "        \n",
    "        # Optionally, you can print out model accuracy or other statistics here\n",
    "        print(f\"Model for {network_type}:\")\n",
    "        print(f\"Accuracy on training data: {gam.accuracy(X_train, y_train)}\")\n",
    "        print(f\"Accuracy on test data: {gam.accuracy(X_test, y_test)}\")\n",
    "        print(\"-\" * 30)\n",
    "        \n",
    "    return my_gams,X\n",
    "\n",
    "do_regression()"
   ]
  },
  {
   "cell_type": "code",
   "execution_count": null,
   "metadata": {},
   "outputs": [
    {
     "data": {
      "text/html": [
       "<div>\n",
       "<style scoped>\n",
       "    .dataframe tbody tr th:only-of-type {\n",
       "        vertical-align: middle;\n",
       "    }\n",
       "\n",
       "    .dataframe tbody tr th {\n",
       "        vertical-align: top;\n",
       "    }\n",
       "\n",
       "    .dataframe thead th {\n",
       "        text-align: right;\n",
       "    }\n",
       "</style>\n",
       "<table border=\"1\" class=\"dataframe\">\n",
       "  <thead>\n",
       "    <tr style=\"text-align: right;\">\n",
       "      <th></th>\n",
       "      <th>n_agents</th>\n",
       "      <th>uncertainty</th>\n",
       "      <th>p_rewiring</th>\n",
       "      <th>mean_degree</th>\n",
       "    </tr>\n",
       "  </thead>\n",
       "  <tbody>\n",
       "    <tr>\n",
       "      <th>10</th>\n",
       "      <td>142</td>\n",
       "      <td>0.007550</td>\n",
       "      <td>0.100761</td>\n",
       "      <td>23.281690</td>\n",
       "    </tr>\n",
       "    <tr>\n",
       "      <th>11</th>\n",
       "      <td>190</td>\n",
       "      <td>0.008980</td>\n",
       "      <td>0.756384</td>\n",
       "      <td>26.442105</td>\n",
       "    </tr>\n",
       "    <tr>\n",
       "      <th>12</th>\n",
       "      <td>44</td>\n",
       "      <td>0.002884</td>\n",
       "      <td>0.916358</td>\n",
       "      <td>1.863636</td>\n",
       "    </tr>\n",
       "    <tr>\n",
       "      <th>13</th>\n",
       "      <td>375</td>\n",
       "      <td>0.009186</td>\n",
       "      <td>0.710161</td>\n",
       "      <td>49.413333</td>\n",
       "    </tr>\n",
       "    <tr>\n",
       "      <th>14</th>\n",
       "      <td>80</td>\n",
       "      <td>0.006021</td>\n",
       "      <td>0.951762</td>\n",
       "      <td>13.600000</td>\n",
       "    </tr>\n",
       "  </tbody>\n",
       "</table>\n",
       "</div>"
      ],
      "text/plain": [
       "   n_agents  uncertainty  p_rewiring  mean_degree\n",
       "10      142     0.007550    0.100761    23.281690\n",
       "11      190     0.008980    0.756384    26.442105\n",
       "12       44     0.002884    0.916358     1.863636\n",
       "13      375     0.009186    0.710161    49.413333\n",
       "14       80     0.006021    0.951762    13.600000"
      ]
     },
     "execution_count": 185,
     "metadata": {},
     "output_type": "execute_result"
    }
   ],
   "source": [
    "X.head()"
   ]
  },
  {
   "cell_type": "code",
   "execution_count": 22,
   "metadata": {},
   "outputs": [],
   "source": [
    "def plot_regression(results_df=bayes_results_df,variable_of_interest = 'true_consensus'):\n",
    "    my_gams,X = do_regression(results_df=results_df,variable_of_interest = variable_of_interest)\n",
    "    # Set the size of the figure\n",
    "    plt.figure(figsize=(10, 6))\n",
    "\n",
    "    cmap= cmaps.colorblind_10\n",
    "\n",
    "    X_range = np.linspace(X['n_agents'].min(), X['n_agents'].max(), 100)\n",
    "\n",
    "    colors =[cmap(0), cmap(1/cmap.N), cmap(1/cmap.N*2)]\n",
    "\n",
    "    for i, (network_type, gam) in enumerate(my_gams.items()):\n",
    "        conf = gam.confidence_intervals(X_range.reshape(-1, 1), width=0.95, quantiles=None)\n",
    "        plt.fill_between(X_range, conf[:, 0], conf[:, 1], facecolor=colors[i], alpha=0.2, interpolate=True)\n",
    "\n",
    "\n",
    "    for i, (network_type, gam) in enumerate(my_gams.items()):\n",
    "        # Generating a range of values for n_agents to predict and plot\n",
    "        # Predicting with the model\n",
    "        #y_pred, conf = pdep, confi = model.partial_dependence(term=0, width=.95)\n",
    "        y_pred = gam.predict_proba(X_range.reshape(-1, 1))\n",
    "\n",
    "        # Plotting predicted probabilities\n",
    "        plt.plot(X_range, y_pred,c=colors[i], label=f'{network_type}')\n",
    "        \n",
    "    # Adding title, labels, and legend\n",
    "    plt.title('Effect of n_agents on '+ variable_of_interest +' Probability')\n",
    "    plt.xlabel('Number of Agents')\n",
    "    plt.ylabel('Probability of ' +variable_of_interest)\n",
    "    plt.legend()\n",
    "    plt.show()"
   ]
  },
  {
   "cell_type": "code",
   "execution_count": 23,
   "metadata": {},
   "outputs": [
    {
     "name": "stderr",
     "output_type": "stream",
     "text": [
      "/Users/ignacioojea/anaconda3/lib/python3.10/site-packages/pygam/pygam.py:1151: RuntimeWarning: invalid value encountered in scalar divide\n",
      "  r2['McFadden'] = full_ll / null_ll\n",
      "/Users/ignacioojea/anaconda3/lib/python3.10/site-packages/pygam/pygam.py:1152: RuntimeWarning: invalid value encountered in scalar divide\n",
      "  r2['McFadden_adj'] = 1.0 - (full_ll - self.statistics_['edof']) / null_ll\n",
      "/Users/ignacioojea/anaconda3/lib/python3.10/site-packages/pygam/pygam.py:1151: RuntimeWarning: invalid value encountered in scalar divide\n",
      "  r2['McFadden'] = full_ll / null_ll\n",
      "/Users/ignacioojea/anaconda3/lib/python3.10/site-packages/pygam/pygam.py:1152: RuntimeWarning: invalid value encountered in scalar divide\n",
      "  r2['McFadden_adj'] = 1.0 - (full_ll - self.statistics_['edof']) / null_ll\n"
     ]
    },
    {
     "name": "stdout",
     "output_type": "stream",
     "text": [
      "Model for hierarchical:\n",
      "Accuracy on training data: 0.8301886792452831\n",
      "Accuracy on test data: 0.7861635220125787\n",
      "------------------------------\n",
      "Model for randomize:\n",
      "Accuracy on training data: 0.7547169811320755\n",
      "Accuracy on test data: 0.7044025157232704\n",
      "------------------------------\n"
     ]
    },
    {
     "ename": "ValueError",
     "evalue": "X data must have 4 features, but found 1",
     "output_type": "error",
     "traceback": [
      "\u001b[0;31m---------------------------------------------------------------------------\u001b[0m",
      "\u001b[0;31mValueError\u001b[0m                                Traceback (most recent call last)",
      "Cell \u001b[0;32mIn[23], line 1\u001b[0m\n\u001b[0;32m----> 1\u001b[0m \u001b[43mplot_regression\u001b[49m\u001b[43m(\u001b[49m\u001b[43mbayes_results_df\u001b[49m\u001b[43m)\u001b[49m\n",
      "Cell \u001b[0;32mIn[22], line 13\u001b[0m, in \u001b[0;36mplot_regression\u001b[0;34m(results_df, variable_of_interest)\u001b[0m\n\u001b[1;32m     10\u001b[0m colors \u001b[38;5;241m=\u001b[39m[cmap(\u001b[38;5;241m0\u001b[39m), cmap(\u001b[38;5;241m1\u001b[39m\u001b[38;5;241m/\u001b[39mcmap\u001b[38;5;241m.\u001b[39mN), cmap(\u001b[38;5;241m1\u001b[39m\u001b[38;5;241m/\u001b[39mcmap\u001b[38;5;241m.\u001b[39mN\u001b[38;5;241m*\u001b[39m\u001b[38;5;241m2\u001b[39m)]\n\u001b[1;32m     12\u001b[0m \u001b[38;5;28;01mfor\u001b[39;00m i, (network_type, gam) \u001b[38;5;129;01min\u001b[39;00m \u001b[38;5;28menumerate\u001b[39m(my_gams\u001b[38;5;241m.\u001b[39mitems()):\n\u001b[0;32m---> 13\u001b[0m     conf \u001b[38;5;241m=\u001b[39m \u001b[43mgam\u001b[49m\u001b[38;5;241;43m.\u001b[39;49m\u001b[43mconfidence_intervals\u001b[49m\u001b[43m(\u001b[49m\u001b[43mX_range\u001b[49m\u001b[38;5;241;43m.\u001b[39;49m\u001b[43mreshape\u001b[49m\u001b[43m(\u001b[49m\u001b[38;5;241;43m-\u001b[39;49m\u001b[38;5;241;43m1\u001b[39;49m\u001b[43m,\u001b[49m\u001b[43m \u001b[49m\u001b[38;5;241;43m1\u001b[39;49m\u001b[43m)\u001b[49m\u001b[43m,\u001b[49m\u001b[43m \u001b[49m\u001b[43mwidth\u001b[49m\u001b[38;5;241;43m=\u001b[39;49m\u001b[38;5;241;43m0.95\u001b[39;49m\u001b[43m,\u001b[49m\u001b[43m \u001b[49m\u001b[43mquantiles\u001b[49m\u001b[38;5;241;43m=\u001b[39;49m\u001b[38;5;28;43;01mNone\u001b[39;49;00m\u001b[43m)\u001b[49m\n\u001b[1;32m     14\u001b[0m     plt\u001b[38;5;241m.\u001b[39mfill_between(X_range, conf[:, \u001b[38;5;241m0\u001b[39m], conf[:, \u001b[38;5;241m1\u001b[39m], facecolor\u001b[38;5;241m=\u001b[39mcolors[i], alpha\u001b[38;5;241m=\u001b[39m\u001b[38;5;241m0.2\u001b[39m, interpolate\u001b[38;5;241m=\u001b[39m\u001b[38;5;28;01mTrue\u001b[39;00m)\n\u001b[1;32m     17\u001b[0m \u001b[38;5;28;01mfor\u001b[39;00m i, (network_type, gam) \u001b[38;5;129;01min\u001b[39;00m \u001b[38;5;28menumerate\u001b[39m(my_gams\u001b[38;5;241m.\u001b[39mitems()):\n\u001b[1;32m     18\u001b[0m     \u001b[38;5;66;03m# Generating a range of values for n_agents to predict and plot\u001b[39;00m\n\u001b[1;32m     19\u001b[0m     \u001b[38;5;66;03m# Predicting with the model\u001b[39;00m\n\u001b[1;32m     20\u001b[0m     \u001b[38;5;66;03m#y_pred, conf = pdep, confi = model.partial_dependence(term=0, width=.95)\u001b[39;00m\n",
      "File \u001b[0;32m~/anaconda3/lib/python3.10/site-packages/pygam/pygam.py:1324\u001b[0m, in \u001b[0;36mGAM.confidence_intervals\u001b[0;34m(self, X, width, quantiles)\u001b[0m\n\u001b[1;32m   1321\u001b[0m \u001b[38;5;28;01mif\u001b[39;00m \u001b[38;5;129;01mnot\u001b[39;00m \u001b[38;5;28mself\u001b[39m\u001b[38;5;241m.\u001b[39m_is_fitted:\n\u001b[1;32m   1322\u001b[0m     \u001b[38;5;28;01mraise\u001b[39;00m \u001b[38;5;167;01mAttributeError\u001b[39;00m(\u001b[38;5;124m'\u001b[39m\u001b[38;5;124mGAM has not been fitted. Call fit first.\u001b[39m\u001b[38;5;124m'\u001b[39m)\n\u001b[0;32m-> 1324\u001b[0m X \u001b[38;5;241m=\u001b[39m \u001b[43mcheck_X\u001b[49m\u001b[43m(\u001b[49m\n\u001b[1;32m   1325\u001b[0m \u001b[43m    \u001b[49m\u001b[43mX\u001b[49m\u001b[43m,\u001b[49m\n\u001b[1;32m   1326\u001b[0m \u001b[43m    \u001b[49m\u001b[43mn_feats\u001b[49m\u001b[38;5;241;43m=\u001b[39;49m\u001b[38;5;28;43mself\u001b[39;49m\u001b[38;5;241;43m.\u001b[39;49m\u001b[43mstatistics_\u001b[49m\u001b[43m[\u001b[49m\u001b[38;5;124;43m'\u001b[39;49m\u001b[38;5;124;43mm_features\u001b[39;49m\u001b[38;5;124;43m'\u001b[39;49m\u001b[43m]\u001b[49m\u001b[43m,\u001b[49m\n\u001b[1;32m   1327\u001b[0m \u001b[43m    \u001b[49m\u001b[43medge_knots\u001b[49m\u001b[38;5;241;43m=\u001b[39;49m\u001b[38;5;28;43mself\u001b[39;49m\u001b[38;5;241;43m.\u001b[39;49m\u001b[43medge_knots_\u001b[49m\u001b[43m,\u001b[49m\n\u001b[1;32m   1328\u001b[0m \u001b[43m    \u001b[49m\u001b[43mdtypes\u001b[49m\u001b[38;5;241;43m=\u001b[39;49m\u001b[38;5;28;43mself\u001b[39;49m\u001b[38;5;241;43m.\u001b[39;49m\u001b[43mdtype\u001b[49m\u001b[43m,\u001b[49m\n\u001b[1;32m   1329\u001b[0m \u001b[43m    \u001b[49m\u001b[43mfeatures\u001b[49m\u001b[38;5;241;43m=\u001b[39;49m\u001b[38;5;28;43mself\u001b[39;49m\u001b[38;5;241;43m.\u001b[39;49m\u001b[43mfeature\u001b[49m\u001b[43m,\u001b[49m\n\u001b[1;32m   1330\u001b[0m \u001b[43m    \u001b[49m\u001b[43mverbose\u001b[49m\u001b[38;5;241;43m=\u001b[39;49m\u001b[38;5;28;43mself\u001b[39;49m\u001b[38;5;241;43m.\u001b[39;49m\u001b[43mverbose\u001b[49m\u001b[43m,\u001b[49m\n\u001b[1;32m   1331\u001b[0m \u001b[43m\u001b[49m\u001b[43m)\u001b[49m\n\u001b[1;32m   1333\u001b[0m \u001b[38;5;28;01mreturn\u001b[39;00m \u001b[38;5;28mself\u001b[39m\u001b[38;5;241m.\u001b[39m_get_quantiles(X, width, quantiles, prediction\u001b[38;5;241m=\u001b[39m\u001b[38;5;28;01mFalse\u001b[39;00m)\n",
      "File \u001b[0;32m~/anaconda3/lib/python3.10/site-packages/pygam/utils.py:305\u001b[0m, in \u001b[0;36mcheck_X\u001b[0;34m(X, n_feats, min_samples, edge_knots, dtypes, features, verbose)\u001b[0m\n\u001b[1;32m    302\u001b[0m     n_feats \u001b[38;5;241m=\u001b[39m \u001b[38;5;28mmax\u001b[39m(n_feats, max_feat)\n\u001b[1;32m    304\u001b[0m \u001b[38;5;66;03m# basic diagnostics\u001b[39;00m\n\u001b[0;32m--> 305\u001b[0m X \u001b[38;5;241m=\u001b[39m \u001b[43mcheck_array\u001b[49m\u001b[43m(\u001b[49m\n\u001b[1;32m    306\u001b[0m \u001b[43m    \u001b[49m\u001b[43mX\u001b[49m\u001b[43m,\u001b[49m\n\u001b[1;32m    307\u001b[0m \u001b[43m    \u001b[49m\u001b[43mforce_2d\u001b[49m\u001b[38;5;241;43m=\u001b[39;49m\u001b[38;5;28;43;01mTrue\u001b[39;49;00m\u001b[43m,\u001b[49m\n\u001b[1;32m    308\u001b[0m \u001b[43m    \u001b[49m\u001b[43mn_feats\u001b[49m\u001b[38;5;241;43m=\u001b[39;49m\u001b[43mn_feats\u001b[49m\u001b[43m,\u001b[49m\n\u001b[1;32m    309\u001b[0m \u001b[43m    \u001b[49m\u001b[43mmin_samples\u001b[49m\u001b[38;5;241;43m=\u001b[39;49m\u001b[43mmin_samples\u001b[49m\u001b[43m,\u001b[49m\n\u001b[1;32m    310\u001b[0m \u001b[43m    \u001b[49m\u001b[43mname\u001b[49m\u001b[38;5;241;43m=\u001b[39;49m\u001b[38;5;124;43m'\u001b[39;49m\u001b[38;5;124;43mX data\u001b[39;49m\u001b[38;5;124;43m'\u001b[39;49m\u001b[43m,\u001b[49m\n\u001b[1;32m    311\u001b[0m \u001b[43m    \u001b[49m\u001b[43mverbose\u001b[49m\u001b[38;5;241;43m=\u001b[39;49m\u001b[43mverbose\u001b[49m\u001b[43m,\u001b[49m\n\u001b[1;32m    312\u001b[0m \u001b[43m\u001b[49m\u001b[43m)\u001b[49m\n\u001b[1;32m    314\u001b[0m \u001b[38;5;66;03m# check our categorical data has no new categories\u001b[39;00m\n\u001b[1;32m    315\u001b[0m \u001b[38;5;28;01mif\u001b[39;00m (edge_knots \u001b[38;5;129;01mis\u001b[39;00m \u001b[38;5;129;01mnot\u001b[39;00m \u001b[38;5;28;01mNone\u001b[39;00m) \u001b[38;5;129;01mand\u001b[39;00m (dtypes \u001b[38;5;129;01mis\u001b[39;00m \u001b[38;5;129;01mnot\u001b[39;00m \u001b[38;5;28;01mNone\u001b[39;00m) \u001b[38;5;129;01mand\u001b[39;00m (features \u001b[38;5;129;01mis\u001b[39;00m \u001b[38;5;129;01mnot\u001b[39;00m \u001b[38;5;28;01mNone\u001b[39;00m):\n\u001b[1;32m    316\u001b[0m     \u001b[38;5;66;03m# get a flattened list of tuples\u001b[39;00m\n",
      "File \u001b[0;32m~/anaconda3/lib/python3.10/site-packages/pygam/utils.py:196\u001b[0m, in \u001b[0;36mcheck_array\u001b[0;34m(array, force_2d, n_feats, ndim, min_samples, name, verbose)\u001b[0m\n\u001b[1;32m    194\u001b[0m     m \u001b[38;5;241m=\u001b[39m array\u001b[38;5;241m.\u001b[39mshape[\u001b[38;5;241m1\u001b[39m]\n\u001b[1;32m    195\u001b[0m     \u001b[38;5;28;01mif\u001b[39;00m m \u001b[38;5;241m!=\u001b[39m n_feats:\n\u001b[0;32m--> 196\u001b[0m         \u001b[38;5;28;01mraise\u001b[39;00m \u001b[38;5;167;01mValueError\u001b[39;00m(\n\u001b[1;32m    197\u001b[0m             \u001b[38;5;124m'\u001b[39m\u001b[38;5;132;01m{}\u001b[39;00m\u001b[38;5;124m must have \u001b[39m\u001b[38;5;132;01m{}\u001b[39;00m\u001b[38;5;124m features, \u001b[39m\u001b[38;5;124m'\u001b[39m \u001b[38;5;124m'\u001b[39m\u001b[38;5;124mbut found \u001b[39m\u001b[38;5;132;01m{}\u001b[39;00m\u001b[38;5;124m'\u001b[39m\u001b[38;5;241m.\u001b[39mformat(name, n_feats, m)\n\u001b[1;32m    198\u001b[0m         )\n\u001b[1;32m    200\u001b[0m \u001b[38;5;66;03m# minimum samples\u001b[39;00m\n\u001b[1;32m    201\u001b[0m n \u001b[38;5;241m=\u001b[39m array\u001b[38;5;241m.\u001b[39mshape[\u001b[38;5;241m0\u001b[39m]\n",
      "\u001b[0;31mValueError\u001b[0m: X data must have 4 features, but found 1"
     ]
    },
    {
     "data": {
      "text/plain": [
       "<Figure size 1000x600 with 0 Axes>"
      ]
     },
     "metadata": {},
     "output_type": "display_data"
    }
   ],
   "source": [
    "plot_regression(bayes_results_df)"
   ]
  },
  {
   "cell_type": "code",
   "execution_count": null,
   "metadata": {},
   "outputs": [
    {
     "ename": "KeyError",
     "evalue": "\"['degree'] not in index\"",
     "output_type": "error",
     "traceback": [
      "\u001b[0;31m---------------------------------------------------------------------------\u001b[0m",
      "\u001b[0;31mKeyError\u001b[0m                                  Traceback (most recent call last)",
      "Cell \u001b[0;32mIn[114], line 1\u001b[0m\n\u001b[0;32m----> 1\u001b[0m \u001b[43mplot_full\u001b[49m\u001b[43m(\u001b[49m\u001b[43mresults_df\u001b[49m\u001b[38;5;241;43m=\u001b[39;49m\u001b[43mbayes_results_df\u001b[49m\u001b[43m,\u001b[49m\u001b[43mvariable_of_interest\u001b[49m\u001b[43m \u001b[49m\u001b[38;5;241;43m=\u001b[39;49m\u001b[43m \u001b[49m\u001b[38;5;124;43m'\u001b[39;49m\u001b[38;5;124;43mtrue_consensus\u001b[39;49m\u001b[38;5;124;43m'\u001b[39;49m\u001b[43m)\u001b[49m\n\u001b[1;32m      2\u001b[0m plot_full(results_df\u001b[38;5;241m=\u001b[39mbayes_results_df,variable_of_interest \u001b[38;5;241m=\u001b[39m \u001b[38;5;124m'\u001b[39m\u001b[38;5;124mchoice_consensus\u001b[39m\u001b[38;5;124m'\u001b[39m)\n\u001b[1;32m      3\u001b[0m plot_full(results_df\u001b[38;5;241m=\u001b[39mbayes_results_df,variable_of_interest \u001b[38;5;241m=\u001b[39m \u001b[38;5;124m'\u001b[39m\u001b[38;5;124mconvergence_step\u001b[39m\u001b[38;5;124m'\u001b[39m)\n",
      "Cell \u001b[0;32mIn[113], line 6\u001b[0m, in \u001b[0;36mplot_full\u001b[0;34m(results_df, variable_of_interest)\u001b[0m\n\u001b[1;32m      4\u001b[0m \u001b[38;5;28;01mdef\u001b[39;00m \u001b[38;5;21mplot_full\u001b[39m(results_df\u001b[38;5;241m=\u001b[39mresults_df,variable_of_interest \u001b[38;5;241m=\u001b[39m \u001b[38;5;124m'\u001b[39m\u001b[38;5;124mtrue_consensus\u001b[39m\u001b[38;5;124m'\u001b[39m): \u001b[38;5;66;03m#this also does the regression\u001b[39;00m\n\u001b[1;32m      5\u001b[0m     \u001b[38;5;66;03m# Preparing the data for true consensus\u001b[39;00m\n\u001b[0;32m----> 6\u001b[0m     X \u001b[38;5;241m=\u001b[39m \u001b[43mresults_df\u001b[49m\u001b[43m[\u001b[49m\u001b[43m[\u001b[49m\u001b[38;5;124;43m'\u001b[39;49m\u001b[38;5;124;43mn_agents\u001b[39;49m\u001b[38;5;124;43m'\u001b[39;49m\u001b[43m,\u001b[49m\u001b[43m \u001b[49m\u001b[38;5;124;43m'\u001b[39;49m\u001b[38;5;124;43mdegree\u001b[39;49m\u001b[38;5;124;43m'\u001b[39;49m\u001b[43m,\u001b[49m\u001b[43m \u001b[49m\u001b[38;5;124;43m'\u001b[39;49m\u001b[38;5;124;43mp_rewiring\u001b[39;49m\u001b[38;5;124;43m'\u001b[39;49m\u001b[43m]\u001b[49m\u001b[43m]\u001b[49m\n\u001b[1;32m      7\u001b[0m     y \u001b[38;5;241m=\u001b[39m results_df[variable_of_interest]\u001b[38;5;241m.\u001b[39mastype(\u001b[38;5;28mint\u001b[39m)  \u001b[38;5;66;03m# Convert boolean to integer\u001b[39;00m\n\u001b[1;32m      9\u001b[0m     \u001b[38;5;66;03m# Splitting the data into training and testing sets for model validation\u001b[39;00m\n",
      "File \u001b[0;32m~/anaconda3/lib/python3.10/site-packages/pandas/core/frame.py:3767\u001b[0m, in \u001b[0;36mDataFrame.__getitem__\u001b[0;34m(self, key)\u001b[0m\n\u001b[1;32m   3765\u001b[0m     \u001b[38;5;28;01mif\u001b[39;00m is_iterator(key):\n\u001b[1;32m   3766\u001b[0m         key \u001b[38;5;241m=\u001b[39m \u001b[38;5;28mlist\u001b[39m(key)\n\u001b[0;32m-> 3767\u001b[0m     indexer \u001b[38;5;241m=\u001b[39m \u001b[38;5;28;43mself\u001b[39;49m\u001b[38;5;241;43m.\u001b[39;49m\u001b[43mcolumns\u001b[49m\u001b[38;5;241;43m.\u001b[39;49m\u001b[43m_get_indexer_strict\u001b[49m\u001b[43m(\u001b[49m\u001b[43mkey\u001b[49m\u001b[43m,\u001b[49m\u001b[43m \u001b[49m\u001b[38;5;124;43m\"\u001b[39;49m\u001b[38;5;124;43mcolumns\u001b[39;49m\u001b[38;5;124;43m\"\u001b[39;49m\u001b[43m)\u001b[49m[\u001b[38;5;241m1\u001b[39m]\n\u001b[1;32m   3769\u001b[0m \u001b[38;5;66;03m# take() does not accept boolean indexers\u001b[39;00m\n\u001b[1;32m   3770\u001b[0m \u001b[38;5;28;01mif\u001b[39;00m \u001b[38;5;28mgetattr\u001b[39m(indexer, \u001b[38;5;124m\"\u001b[39m\u001b[38;5;124mdtype\u001b[39m\u001b[38;5;124m\"\u001b[39m, \u001b[38;5;28;01mNone\u001b[39;00m) \u001b[38;5;241m==\u001b[39m \u001b[38;5;28mbool\u001b[39m:\n",
      "File \u001b[0;32m~/anaconda3/lib/python3.10/site-packages/pandas/core/indexes/base.py:5877\u001b[0m, in \u001b[0;36mIndex._get_indexer_strict\u001b[0;34m(self, key, axis_name)\u001b[0m\n\u001b[1;32m   5874\u001b[0m \u001b[38;5;28;01melse\u001b[39;00m:\n\u001b[1;32m   5875\u001b[0m     keyarr, indexer, new_indexer \u001b[38;5;241m=\u001b[39m \u001b[38;5;28mself\u001b[39m\u001b[38;5;241m.\u001b[39m_reindex_non_unique(keyarr)\n\u001b[0;32m-> 5877\u001b[0m \u001b[38;5;28;43mself\u001b[39;49m\u001b[38;5;241;43m.\u001b[39;49m\u001b[43m_raise_if_missing\u001b[49m\u001b[43m(\u001b[49m\u001b[43mkeyarr\u001b[49m\u001b[43m,\u001b[49m\u001b[43m \u001b[49m\u001b[43mindexer\u001b[49m\u001b[43m,\u001b[49m\u001b[43m \u001b[49m\u001b[43maxis_name\u001b[49m\u001b[43m)\u001b[49m\n\u001b[1;32m   5879\u001b[0m keyarr \u001b[38;5;241m=\u001b[39m \u001b[38;5;28mself\u001b[39m\u001b[38;5;241m.\u001b[39mtake(indexer)\n\u001b[1;32m   5880\u001b[0m \u001b[38;5;28;01mif\u001b[39;00m \u001b[38;5;28misinstance\u001b[39m(key, Index):\n\u001b[1;32m   5881\u001b[0m     \u001b[38;5;66;03m# GH 42790 - Preserve name from an Index\u001b[39;00m\n",
      "File \u001b[0;32m~/anaconda3/lib/python3.10/site-packages/pandas/core/indexes/base.py:5941\u001b[0m, in \u001b[0;36mIndex._raise_if_missing\u001b[0;34m(self, key, indexer, axis_name)\u001b[0m\n\u001b[1;32m   5938\u001b[0m     \u001b[38;5;28;01mraise\u001b[39;00m \u001b[38;5;167;01mKeyError\u001b[39;00m(\u001b[38;5;124mf\u001b[39m\u001b[38;5;124m\"\u001b[39m\u001b[38;5;124mNone of [\u001b[39m\u001b[38;5;132;01m{\u001b[39;00mkey\u001b[38;5;132;01m}\u001b[39;00m\u001b[38;5;124m] are in the [\u001b[39m\u001b[38;5;132;01m{\u001b[39;00maxis_name\u001b[38;5;132;01m}\u001b[39;00m\u001b[38;5;124m]\u001b[39m\u001b[38;5;124m\"\u001b[39m)\n\u001b[1;32m   5940\u001b[0m not_found \u001b[38;5;241m=\u001b[39m \u001b[38;5;28mlist\u001b[39m(ensure_index(key)[missing_mask\u001b[38;5;241m.\u001b[39mnonzero()[\u001b[38;5;241m0\u001b[39m]]\u001b[38;5;241m.\u001b[39munique())\n\u001b[0;32m-> 5941\u001b[0m \u001b[38;5;28;01mraise\u001b[39;00m \u001b[38;5;167;01mKeyError\u001b[39;00m(\u001b[38;5;124mf\u001b[39m\u001b[38;5;124m\"\u001b[39m\u001b[38;5;132;01m{\u001b[39;00mnot_found\u001b[38;5;132;01m}\u001b[39;00m\u001b[38;5;124m not in index\u001b[39m\u001b[38;5;124m\"\u001b[39m)\n",
      "\u001b[0;31mKeyError\u001b[0m: \"['degree'] not in index\""
     ]
    }
   ],
   "source": [
    "plot_full(results_df=bayes_results_df,variable_of_interest = 'true_consensus')\n",
    "plot_full(results_df=bayes_results_df,variable_of_interest = 'choice_consensus')\n",
    "plot_full(results_df=bayes_results_df,variable_of_interest = 'convergence_step')"
   ]
  }
 ],
 "metadata": {
  "kernelspec": {
   "display_name": "base",
   "language": "python",
   "name": "python3"
  },
  "language_info": {
   "codemirror_mode": {
    "name": "ipython",
    "version": 3
   },
   "file_extension": ".py",
   "mimetype": "text/x-python",
   "name": "python",
   "nbconvert_exporter": "python",
   "pygments_lexer": "ipython3",
   "version": "3.10.9"
  }
 },
 "nbformat": 4,
 "nbformat_minor": 2
}
