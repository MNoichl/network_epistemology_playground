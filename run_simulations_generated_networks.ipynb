{
 "cells": [
  {
   "cell_type": "markdown",
   "metadata": {},
   "source": [
    "# Setup"
   ]
  },
  {
   "cell_type": "code",
   "execution_count": 32,
   "metadata": {},
   "outputs": [],
   "source": [
    "import numpy as np\n",
    "from agents_clean import Agent\n",
    "from model_clean import Model\n",
    "from hybrid_networks_clean import rewire_network, randomize_network_v2, create_hybrid_network\n",
    "from tqdm import tqdm\n",
    "import networkx as nx\n",
    "import pandas as pd\n",
    "import random\n",
    "from simulations_functions_clean import generate_parameters_1, run_simulation_with_params, run_simulations\n",
    "import numbers"
   ]
  },
  {
   "cell_type": "markdown",
   "metadata": {},
   "source": [
    "# Generate Parameters"
   ]
  },
  {
   "cell_type": "code",
   "execution_count": 33,
   "metadata": {},
   "outputs": [],
   "source": [
    "def generate_parameters_1(n,rewiring_type='hierarchical'):\n",
    "    params_list = []\n",
    "    for _ in range(n):\n",
    "        n_agents = random.randint(10, 500)\n",
    "        ba_degree = random.randint(1, int(n_agents/10))\n",
    "        er_prob=random.uniform(0, 0.3)\n",
    "        p_rewiring = random.uniform(0, 1)\n",
    "        if rewiring_type=='hierarchical':\n",
    "            G_er = nx.gnp_random_graph(n_agents, er_prob, directed=True)\n",
    "            network = rewire_network(G_er, p_rewiring=p_rewiring)\n",
    "        if rewiring_type=='randomize':\n",
    "            G_ba = nx.barabasi_albert_graph(n_agents, ba_degree)\n",
    "            network = randomize_network_v2(G_ba, p_rewiring=p_rewiring)\n",
    "        uncertainty = random.uniform(0.001,0.01)\n",
    "        n_experiments = random.randint(1, 1000)\n",
    "        params = {\n",
    "            \"n_agents\": n_agents,\n",
    "            \"ba_degree\": ba_degree,\n",
    "            \"er_prob\":er_prob,\n",
    "            \"p_rewiring\": p_rewiring,\n",
    "            \"network\": network,\n",
    "            \"uncertainty\": uncertainty,\n",
    "            \"n_experiments\": n_experiments,\n",
    "            \"rewiring_type\":rewiring_type\n",
    "        }\n",
    "        params_list.append(params)\n",
    "    return params_list"
   ]
  },
  {
   "cell_type": "code",
   "execution_count": 34,
   "metadata": {},
   "outputs": [
    {
     "data": {
      "text/plain": [
       "[{'n_agents': 449,\n",
       "  'ba_degree': 28,\n",
       "  'er_prob': 0.15509329321279014,\n",
       "  'p_rewiring': 0.9759147509579581,\n",
       "  'network': <networkx.classes.graph.Graph at 0x7fb4d55b1ab0>,\n",
       "  'uncertainty': 0.0062259389242187635,\n",
       "  'n_experiments': 713,\n",
       "  'rewiring_type': 'randomize'},\n",
       " {'n_agents': 227,\n",
       "  'ba_degree': 7,\n",
       "  'er_prob': 0.04812164251943406,\n",
       "  'p_rewiring': 0.7328902953049773,\n",
       "  'network': <networkx.classes.graph.Graph at 0x7fb4d6e20370>,\n",
       "  'uncertainty': 0.002638766837492727,\n",
       "  'n_experiments': 348,\n",
       "  'rewiring_type': 'randomize'}]"
      ]
     },
     "execution_count": 34,
     "metadata": {},
     "output_type": "execute_result"
    }
   ],
   "source": [
    "# Example usage\n",
    "parameter_dictionaries = generate_parameters_1(2,rewiring_type='randomize')  # Generate parameter dictionaries\n",
    "parameter_dictionaries"
   ]
  },
  {
   "cell_type": "markdown",
   "metadata": {},
   "source": [
    "# Simulation Functions"
   ]
  },
  {
   "cell_type": "code",
   "execution_count": 35,
   "metadata": {},
   "outputs": [],
   "source": [
    "def run_simulation_with_params(param_dict, number_of_steps=1000, show_bar=False,agent_type=\"beta\"):\n",
    "    # Extract the network directly since it's already a NetworkX graph object\n",
    "    my_network = param_dict['network']\n",
    "    # Other parameters are directly extracted from the dictionary\n",
    "    my_model = Model(my_network, n_experiments=param_dict['n_experiments'], uncertainty=param_dict['uncertainty']\n",
    "                    , agent_type=agent_type)\n",
    "    # Run the simulation with predefined steps and show_bar option\n",
    "    \n",
    "    my_model.run_simulation(number_of_steps=number_of_steps, show_bar=show_bar)\n",
    "  \n",
    "    \n",
    "\n",
    "    result_dict = {\n",
    "        key: value \n",
    "        for key, value in param_dict.items() \n",
    "        if isinstance(value, (numbers.Number, str, tuple, list))}   \n",
    "    result_dict['true_consensus'] = my_model.conclusion\n",
    "    result_dict['true_consensus_alternative_stop'] = my_model.conclusion_alternative_stop\n",
    "    df = pd.DataFrame(my_model.agents_choices) \n",
    "    result_dict['choice_consensus'] = df.mean()[len(df.mean())-1]\n",
    "    result_dict['convergence_step'] = my_model.n_steps # takes note of the last reported step\n",
    "    result_dict['agent_type']=agent_type\n",
    "    \n",
    "    return result_dict\n",
    "\n",
    "\n",
    "def run_simulations(param_list, number_of_steps=1000, show_bar=False,agent_type=\"beta\"):\n",
    "    def run_simulation(param_dict):\n",
    "        return run_simulation_with_params(param_dict, number_of_steps=number_of_steps, show_bar=show_bar,agent_type=agent_type)\n",
    "    \n",
    "    results = []\n",
    "    # Iterate over each parameter dictionary in the list\n",
    "    for params in tqdm(param_list, desc=\"Running simulations\"):\n",
    "        result = run_simulation(params)\n",
    "        results.append(result)\n",
    "    \n",
    "    # Convert the list of results into a Pandas DataFrame\n",
    "    results_df = pd.DataFrame(results)\n",
    "    return results_df"
   ]
  },
  {
   "cell_type": "markdown",
   "metadata": {},
   "source": [
    "# Run Simulations"
   ]
  },
  {
   "cell_type": "code",
   "execution_count": 36,
   "metadata": {},
   "outputs": [
    {
     "name": "stderr",
     "output_type": "stream",
     "text": [
      "Running simulations:   0%|          | 0/2 [00:00<?, ?it/s]"
     ]
    },
    {
     "name": "stderr",
     "output_type": "stream",
     "text": [
      "Running simulations: 100%|██████████| 2/2 [01:30<00:00, 45.20s/it]"
     ]
    },
    {
     "name": "stdout",
     "output_type": "stream",
     "text": [
      "   n_agents  ba_degree   er_prob  p_rewiring  uncertainty  n_experiments  \\\n",
      "0       449         28  0.155093    0.975915     0.006226            713   \n",
      "1       227          7  0.048122    0.732890     0.002639            348   \n",
      "\n",
      "  rewiring_type  true_consensus  true_consensus_alternative_stop  \\\n",
      "0     randomize             1.0                            False   \n",
      "1     randomize             1.0                            False   \n",
      "\n",
      "   choice_consensus  convergence_step agent_type  \n",
      "0               1.0              1000       beta  \n",
      "1               1.0              1000       beta  \n"
     ]
    },
    {
     "name": "stderr",
     "output_type": "stream",
     "text": [
      "\n"
     ]
    }
   ],
   "source": [
    "parameter_dictionaries = generate_parameters_1(2,rewiring_type='randomize')  # Generate parameter dictionaries\n",
    "print(parameter_dictionaries)\n",
    "results_df = run_simulations(parameter_dictionaries, number_of_steps=1000, show_bar=False,agent_type=\"bayes\")\n",
    "results_df.head()"
   ]
  },
  {
   "cell_type": "code",
   "execution_count": 37,
   "metadata": {},
   "outputs": [
    {
     "data": {
      "text/html": [
       "<div>\n",
       "<style scoped>\n",
       "    .dataframe tbody tr th:only-of-type {\n",
       "        vertical-align: middle;\n",
       "    }\n",
       "\n",
       "    .dataframe tbody tr th {\n",
       "        vertical-align: top;\n",
       "    }\n",
       "\n",
       "    .dataframe thead th {\n",
       "        text-align: right;\n",
       "    }\n",
       "</style>\n",
       "<table border=\"1\" class=\"dataframe\">\n",
       "  <thead>\n",
       "    <tr style=\"text-align: right;\">\n",
       "      <th></th>\n",
       "      <th>n_agents</th>\n",
       "      <th>ba_degree</th>\n",
       "      <th>er_prob</th>\n",
       "      <th>p_rewiring</th>\n",
       "      <th>uncertainty</th>\n",
       "      <th>n_experiments</th>\n",
       "      <th>rewiring_type</th>\n",
       "      <th>true_consensus</th>\n",
       "      <th>true_consensus_alternative_stop</th>\n",
       "      <th>choice_consensus</th>\n",
       "      <th>convergence_step</th>\n",
       "      <th>agent_type</th>\n",
       "    </tr>\n",
       "  </thead>\n",
       "  <tbody>\n",
       "    <tr>\n",
       "      <th>0</th>\n",
       "      <td>449</td>\n",
       "      <td>28</td>\n",
       "      <td>0.155093</td>\n",
       "      <td>0.975915</td>\n",
       "      <td>0.006226</td>\n",
       "      <td>713</td>\n",
       "      <td>randomize</td>\n",
       "      <td>1.0</td>\n",
       "      <td>False</td>\n",
       "      <td>1.0</td>\n",
       "      <td>1000</td>\n",
       "      <td>beta</td>\n",
       "    </tr>\n",
       "    <tr>\n",
       "      <th>1</th>\n",
       "      <td>227</td>\n",
       "      <td>7</td>\n",
       "      <td>0.048122</td>\n",
       "      <td>0.732890</td>\n",
       "      <td>0.002639</td>\n",
       "      <td>348</td>\n",
       "      <td>randomize</td>\n",
       "      <td>1.0</td>\n",
       "      <td>False</td>\n",
       "      <td>1.0</td>\n",
       "      <td>1000</td>\n",
       "      <td>beta</td>\n",
       "    </tr>\n",
       "  </tbody>\n",
       "</table>\n",
       "</div>"
      ],
      "text/plain": [
       "   n_agents  ba_degree   er_prob  p_rewiring  uncertainty  n_experiments  \\\n",
       "0       449         28  0.155093    0.975915     0.006226            713   \n",
       "1       227          7  0.048122    0.732890     0.002639            348   \n",
       "\n",
       "  rewiring_type  true_consensus  true_consensus_alternative_stop  \\\n",
       "0     randomize             1.0                            False   \n",
       "1     randomize             1.0                            False   \n",
       "\n",
       "   choice_consensus  convergence_step agent_type  \n",
       "0               1.0              1000       beta  \n",
       "1               1.0              1000       beta  "
      ]
     },
     "execution_count": 37,
     "metadata": {},
     "output_type": "execute_result"
    }
   ],
   "source": [
    "results_df.head()"
   ]
  },
  {
   "cell_type": "code",
   "execution_count": null,
   "metadata": {},
   "outputs": [],
   "source": [
    "results_df.to_csv('results_df.csv', index=False)"
   ]
  }
 ],
 "metadata": {
  "kernelspec": {
   "display_name": "base",
   "language": "python",
   "name": "python3"
  },
  "language_info": {
   "codemirror_mode": {
    "name": "ipython",
    "version": 3
   },
   "file_extension": ".py",
   "mimetype": "text/x-python",
   "name": "python",
   "nbconvert_exporter": "python",
   "pygments_lexer": "ipython3",
   "version": "3.10.9"
  }
 },
 "nbformat": 4,
 "nbformat_minor": 2
}
